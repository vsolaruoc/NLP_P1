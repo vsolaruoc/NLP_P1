{
  "cells": [
    {
      "cell_type": "markdown",
      "id": "1894f082",
      "metadata": {
        "id": "1894f082"
      },
      "source": [
        "<div style=\"width: 100%; clear: both;\">\n",
        "<div style=\"float: left; width: 50%;\">\n",
        "<img src=\"https://www.uoc.edu/content/dam/news/images/noticies/2016/202-nova-marca-uoc.jpg\", align=\"left\" width=\"380\" height=\"120\">\n",
        "</div>\n",
        "</div>\n",
        "<div style=\"float: right; width: 50%;\">\n",
        "<p style=\"margin: 0; padding-top: 22px; text-align:right;\">M2.893 - Análisis de textos</p>\n",
        "<p style=\"margin: 0; text-align:right;\">Máster en Ciencia de Datos </p>\n",
        "<p style=\"margin: 0; text-align:right; padding-button: 100px;\">Estudios de Informática, Multimedia y Telecomunicaciones</p>\n",
        "</div>\n",
        "</div>\n",
        "<div style=\"width: 100%; clear: both;\">\n",
        "<div style=\"width:100%;\">&nbsp;</div>\n",
        "\n",
        "\n",
        "# Procesamiento y análisis de información textual (PRA1)\n",
        "\n",
        "En la PRA1 trabajaremos con un dataset de reseñas (opiniones o reviews) y lo analizaremos siguiendo un conjunto de tareas: pasando por la preparación y limpieza de los datos, hasta la evaluación de modelos de clasificación de sentimientos. Por lo tanto, los objetivos de esta actividad son:\n",
        "\n",
        "- Aplicar técnicas de procesamiento de lenguaje natural para limpiar y preprocesar los datos del dataset elegido.\n",
        "- Implementar algoritmos de aprendizaje automático, como LDA y clasificación supervisada, para analizar los textos de las reseñas.\n",
        "- Evaluar el rendimiento de los modelos creados, utilizando las métricas adecuadas\n",
        "\n",
        "Entonces, en esta primera práctica, revisaremos y aplicaremos los conocimientos aprendidos en los primeros módulos de la asignatura. Concretamente trataremos los siguientes temas.\n",
        "\n",
        "<ul>\n",
        "<li>1. Elección y preparación del dataset (10%).\n",
        "<li>2. Obtención de datos (30%).\n",
        "<li>3. Detección de temas (30%).\n",
        "<li>4. Clasificación automática de opiniones positivas y negativas (20%).\n",
        "<li>5. Evaluación (10%).\n",
        "</ul>\n",
        "  \n",
        "A continuación, se describe la estructura de la práctica a realizar. Considerar que por cada apartado, se han planteado varios ejercicios a resolver; y en algunos pocos casos, se deja la solución para orientar un poco mejor el desarrollo."
      ]
    },
    {
      "cell_type": "code",
      "execution_count": null,
      "id": "02783e52-8d17-47ea-aa0b-8d32613cac63",
      "metadata": {
        "id": "02783e52-8d17-47ea-aa0b-8d32613cac63"
      },
      "outputs": [],
      "source": [
        "import warnings\n",
        "warnings.filterwarnings('ignore', category=DeprecationWarning)"
      ]
    },
    {
      "cell_type": "markdown",
      "id": "1ce11941-7b11-4a49-8a18-6fe3bdd9e3dc",
      "metadata": {
        "id": "1ce11941-7b11-4a49-8a18-6fe3bdd9e3dc"
      },
      "source": [
        "# 1. Elección y preparación del dataset\n"
      ]
    },
    {
      "cell_type": "markdown",
      "id": "bb0bf012",
      "metadata": {
        "id": "bb0bf012"
      },
      "source": [
        "## 1.1. Descripción y carga del dataset\n",
        "\n",
        "<div style=\"background-color: #EDF7FF; border-color: #7C9DBF; border-left: 5px solid #7C9DBF; padding: 1em;\">\n",
        "\n",
        "<strong>Ejercicio 1.1.1:</strong> En palabras, describir el título del dataset seleccionado, la dirección original (fuente), y una descripción del mismo.\n",
        "\n",
        "</div>"
      ]
    },
    {
      "cell_type": "markdown",
      "id": "usrsRuOTa-BA",
      "metadata": {
        "id": "usrsRuOTa-BA"
      },
      "source": [
        "#############################################\n",
        "\n",
        "**Título**:\n",
        "\n",
        "Yelp Coffee Reviews\n",
        "\n",
        "**Fuente**:\n",
        "\n",
        "https://www.kaggle.com/datasets/sripaadsrinivasan/yelp-coffee-reviews\n",
        "\n",
        "**Descripción**:\n",
        "\n",
        "El dataset está compuesto por 7616 opiniones de las cafeterías de la ciudad de Austin.\n",
        "        \n",
        "#############################################\n",
        "\n",
        "\n"
      ]
    },
    {
      "cell_type": "markdown",
      "id": "vJpqjBndVvFT",
      "metadata": {
        "id": "vJpqjBndVvFT"
      },
      "source": [
        "<div style=\"background-color: #EDF7FF; border-color: #7C9DBF; border-left: 5px solid #7C9DBF; padding: 1em;\">\n",
        "\n",
        "<strong>Ejercicio 1.1.2:</strong> Carga del dataset y descripción de sus principales características: tamaño, estructura, distribución de clase/rating, distribución de longitudes de texto, exploración preliminar del texto de las opiniones (orientada a descubrir potenciales tareas de limpieza a realizar).\n",
        "\n",
        "</div>\n",
        "\n",
        "<b>Importante</b>: En caso de haber elegido un dataset sin una columna que denote el sentimiento de cada texto, pero, sí el rating, en este ejercicio, agregar una nueva columna de sentimiento. Por ejemplo, si tenemos los valores 1 a 5 para rating, podríamos considerar a los valores de 1 y 2, como sentimiento negativo (0), y a los valores 4 y 5 como positivo (1). Por ahora, nos vamos a centrar en la clasificación binaria, por tanto, no es necesario considerar a los valores de sentimiento “neutral” o rating=3\n",
        "\n",
        "\n"
      ]
    },
    {
      "cell_type": "code",
      "execution_count": null,
      "id": "bbf74bac",
      "metadata": {
        "id": "bbf74bac",
        "colab": {
          "base_uri": "https://localhost:8080/",
          "height": 258
        },
        "outputId": "9aa9762f-b11c-460a-d99f-8bf4f7db67c4"
      },
      "outputs": [
        {
          "output_type": "stream",
          "name": "stdout",
          "text": [
            "Drive already mounted at /content/drive; to attempt to forcibly remount, call drive.mount(\"/content/drive\", force_remount=True).\n",
            "\n",
            "Tamaño del dataset: (7616, 3)\n"
          ]
        },
        {
          "output_type": "execute_result",
          "data": {
            "text/plain": [
              "           coffee_shop_name  \\\n",
              "1321         Flitch Coffee    \n",
              "3007               Halcyon    \n",
              "1972          Epoch Coffee    \n",
              "132   Vintage Heart Coffee    \n",
              "1430          Caffe Medici    \n",
              "\n",
              "                                       full_review_text        star_rating  \n",
              "1321   12/9/2015 What a cool place! Real baristas no...   5.0 star rating   \n",
              "3007   12/4/2016 1 check-in Listed in ATX The vibe i...   2.0 star rating   \n",
              "1972   7/9/2014 Updated review I like Epoch coffee s...   3.0 star rating   \n",
              "132    5/26/2016 This place is soooo rockin! The sta...   5.0 star rating   \n",
              "1430   2/7/2014 I have never had a great experience ...   2.0 star rating   "
            ],
            "text/html": [
              "\n",
              "  <div id=\"df-325041e1-7385-4ad4-aa26-3e4e6e725170\" class=\"colab-df-container\">\n",
              "    <div>\n",
              "<style scoped>\n",
              "    .dataframe tbody tr th:only-of-type {\n",
              "        vertical-align: middle;\n",
              "    }\n",
              "\n",
              "    .dataframe tbody tr th {\n",
              "        vertical-align: top;\n",
              "    }\n",
              "\n",
              "    .dataframe thead th {\n",
              "        text-align: right;\n",
              "    }\n",
              "</style>\n",
              "<table border=\"1\" class=\"dataframe\">\n",
              "  <thead>\n",
              "    <tr style=\"text-align: right;\">\n",
              "      <th></th>\n",
              "      <th>coffee_shop_name</th>\n",
              "      <th>full_review_text</th>\n",
              "      <th>star_rating</th>\n",
              "    </tr>\n",
              "  </thead>\n",
              "  <tbody>\n",
              "    <tr>\n",
              "      <th>1321</th>\n",
              "      <td>Flitch Coffee</td>\n",
              "      <td>12/9/2015 What a cool place! Real baristas no...</td>\n",
              "      <td>5.0 star rating</td>\n",
              "    </tr>\n",
              "    <tr>\n",
              "      <th>3007</th>\n",
              "      <td>Halcyon</td>\n",
              "      <td>12/4/2016 1 check-in Listed in ATX The vibe i...</td>\n",
              "      <td>2.0 star rating</td>\n",
              "    </tr>\n",
              "    <tr>\n",
              "      <th>1972</th>\n",
              "      <td>Epoch Coffee</td>\n",
              "      <td>7/9/2014 Updated review I like Epoch coffee s...</td>\n",
              "      <td>3.0 star rating</td>\n",
              "    </tr>\n",
              "    <tr>\n",
              "      <th>132</th>\n",
              "      <td>Vintage Heart Coffee</td>\n",
              "      <td>5/26/2016 This place is soooo rockin! The sta...</td>\n",
              "      <td>5.0 star rating</td>\n",
              "    </tr>\n",
              "    <tr>\n",
              "      <th>1430</th>\n",
              "      <td>Caffe Medici</td>\n",
              "      <td>2/7/2014 I have never had a great experience ...</td>\n",
              "      <td>2.0 star rating</td>\n",
              "    </tr>\n",
              "  </tbody>\n",
              "</table>\n",
              "</div>\n",
              "    <div class=\"colab-df-buttons\">\n",
              "\n",
              "  <div class=\"colab-df-container\">\n",
              "    <button class=\"colab-df-convert\" onclick=\"convertToInteractive('df-325041e1-7385-4ad4-aa26-3e4e6e725170')\"\n",
              "            title=\"Convert this dataframe to an interactive table.\"\n",
              "            style=\"display:none;\">\n",
              "\n",
              "  <svg xmlns=\"http://www.w3.org/2000/svg\" height=\"24px\" viewBox=\"0 -960 960 960\">\n",
              "    <path d=\"M120-120v-720h720v720H120Zm60-500h600v-160H180v160Zm220 220h160v-160H400v160Zm0 220h160v-160H400v160ZM180-400h160v-160H180v160Zm440 0h160v-160H620v160ZM180-180h160v-160H180v160Zm440 0h160v-160H620v160Z\"/>\n",
              "  </svg>\n",
              "    </button>\n",
              "\n",
              "  <style>\n",
              "    .colab-df-container {\n",
              "      display:flex;\n",
              "      gap: 12px;\n",
              "    }\n",
              "\n",
              "    .colab-df-convert {\n",
              "      background-color: #E8F0FE;\n",
              "      border: none;\n",
              "      border-radius: 50%;\n",
              "      cursor: pointer;\n",
              "      display: none;\n",
              "      fill: #1967D2;\n",
              "      height: 32px;\n",
              "      padding: 0 0 0 0;\n",
              "      width: 32px;\n",
              "    }\n",
              "\n",
              "    .colab-df-convert:hover {\n",
              "      background-color: #E2EBFA;\n",
              "      box-shadow: 0px 1px 2px rgba(60, 64, 67, 0.3), 0px 1px 3px 1px rgba(60, 64, 67, 0.15);\n",
              "      fill: #174EA6;\n",
              "    }\n",
              "\n",
              "    .colab-df-buttons div {\n",
              "      margin-bottom: 4px;\n",
              "    }\n",
              "\n",
              "    [theme=dark] .colab-df-convert {\n",
              "      background-color: #3B4455;\n",
              "      fill: #D2E3FC;\n",
              "    }\n",
              "\n",
              "    [theme=dark] .colab-df-convert:hover {\n",
              "      background-color: #434B5C;\n",
              "      box-shadow: 0px 1px 3px 1px rgba(0, 0, 0, 0.15);\n",
              "      filter: drop-shadow(0px 1px 2px rgba(0, 0, 0, 0.3));\n",
              "      fill: #FFFFFF;\n",
              "    }\n",
              "  </style>\n",
              "\n",
              "    <script>\n",
              "      const buttonEl =\n",
              "        document.querySelector('#df-325041e1-7385-4ad4-aa26-3e4e6e725170 button.colab-df-convert');\n",
              "      buttonEl.style.display =\n",
              "        google.colab.kernel.accessAllowed ? 'block' : 'none';\n",
              "\n",
              "      async function convertToInteractive(key) {\n",
              "        const element = document.querySelector('#df-325041e1-7385-4ad4-aa26-3e4e6e725170');\n",
              "        const dataTable =\n",
              "          await google.colab.kernel.invokeFunction('convertToInteractive',\n",
              "                                                    [key], {});\n",
              "        if (!dataTable) return;\n",
              "\n",
              "        const docLinkHtml = 'Like what you see? Visit the ' +\n",
              "          '<a target=\"_blank\" href=https://colab.research.google.com/notebooks/data_table.ipynb>data table notebook</a>'\n",
              "          + ' to learn more about interactive tables.';\n",
              "        element.innerHTML = '';\n",
              "        dataTable['output_type'] = 'display_data';\n",
              "        await google.colab.output.renderOutput(dataTable, element);\n",
              "        const docLink = document.createElement('div');\n",
              "        docLink.innerHTML = docLinkHtml;\n",
              "        element.appendChild(docLink);\n",
              "      }\n",
              "    </script>\n",
              "  </div>\n",
              "\n",
              "\n",
              "<div id=\"df-d644b77f-f04b-472a-92b5-13a7f9b6b090\">\n",
              "  <button class=\"colab-df-quickchart\" onclick=\"quickchart('df-d644b77f-f04b-472a-92b5-13a7f9b6b090')\"\n",
              "            title=\"Suggest charts\"\n",
              "            style=\"display:none;\">\n",
              "\n",
              "<svg xmlns=\"http://www.w3.org/2000/svg\" height=\"24px\"viewBox=\"0 0 24 24\"\n",
              "     width=\"24px\">\n",
              "    <g>\n",
              "        <path d=\"M19 3H5c-1.1 0-2 .9-2 2v14c0 1.1.9 2 2 2h14c1.1 0 2-.9 2-2V5c0-1.1-.9-2-2-2zM9 17H7v-7h2v7zm4 0h-2V7h2v10zm4 0h-2v-4h2v4z\"/>\n",
              "    </g>\n",
              "</svg>\n",
              "  </button>\n",
              "\n",
              "<style>\n",
              "  .colab-df-quickchart {\n",
              "      --bg-color: #E8F0FE;\n",
              "      --fill-color: #1967D2;\n",
              "      --hover-bg-color: #E2EBFA;\n",
              "      --hover-fill-color: #174EA6;\n",
              "      --disabled-fill-color: #AAA;\n",
              "      --disabled-bg-color: #DDD;\n",
              "  }\n",
              "\n",
              "  [theme=dark] .colab-df-quickchart {\n",
              "      --bg-color: #3B4455;\n",
              "      --fill-color: #D2E3FC;\n",
              "      --hover-bg-color: #434B5C;\n",
              "      --hover-fill-color: #FFFFFF;\n",
              "      --disabled-bg-color: #3B4455;\n",
              "      --disabled-fill-color: #666;\n",
              "  }\n",
              "\n",
              "  .colab-df-quickchart {\n",
              "    background-color: var(--bg-color);\n",
              "    border: none;\n",
              "    border-radius: 50%;\n",
              "    cursor: pointer;\n",
              "    display: none;\n",
              "    fill: var(--fill-color);\n",
              "    height: 32px;\n",
              "    padding: 0;\n",
              "    width: 32px;\n",
              "  }\n",
              "\n",
              "  .colab-df-quickchart:hover {\n",
              "    background-color: var(--hover-bg-color);\n",
              "    box-shadow: 0 1px 2px rgba(60, 64, 67, 0.3), 0 1px 3px 1px rgba(60, 64, 67, 0.15);\n",
              "    fill: var(--button-hover-fill-color);\n",
              "  }\n",
              "\n",
              "  .colab-df-quickchart-complete:disabled,\n",
              "  .colab-df-quickchart-complete:disabled:hover {\n",
              "    background-color: var(--disabled-bg-color);\n",
              "    fill: var(--disabled-fill-color);\n",
              "    box-shadow: none;\n",
              "  }\n",
              "\n",
              "  .colab-df-spinner {\n",
              "    border: 2px solid var(--fill-color);\n",
              "    border-color: transparent;\n",
              "    border-bottom-color: var(--fill-color);\n",
              "    animation:\n",
              "      spin 1s steps(1) infinite;\n",
              "  }\n",
              "\n",
              "  @keyframes spin {\n",
              "    0% {\n",
              "      border-color: transparent;\n",
              "      border-bottom-color: var(--fill-color);\n",
              "      border-left-color: var(--fill-color);\n",
              "    }\n",
              "    20% {\n",
              "      border-color: transparent;\n",
              "      border-left-color: var(--fill-color);\n",
              "      border-top-color: var(--fill-color);\n",
              "    }\n",
              "    30% {\n",
              "      border-color: transparent;\n",
              "      border-left-color: var(--fill-color);\n",
              "      border-top-color: var(--fill-color);\n",
              "      border-right-color: var(--fill-color);\n",
              "    }\n",
              "    40% {\n",
              "      border-color: transparent;\n",
              "      border-right-color: var(--fill-color);\n",
              "      border-top-color: var(--fill-color);\n",
              "    }\n",
              "    60% {\n",
              "      border-color: transparent;\n",
              "      border-right-color: var(--fill-color);\n",
              "    }\n",
              "    80% {\n",
              "      border-color: transparent;\n",
              "      border-right-color: var(--fill-color);\n",
              "      border-bottom-color: var(--fill-color);\n",
              "    }\n",
              "    90% {\n",
              "      border-color: transparent;\n",
              "      border-bottom-color: var(--fill-color);\n",
              "    }\n",
              "  }\n",
              "</style>\n",
              "\n",
              "  <script>\n",
              "    async function quickchart(key) {\n",
              "      const quickchartButtonEl =\n",
              "        document.querySelector('#' + key + ' button');\n",
              "      quickchartButtonEl.disabled = true;  // To prevent multiple clicks.\n",
              "      quickchartButtonEl.classList.add('colab-df-spinner');\n",
              "      try {\n",
              "        const charts = await google.colab.kernel.invokeFunction(\n",
              "            'suggestCharts', [key], {});\n",
              "      } catch (error) {\n",
              "        console.error('Error during call to suggestCharts:', error);\n",
              "      }\n",
              "      quickchartButtonEl.classList.remove('colab-df-spinner');\n",
              "      quickchartButtonEl.classList.add('colab-df-quickchart-complete');\n",
              "    }\n",
              "    (() => {\n",
              "      let quickchartButtonEl =\n",
              "        document.querySelector('#df-d644b77f-f04b-472a-92b5-13a7f9b6b090 button');\n",
              "      quickchartButtonEl.style.display =\n",
              "        google.colab.kernel.accessAllowed ? 'block' : 'none';\n",
              "    })();\n",
              "  </script>\n",
              "</div>\n",
              "\n",
              "    </div>\n",
              "  </div>\n"
            ],
            "application/vnd.google.colaboratory.intrinsic+json": {
              "type": "dataframe",
              "summary": "{\n  \"name\": \"df\",\n  \"rows\": 5,\n  \"fields\": [\n    {\n      \"column\": \"coffee_shop_name\",\n      \"properties\": {\n        \"dtype\": \"string\",\n        \"num_unique_values\": 5,\n        \"samples\": [\n          \"Halcyon \",\n          \"Caffe Medici \",\n          \"Epoch Coffee \"\n        ],\n        \"semantic_type\": \"\",\n        \"description\": \"\"\n      }\n    },\n    {\n      \"column\": \"full_review_text\",\n      \"properties\": {\n        \"dtype\": \"string\",\n        \"num_unique_values\": 5,\n        \"samples\": [\n          \" 12/4/2016 1 check-in Listed in ATX The vibe in here is good, but  a place that still sells cigarettes deserves a couple of stars knocked off, but my lower star review isn't just for that reason.  I visited at 7 pm on a Saturday night and we waited at the bar for five minutes while bartenders just ignored us despite not being busy. The seating is comfortable and appreciated, but either people are supposed to bus their own tables but there's no signage around that, or the staff who again, wasn't busy, didn't bother to bus them and everyone instead had to sit down with other people's trash on the tables. \",\n          \" 2/7/2014 I have never had a great experience here. It is overpriced and overly hipster. I have tried to study here before and the seats were like torture devices. \",\n          \" 7/9/2014 Updated review I like Epoch coffee still. Clean lines, fast wifi, great A/C, new outside seating. I haven't resampled food and I'm not going to buy those pastries sitting there since 8am.  Here's the gig though. It's been 7 months and that bathroom is still a broken down mess. The door to the second stall is still off. The towel dispenser is hanging open like a gaping maw with sodden roll of towel on top. The one bathroom that does function has grimy floors and the TP is off the roll sitting on the handicap bar.  There are 30 people in here and one lonely barista trying to do it all which makes wait times long and her life miserable (I'm sure.) I expect some of these things at the old location which is arguably less put together but I thought they'd fix some of these things in the half year they've been open. \"\n        ],\n        \"semantic_type\": \"\",\n        \"description\": \"\"\n      }\n    },\n    {\n      \"column\": \"star_rating\",\n      \"properties\": {\n        \"dtype\": \"string\",\n        \"num_unique_values\": 3,\n        \"samples\": [\n          \" 5.0 star rating \",\n          \" 2.0 star rating \",\n          \" 3.0 star rating \"\n        ],\n        \"semantic_type\": \"\",\n        \"description\": \"\"\n      }\n    }\n  ]\n}"
            }
          },
          "metadata": {},
          "execution_count": 2
        }
      ],
      "source": [
        "import pandas as pd\n",
        "from google.colab import drive\n",
        "import numpy as np\n",
        "#############################################\n",
        "# SOLUCIÓN                                  #\n",
        "#############################################\n",
        "drive.mount('/content/drive')\n",
        "\n",
        "file_path = '/content/drive/My Drive/UOC/Análisis_de_textos/PRA1/dataset/raw_yelp_review_data.csv'\n",
        "df = pd.read_csv(file_path)\n",
        "\n",
        "# Tamaño\n",
        "print(f'\\nTamaño del dataset: {df.shape}')\n",
        "df.sample(5, random_state=42)"
      ]
    },
    {
      "cell_type": "markdown",
      "source": [
        "El dataset contiene 7616 instancias.\n",
        "\n",
        "En cuanto a la estructura, tiene 3 atributos:\n",
        "- \"coffee_shop_name\": nombre del establecimiento.\n",
        "- \"full_review_text\": texto de la reseña.\n",
        "- \"star_rating\": puntuación en número de estrellas.  \n",
        "\n",
        "Ahora realizaremos varias exploraciones y visualizaciones para ir comprendiendo el dataset y detectar las posibles tareas de limpieza a realizar.\n",
        "\n",
        "- Primero, eliminamos la primera columna ya que no nos hará falta en nuestro análisis.\n",
        "- A continuación, transformamos la columna de puntuaciones obteniendo la puntuación del texto y almacenándola como float.\n",
        "- Finalmente, añadimos columna clasificando las puntuaciones como 1 si son mayores de 3 y como 0 si son menores de 3.  \n",
        "Previamente, hemos eliminado las filas con puntuación de 3 estrellas (738 filas) por no poder clasificarlas como positivas ni como negativas."
      ],
      "metadata": {
        "id": "jILRAyacXOSW"
      },
      "id": "jILRAyacXOSW"
    },
    {
      "cell_type": "code",
      "source": [
        "# Eliminamos columna de nombre de establecimiento\n",
        "try:\n",
        "    df = df.drop(columns = 'coffee_shop_name')\n",
        "except:\n",
        "    print('Columna previamente eliminada.')\n",
        "\n",
        "# Obtenemos la puntuación en formato float de la cadena de texto de la columna star_rating\n",
        "try:\n",
        "    df['star_rating'] = df.star_rating.str.extract(r'([\\d\\.]+)').astype(float)\n",
        "except:\n",
        "    print('Puntuación previamente extraída.')\n",
        "\n",
        "# Eliminamos reseñas de 3 estrellas\n",
        "df = df[df.star_rating != 3]\n",
        "print(f'Muestra: {df.shape}')\n",
        "\n",
        "# Convertimos puntuaciones en 1 si >3 o 0 si <3\n",
        "df['sentiment'] = np.where(df['star_rating'] > 3, 1, 0)\n",
        "print(f'Muestra: {df.head()}')"
      ],
      "metadata": {
        "id": "P1qggkO1VLuy",
        "colab": {
          "base_uri": "https://localhost:8080/"
        },
        "outputId": "5fa06eb0-5515-412f-95b9-43482b8fc24b"
      },
      "id": "P1qggkO1VLuy",
      "execution_count": null,
      "outputs": [
        {
          "output_type": "stream",
          "name": "stdout",
          "text": [
            "Muestra: (6878, 2)\n",
            "Muestra:                                     full_review_text  star_rating  sentiment\n",
            "0   11/25/2016 1 check-in Love love loved the atm...          5.0          1\n",
            "1   12/2/2016 Listed in Date Night: Austin, Ambia...          4.0          1\n",
            "2   11/30/2016 1 check-in Listed in Brunch Spots ...          4.0          1\n",
            "3   11/25/2016 Very cool decor! Good drinks Nice ...          2.0          0\n",
            "4   12/3/2016 1 check-in They are located within ...          4.0          1\n"
          ]
        }
      ]
    },
    {
      "cell_type": "markdown",
      "source": [
        "- Graficamos un histograma para tener una idea de la distribución de las reseñas numéricas y ver el poncentaje de cada clase:"
      ],
      "metadata": {
        "id": "F8_qmC0gbFmQ"
      },
      "id": "F8_qmC0gbFmQ"
    },
    {
      "cell_type": "code",
      "source": [
        "# Distribución de clase/rating\n",
        "df.hist(column='sentiment')\n",
        "\n",
        "# Distribución de calificaciones por sentimiento:\n",
        "df['sentiment'].value_counts(normalize=True) * 100 # valor porcentual"
      ],
      "metadata": {
        "id": "6C9ugtV3aLyT",
        "colab": {
          "base_uri": "https://localhost:8080/",
          "height": 613
        },
        "outputId": "1028a295-e0e5-49e5-ee92-93581e397a00"
      },
      "id": "6C9ugtV3aLyT",
      "execution_count": null,
      "outputs": [
        {
          "output_type": "execute_result",
          "data": {
            "text/plain": [
              "sentiment\n",
              "1    89.270137\n",
              "0    10.729863\n",
              "Name: proportion, dtype: float64"
            ],
            "text/html": [
              "<div>\n",
              "<style scoped>\n",
              "    .dataframe tbody tr th:only-of-type {\n",
              "        vertical-align: middle;\n",
              "    }\n",
              "\n",
              "    .dataframe tbody tr th {\n",
              "        vertical-align: top;\n",
              "    }\n",
              "\n",
              "    .dataframe thead th {\n",
              "        text-align: right;\n",
              "    }\n",
              "</style>\n",
              "<table border=\"1\" class=\"dataframe\">\n",
              "  <thead>\n",
              "    <tr style=\"text-align: right;\">\n",
              "      <th></th>\n",
              "      <th>proportion</th>\n",
              "    </tr>\n",
              "    <tr>\n",
              "      <th>sentiment</th>\n",
              "      <th></th>\n",
              "    </tr>\n",
              "  </thead>\n",
              "  <tbody>\n",
              "    <tr>\n",
              "      <th>1</th>\n",
              "      <td>89.270137</td>\n",
              "    </tr>\n",
              "    <tr>\n",
              "      <th>0</th>\n",
              "      <td>10.729863</td>\n",
              "    </tr>\n",
              "  </tbody>\n",
              "</table>\n",
              "</div><br><label><b>dtype:</b> float64</label>"
            ]
          },
          "metadata": {},
          "execution_count": 4
        },
        {
          "output_type": "display_data",
          "data": {
            "text/plain": [
              "<Figure size 640x480 with 1 Axes>"
            ],
            "image/png": "[encoded data removed]"
          },
          "metadata": {}
        }
      ]
    },
    {
      "cell_type": "markdown",
      "source": [
        "Podemos observar que hay más calificaciones positivas que negativas. 9 de cada 10 clientes ha realizado una reseña positiva."
      ],
      "metadata": {
        "id": "XqrY9BewcGS0"
      },
      "id": "XqrY9BewcGS0"
    },
    {
      "cell_type": "markdown",
      "source": [
        "- Graficamos a longitud de las palabras de cada reseña:"
      ],
      "metadata": {
        "id": "rn4Sqb3K75K0"
      },
      "id": "rn4Sqb3K75K0"
    },
    {
      "cell_type": "code",
      "source": [
        "# Distribución de longitudes de texto\n",
        "def words_counter(text):\n",
        "    if type(text) != float:\n",
        "      return len(text.split()) # contar palabras de cada reseña\n",
        "    else:\n",
        "      return None\n",
        "\n",
        "df['text_length'] =  df['full_review_text'].apply(words_counter)\n",
        "\n",
        "# Graficar histograma de longitud de textos:\n",
        "df.text_length.hist(bins=50)"
      ],
      "metadata": {
        "id": "5oR4mxdYbK3k",
        "colab": {
          "base_uri": "https://localhost:8080/",
          "height": 447
        },
        "outputId": "488cffdd-e677-4203-b3a0-021bffc9b7e5"
      },
      "id": "5oR4mxdYbK3k",
      "execution_count": null,
      "outputs": [
        {
          "output_type": "execute_result",
          "data": {
            "text/plain": [
              "<Axes: >"
            ]
          },
          "metadata": {},
          "execution_count": 5
        },
        {
          "output_type": "display_data",
          "data": {
            "text/plain": [
              "<Figure size 640x480 with 1 Axes>"
            ],
            "image/png": "[encoded data removed]"
          },
          "metadata": {}
        }
      ]
    },
    {
      "cell_type": "markdown",
      "source": [
        "En nuestro caso también podemos ver que hay algunas reseñas bastante cortas."
      ],
      "metadata": {
        "id": "ua1pjtE1_n2q"
      },
      "id": "ua1pjtE1_n2q"
    },
    {
      "cell_type": "code",
      "source": [
        "  #Reseñas muy cortas:\n",
        "df[df.text_length<8]"
      ],
      "metadata": {
        "id": "xVa-HDo6_nct",
        "colab": {
          "base_uri": "https://localhost:8080/",
          "height": 488
        },
        "outputId": "25b7af94-8dce-4fa0-f850-b50227e7d2b5"
      },
      "id": "xVa-HDo6_nct",
      "execution_count": null,
      "outputs": [
        {
          "output_type": "execute_result",
          "data": {
            "text/plain": [
              "                                       full_review_text  star_rating  \\\n",
              "1587             11/17/2016 chill staff and atmosphere           5.0   \n",
              "2129       3/16/2016 Great Americano and fast service.           4.0   \n",
              "2136   2/9/2016 Excellent Vanilla Latte and Awesome ...          5.0   \n",
              "2207        2/8/2015 Place is small but killer coffee.           5.0   \n",
              "2227      10/27/2014 This coffee shop has great staff!           4.0   \n",
              "2416       4/13/2012 Knowledgable, local and friendly.           5.0   \n",
              "2430   10/24/2010 Fantastic place to buy coffee beans.           4.0   \n",
              "3753        7/10/2015 Weird music. But awesome coffee!           5.0   \n",
              "5625    11/25/2015 Great ambiance and lots of seating!           5.0   \n",
              "5865   11/17/2016 Super strong cold brew!!! Great at...          5.0   \n",
              "5886     9/6/2016 Great space, decent drink selection!           4.0   \n",
              "6623         7/30/2015 Nice atmosphere. Good smoothie!           4.0   \n",
              "6997   10/30/2012 Yummy!  Delicious and amazing cupc...          5.0   \n",
              "7231            7/22/2014 Geat pastries. Great Coffee.           5.0   \n",
              "\n",
              "      sentiment  text_length  \n",
              "1587          1            5  \n",
              "2129          1            6  \n",
              "2136          1            7  \n",
              "2207          1            7  \n",
              "2227          1            7  \n",
              "2416          1            5  \n",
              "2430          1            7  \n",
              "3753          1            6  \n",
              "5625          1            7  \n",
              "5865          1            7  \n",
              "5886          1            6  \n",
              "6623          1            5  \n",
              "6997          1            6  \n",
              "7231          1            5  "
            ],
            "text/html": [
              "\n",
              "  <div id=\"df-19fb141b-d586-4814-8837-5c5ea8b20a7b\" class=\"colab-df-container\">\n",
              "    <div>\n",
              "<style scoped>\n",
              "    .dataframe tbody tr th:only-of-type {\n",
              "        vertical-align: middle;\n",
              "    }\n",
              "\n",
              "    .dataframe tbody tr th {\n",
              "        vertical-align: top;\n",
              "    }\n",
              "\n",
              "    .dataframe thead th {\n",
              "        text-align: right;\n",
              "    }\n",
              "</style>\n",
              "<table border=\"1\" class=\"dataframe\">\n",
              "  <thead>\n",
              "    <tr style=\"text-align: right;\">\n",
              "      <th></th>\n",
              "      <th>full_review_text</th>\n",
              "      <th>star_rating</th>\n",
              "      <th>sentiment</th>\n",
              "      <th>text_length</th>\n",
              "    </tr>\n",
              "  </thead>\n",
              "  <tbody>\n",
              "    <tr>\n",
              "      <th>1587</th>\n",
              "      <td>11/17/2016 chill staff and atmosphere</td>\n",
              "      <td>5.0</td>\n",
              "      <td>1</td>\n",
              "      <td>5</td>\n",
              "    </tr>\n",
              "    <tr>\n",
              "      <th>2129</th>\n",
              "      <td>3/16/2016 Great Americano and fast service.</td>\n",
              "      <td>4.0</td>\n",
              "      <td>1</td>\n",
              "      <td>6</td>\n",
              "    </tr>\n",
              "    <tr>\n",
              "      <th>2136</th>\n",
              "      <td>2/9/2016 Excellent Vanilla Latte and Awesome ...</td>\n",
              "      <td>5.0</td>\n",
              "      <td>1</td>\n",
              "      <td>7</td>\n",
              "    </tr>\n",
              "    <tr>\n",
              "      <th>2207</th>\n",
              "      <td>2/8/2015 Place is small but killer coffee.</td>\n",
              "      <td>5.0</td>\n",
              "      <td>1</td>\n",
              "      <td>7</td>\n",
              "    </tr>\n",
              "    <tr>\n",
              "      <th>2227</th>\n",
              "      <td>10/27/2014 This coffee shop has great staff!</td>\n",
              "      <td>4.0</td>\n",
              "      <td>1</td>\n",
              "      <td>7</td>\n",
              "    </tr>\n",
              "    <tr>\n",
              "      <th>2416</th>\n",
              "      <td>4/13/2012 Knowledgable, local and friendly.</td>\n",
              "      <td>5.0</td>\n",
              "      <td>1</td>\n",
              "      <td>5</td>\n",
              "    </tr>\n",
              "    <tr>\n",
              "      <th>2430</th>\n",
              "      <td>10/24/2010 Fantastic place to buy coffee beans.</td>\n",
              "      <td>4.0</td>\n",
              "      <td>1</td>\n",
              "      <td>7</td>\n",
              "    </tr>\n",
              "    <tr>\n",
              "      <th>3753</th>\n",
              "      <td>7/10/2015 Weird music. But awesome coffee!</td>\n",
              "      <td>5.0</td>\n",
              "      <td>1</td>\n",
              "      <td>6</td>\n",
              "    </tr>\n",
              "    <tr>\n",
              "      <th>5625</th>\n",
              "      <td>11/25/2015 Great ambiance and lots of seating!</td>\n",
              "      <td>5.0</td>\n",
              "      <td>1</td>\n",
              "      <td>7</td>\n",
              "    </tr>\n",
              "    <tr>\n",
              "      <th>5865</th>\n",
              "      <td>11/17/2016 Super strong cold brew!!! Great at...</td>\n",
              "      <td>5.0</td>\n",
              "      <td>1</td>\n",
              "      <td>7</td>\n",
              "    </tr>\n",
              "    <tr>\n",
              "      <th>5886</th>\n",
              "      <td>9/6/2016 Great space, decent drink selection!</td>\n",
              "      <td>4.0</td>\n",
              "      <td>1</td>\n",
              "      <td>6</td>\n",
              "    </tr>\n",
              "    <tr>\n",
              "      <th>6623</th>\n",
              "      <td>7/30/2015 Nice atmosphere. Good smoothie!</td>\n",
              "      <td>4.0</td>\n",
              "      <td>1</td>\n",
              "      <td>5</td>\n",
              "    </tr>\n",
              "    <tr>\n",
              "      <th>6997</th>\n",
              "      <td>10/30/2012 Yummy!  Delicious and amazing cupc...</td>\n",
              "      <td>5.0</td>\n",
              "      <td>1</td>\n",
              "      <td>6</td>\n",
              "    </tr>\n",
              "    <tr>\n",
              "      <th>7231</th>\n",
              "      <td>7/22/2014 Geat pastries. Great Coffee.</td>\n",
              "      <td>5.0</td>\n",
              "      <td>1</td>\n",
              "      <td>5</td>\n",
              "    </tr>\n",
              "  </tbody>\n",
              "</table>\n",
              "</div>\n",
              "    <div class=\"colab-df-buttons\">\n",
              "\n",
              "  <div class=\"colab-df-container\">\n",
              "    <button class=\"colab-df-convert\" onclick=\"convertToInteractive('df-19fb141b-d586-4814-8837-5c5ea8b20a7b')\"\n",
              "            title=\"Convert this dataframe to an interactive table.\"\n",
              "            style=\"display:none;\">\n",
              "\n",
              "  <svg xmlns=\"http://www.w3.org/2000/svg\" height=\"24px\" viewBox=\"0 -960 960 960\">\n",
              "    <path d=\"M120-120v-720h720v720H120Zm60-500h600v-160H180v160Zm220 220h160v-160H400v160Zm0 220h160v-160H400v160ZM180-400h160v-160H180v160Zm440 0h160v-160H620v160ZM180-180h160v-160H180v160Zm440 0h160v-160H620v160Z\"/>\n",
              "  </svg>\n",
              "    </button>\n",
              "\n",
              "  <style>\n",
              "    .colab-df-container {\n",
              "      display:flex;\n",
              "      gap: 12px;\n",
              "    }\n",
              "\n",
              "    .colab-df-convert {\n",
              "      background-color: #E8F0FE;\n",
              "      border: none;\n",
              "      border-radius: 50%;\n",
              "      cursor: pointer;\n",
              "      display: none;\n",
              "      fill: #1967D2;\n",
              "      height: 32px;\n",
              "      padding: 0 0 0 0;\n",
              "      width: 32px;\n",
              "    }\n",
              "\n",
              "    .colab-df-convert:hover {\n",
              "      background-color: #E2EBFA;\n",
              "      box-shadow: 0px 1px 2px rgba(60, 64, 67, 0.3), 0px 1px 3px 1px rgba(60, 64, 67, 0.15);\n",
              "      fill: #174EA6;\n",
              "    }\n",
              "\n",
              "    .colab-df-buttons div {\n",
              "      margin-bottom: 4px;\n",
              "    }\n",
              "\n",
              "    [theme=dark] .colab-df-convert {\n",
              "      background-color: #3B4455;\n",
              "      fill: #D2E3FC;\n",
              "    }\n",
              "\n",
              "    [theme=dark] .colab-df-convert:hover {\n",
              "      background-color: #434B5C;\n",
              "      box-shadow: 0px 1px 3px 1px rgba(0, 0, 0, 0.15);\n",
              "      filter: drop-shadow(0px 1px 2px rgba(0, 0, 0, 0.3));\n",
              "      fill: #FFFFFF;\n",
              "    }\n",
              "  </style>\n",
              "\n",
              "    <script>\n",
              "      const buttonEl =\n",
              "        document.querySelector('#df-19fb141b-d586-4814-8837-5c5ea8b20a7b button.colab-df-convert');\n",
              "      buttonEl.style.display =\n",
              "        google.colab.kernel.accessAllowed ? 'block' : 'none';\n",
              "\n",
              "      async function convertToInteractive(key) {\n",
              "        const element = document.querySelector('#df-19fb141b-d586-4814-8837-5c5ea8b20a7b');\n",
              "        const dataTable =\n",
              "          await google.colab.kernel.invokeFunction('convertToInteractive',\n",
              "                                                    [key], {});\n",
              "        if (!dataTable) return;\n",
              "\n",
              "        const docLinkHtml = 'Like what you see? Visit the ' +\n",
              "          '<a target=\"_blank\" href=https://colab.research.google.com/notebooks/data_table.ipynb>data table notebook</a>'\n",
              "          + ' to learn more about interactive tables.';\n",
              "        element.innerHTML = '';\n",
              "        dataTable['output_type'] = 'display_data';\n",
              "        await google.colab.output.renderOutput(dataTable, element);\n",
              "        const docLink = document.createElement('div');\n",
              "        docLink.innerHTML = docLinkHtml;\n",
              "        element.appendChild(docLink);\n",
              "      }\n",
              "    </script>\n",
              "  </div>\n",
              "\n",
              "\n",
              "<div id=\"df-836cbe8d-f3c5-4ce0-894f-3bdc73fc9681\">\n",
              "  <button class=\"colab-df-quickchart\" onclick=\"quickchart('df-836cbe8d-f3c5-4ce0-894f-3bdc73fc9681')\"\n",
              "            title=\"Suggest charts\"\n",
              "            style=\"display:none;\">\n",
              "\n",
              "<svg xmlns=\"http://www.w3.org/2000/svg\" height=\"24px\"viewBox=\"0 0 24 24\"\n",
              "     width=\"24px\">\n",
              "    <g>\n",
              "        <path d=\"M19 3H5c-1.1 0-2 .9-2 2v14c0 1.1.9 2 2 2h14c1.1 0 2-.9 2-2V5c0-1.1-.9-2-2-2zM9 17H7v-7h2v7zm4 0h-2V7h2v10zm4 0h-2v-4h2v4z\"/>\n",
              "    </g>\n",
              "</svg>\n",
              "  </button>\n",
              "\n",
              "<style>\n",
              "  .colab-df-quickchart {\n",
              "      --bg-color: #E8F0FE;\n",
              "      --fill-color: #1967D2;\n",
              "      --hover-bg-color: #E2EBFA;\n",
              "      --hover-fill-color: #174EA6;\n",
              "      --disabled-fill-color: #AAA;\n",
              "      --disabled-bg-color: #DDD;\n",
              "  }\n",
              "\n",
              "  [theme=dark] .colab-df-quickchart {\n",
              "      --bg-color: #3B4455;\n",
              "      --fill-color: #D2E3FC;\n",
              "      --hover-bg-color: #434B5C;\n",
              "      --hover-fill-color: #FFFFFF;\n",
              "      --disabled-bg-color: #3B4455;\n",
              "      --disabled-fill-color: #666;\n",
              "  }\n",
              "\n",
              "  .colab-df-quickchart {\n",
              "    background-color: var(--bg-color);\n",
              "    border: none;\n",
              "    border-radius: 50%;\n",
              "    cursor: pointer;\n",
              "    display: none;\n",
              "    fill: var(--fill-color);\n",
              "    height: 32px;\n",
              "    padding: 0;\n",
              "    width: 32px;\n",
              "  }\n",
              "\n",
              "  .colab-df-quickchart:hover {\n",
              "    background-color: var(--hover-bg-color);\n",
              "    box-shadow: 0 1px 2px rgba(60, 64, 67, 0.3), 0 1px 3px 1px rgba(60, 64, 67, 0.15);\n",
              "    fill: var(--button-hover-fill-color);\n",
              "  }\n",
              "\n",
              "  .colab-df-quickchart-complete:disabled,\n",
              "  .colab-df-quickchart-complete:disabled:hover {\n",
              "    background-color: var(--disabled-bg-color);\n",
              "    fill: var(--disabled-fill-color);\n",
              "    box-shadow: none;\n",
              "  }\n",
              "\n",
              "  .colab-df-spinner {\n",
              "    border: 2px solid var(--fill-color);\n",
              "    border-color: transparent;\n",
              "    border-bottom-color: var(--fill-color);\n",
              "    animation:\n",
              "      spin 1s steps(1) infinite;\n",
              "  }\n",
              "\n",
              "  @keyframes spin {\n",
              "    0% {\n",
              "      border-color: transparent;\n",
              "      border-bottom-color: var(--fill-color);\n",
              "      border-left-color: var(--fill-color);\n",
              "    }\n",
              "    20% {\n",
              "      border-color: transparent;\n",
              "      border-left-color: var(--fill-color);\n",
              "      border-top-color: var(--fill-color);\n",
              "    }\n",
              "    30% {\n",
              "      border-color: transparent;\n",
              "      border-left-color: var(--fill-color);\n",
              "      border-top-color: var(--fill-color);\n",
              "      border-right-color: var(--fill-color);\n",
              "    }\n",
              "    40% {\n",
              "      border-color: transparent;\n",
              "      border-right-color: var(--fill-color);\n",
              "      border-top-color: var(--fill-color);\n",
              "    }\n",
              "    60% {\n",
              "      border-color: transparent;\n",
              "      border-right-color: var(--fill-color);\n",
              "    }\n",
              "    80% {\n",
              "      border-color: transparent;\n",
              "      border-right-color: var(--fill-color);\n",
              "      border-bottom-color: var(--fill-color);\n",
              "    }\n",
              "    90% {\n",
              "      border-color: transparent;\n",
              "      border-bottom-color: var(--fill-color);\n",
              "    }\n",
              "  }\n",
              "</style>\n",
              "\n",
              "  <script>\n",
              "    async function quickchart(key) {\n",
              "      const quickchartButtonEl =\n",
              "        document.querySelector('#' + key + ' button');\n",
              "      quickchartButtonEl.disabled = true;  // To prevent multiple clicks.\n",
              "      quickchartButtonEl.classList.add('colab-df-spinner');\n",
              "      try {\n",
              "        const charts = await google.colab.kernel.invokeFunction(\n",
              "            'suggestCharts', [key], {});\n",
              "      } catch (error) {\n",
              "        console.error('Error during call to suggestCharts:', error);\n",
              "      }\n",
              "      quickchartButtonEl.classList.remove('colab-df-spinner');\n",
              "      quickchartButtonEl.classList.add('colab-df-quickchart-complete');\n",
              "    }\n",
              "    (() => {\n",
              "      let quickchartButtonEl =\n",
              "        document.querySelector('#df-836cbe8d-f3c5-4ce0-894f-3bdc73fc9681 button');\n",
              "      quickchartButtonEl.style.display =\n",
              "        google.colab.kernel.accessAllowed ? 'block' : 'none';\n",
              "    })();\n",
              "  </script>\n",
              "</div>\n",
              "\n",
              "    </div>\n",
              "  </div>\n"
            ],
            "application/vnd.google.colaboratory.intrinsic+json": {
              "type": "dataframe",
              "summary": "{\n  \"name\": \"df[df\",\n  \"rows\": 14,\n  \"fields\": [\n    {\n      \"column\": \"full_review_text\",\n      \"properties\": {\n        \"dtype\": \"string\",\n        \"num_unique_values\": 14,\n        \"samples\": [\n          \" 11/17/2016 Super strong cold brew!!! Great atmosphere \",\n          \" 7/30/2015 Nice atmosphere. Good smoothie! \",\n          \" 11/17/2016 chill staff and atmosphere \"\n        ],\n        \"semantic_type\": \"\",\n        \"description\": \"\"\n      }\n    },\n    {\n      \"column\": \"star_rating\",\n      \"properties\": {\n        \"dtype\": \"number\",\n        \"std\": 0.49724515809884695,\n        \"min\": 4.0,\n        \"max\": 5.0,\n        \"num_unique_values\": 2,\n        \"samples\": [\n          4.0,\n          5.0\n        ],\n        \"semantic_type\": \"\",\n        \"description\": \"\"\n      }\n    },\n    {\n      \"column\": \"sentiment\",\n      \"properties\": {\n        \"dtype\": \"number\",\n        \"std\": 0,\n        \"min\": 1,\n        \"max\": 1,\n        \"num_unique_values\": 1,\n        \"samples\": [\n          1\n        ],\n        \"semantic_type\": \"\",\n        \"description\": \"\"\n      }\n    },\n    {\n      \"column\": \"text_length\",\n      \"properties\": {\n        \"dtype\": \"number\",\n        \"std\": 0,\n        \"min\": 5,\n        \"max\": 7,\n        \"num_unique_values\": 3,\n        \"samples\": [\n          5\n        ],\n        \"semantic_type\": \"\",\n        \"description\": \"\"\n      }\n    }\n  ]\n}"
            }
          },
          "metadata": {},
          "execution_count": 6
        }
      ]
    },
    {
      "cell_type": "markdown",
      "source": [
        "Tras mostrarlas, vemos que todas tienen por lo menos 4 palabras (no contamos la fecha, se eliminará posteriormente en la limpieza del dataset) y todas son bastante comunicativas. Por lo que decidimos mantenerlas."
      ],
      "metadata": {
        "id": "iIa0o_6MAMUB"
      },
      "id": "iIa0o_6MAMUB"
    },
    {
      "cell_type": "markdown",
      "source": [
        "**Exploración preliminar del texto de las opiniones:**\n",
        "- La primera columna del dataset contiene el nombre del establecimiento. Para este análisis no lo necesitamos (eliminada en el código anterior).\n",
        "- Las puntuaciones son una cadena de texto del tipo \" 5.0 star rating \". Anteriormente hemos transformado esta columna para poder obtener la distribución de reseñas positivas y negativas.\n",
        "- El texto de las reseñas empieza con la fecha de publicación.\n",
        "- Gran parte de las reseñas, después de la fecha, incluye un número seguido de la cadena chech-in. Por ejemplo \"2 check-in\". Parecen indicar el número de veces que el cliente ha ido a ese establecimiento.\n",
        "- Los textos contienen elementos como:\n",
        "  - urls\n",
        "  - palabras en mayúsculas\n",
        "  - nombres (algunos representan comidas que ofrecen o el nombre del establecimiento)\n",
        "  - expresiones como $$$ para expresar precio alto\n",
        "  - expresiones como \"meh\" o \"Yum\" o \"OHHHH\"\n",
        "  - carácteres redundantes como \"!!!\" o \"???\""
      ],
      "metadata": {
        "id": "GTjL__F0N6wF"
      },
      "id": "GTjL__F0N6wF"
    },
    {
      "cell_type": "markdown",
      "id": "gmUCKPB5xGjC",
      "metadata": {
        "id": "gmUCKPB5xGjC"
      },
      "source": [
        "## 1.2 Limpieza de texto\n",
        "\n",
        "Antes de trabajar con los textos de las reseñas, hay que limpiarlos. En general, dependiendo del dataset podría ser necesario:\n",
        "\n",
        "1. Eliminar menciones (@), hashtags (#), o código HTML.\n",
        "2. Eliminar páginas web.\n",
        "3. Corregir palabras mal escritas (las que resalten en el corpus).\n",
        "4. Eliminar duplicados.\n",
        "5. Convertir contracciones, (por ejemplo, en lugar de wouldn't, se cambiaría a would not).\n",
        "6. Filtrar tokens no alfabéticos.\n",
        "7. Filtrar signos de puntuación (!) y quitar espacios doble. Se recomienda no quitar el \".\" porque luego se usará este signo para crear la lista de sentencias. Como referencia ver el ejemplo de PRA proporcionado (*Ejemplo_PRA1.ipynb*).\n",
        "9. Convertir texto a minúsculas.\n",
        "\n",
        "Por cada punto, realizar las verificaciones necesarias para determinar la existencia de cada elemento mencionado en el punto anterior (menciones, hashtags, código HTML, páginas web, etc.) e implementar las acciones de limpieza (según se requiera).\n",
        "\n",
        "<b>IMPORTANTE</b>:\n",
        "- Antes de implementar cualquier acción, se sugiere crear una columna, llamada *text*, a partir del contenido de la columna de texto original del datset elegido; y sobre la nueva columna aplicar las tareas de limpieza.\n",
        "- Por cada acción de limpieza realizada, enlistar al menos una reseña que muestre que la función implementada funciona. Es decir, presentar el texto original y el texto transformado (*text*).\n",
        "- Agregar las celdas de texto y código necesarias, de tal manera que se realice las verificaciones sugeridas, y se dé solución a los problemas de calidad de datos encontrados. Como orientación, se recomienda revisar el archivo <b>Ejemplo_PRA1.ipynb</b> para ver la mejor forma de organanizar la solución."
      ]
    },
    {
      "cell_type": "code",
      "execution_count": null,
      "id": "14f55c4a-d217-4b77-800b-e03ce9913f1f",
      "metadata": {
        "id": "14f55c4a-d217-4b77-800b-e03ce9913f1f"
      },
      "outputs": [],
      "source": [
        "# Exploración preliminar del texto de las opiniones (orientada a descubrir potenciales tareas de limpieza a realizar)\n",
        "#Crear la columna 'text' para aplicar en ella las tareas de preprocesamiento y limpieza:\n",
        "#df['text'] = df['reviewText'] # Especificar el nombre de la columna del dataset elegido y el nombre del dataframe."
      ]
    },
    {
      "cell_type": "code",
      "execution_count": null,
      "id": "a315473d-7e70-467b-b966-229eb0c6d835",
      "metadata": {
        "id": "a315473d-7e70-467b-b966-229eb0c6d835"
      },
      "outputs": [],
      "source": [
        "#############################################\n",
        "#SOLUCIÓN\n",
        "#############################################\n",
        "df['clean_text'] = df['full_review_text']"
      ]
    },
    {
      "cell_type": "markdown",
      "source": [
        "En nuestro caso, primero vamos a eliminar la fecha que hay al comienzo de cada reseña."
      ],
      "metadata": {
        "id": "peBdnZT-F2uZ"
      },
      "id": "peBdnZT-F2uZ"
    },
    {
      "cell_type": "markdown",
      "source": [
        "**Ejercicio**: eliminar la **fecha** que aparece en el inicio de cada reseña."
      ],
      "metadata": {
        "id": "atudCrtvNv08"
      },
      "id": "atudCrtvNv08"
    },
    {
      "cell_type": "code",
      "source": [
        "import random\n",
        "\n",
        "if df['clean_text'].equals(df['full_review_text']): # Control para que solo se pueda eliminar 1 vez.\n",
        "# Eliminamos la fecha que aparece al inicio de cada reseña\n",
        "    df['clean_text'] = df['clean_text'].str.split(' ',n=2).str[2]\n",
        "\n",
        "# Evidenciar el cambio en una reseña:\n",
        "pd.set_option('display.max_colwidth', 150)\n",
        "df.iloc[0][['full_review_text', 'clean_text']]"
      ],
      "metadata": {
        "id": "3jP-AzYKF2S4",
        "colab": {
          "base_uri": "https://localhost:8080/",
          "height": 146
        },
        "outputId": "ad9faf08-881e-4458-8fb2-98a4c7e7a55d"
      },
      "id": "3jP-AzYKF2S4",
      "execution_count": null,
      "outputs": [
        {
          "output_type": "execute_result",
          "data": {
            "text/plain": [
              "full_review_text     11/25/2016 1 check-in Love love loved the atmosphere! Every corner of the coffee shop had its own style, and there were swings!!! I ordered the m...\n",
              "clean_text          1 check-in Love love loved the atmosphere! Every corner of the coffee shop had its own style, and there were swings!!! I ordered the matcha latte,...\n",
              "Name: 0, dtype: object"
            ],
            "text/html": [
              "<div>\n",
              "<style scoped>\n",
              "    .dataframe tbody tr th:only-of-type {\n",
              "        vertical-align: middle;\n",
              "    }\n",
              "\n",
              "    .dataframe tbody tr th {\n",
              "        vertical-align: top;\n",
              "    }\n",
              "\n",
              "    .dataframe thead th {\n",
              "        text-align: right;\n",
              "    }\n",
              "</style>\n",
              "<table border=\"1\" class=\"dataframe\">\n",
              "  <thead>\n",
              "    <tr style=\"text-align: right;\">\n",
              "      <th></th>\n",
              "      <th>0</th>\n",
              "    </tr>\n",
              "  </thead>\n",
              "  <tbody>\n",
              "    <tr>\n",
              "      <th>full_review_text</th>\n",
              "      <td>11/25/2016 1 check-in Love love loved the atmosphere! Every corner of the coffee shop had its own style, and there were swings!!! I ordered the m...</td>\n",
              "    </tr>\n",
              "    <tr>\n",
              "      <th>clean_text</th>\n",
              "      <td>1 check-in Love love loved the atmosphere! Every corner of the coffee shop had its own style, and there were swings!!! I ordered the matcha latte,...</td>\n",
              "    </tr>\n",
              "  </tbody>\n",
              "</table>\n",
              "</div><br><label><b>dtype:</b> object</label>"
            ]
          },
          "metadata": {},
          "execution_count": 9
        }
      ]
    },
    {
      "cell_type": "markdown",
      "source": [
        "**Ejercicio**: eliminar **cadenas del tipo \"check-in 2\"**."
      ],
      "metadata": {
        "id": "dLar0eotOKF3"
      },
      "id": "dLar0eotOKF3"
    },
    {
      "cell_type": "code",
      "source": [
        "import string, re\n",
        "\n",
        "# Función para reemplazar ciertos signos de puntuación:\n",
        "def clean_check_in(text):\n",
        "    text = re.sub('[1-9]+ check-in(s)?','', text)\n",
        "    return text\n",
        "\n",
        "# Aplicar la función a la columna 'text'\n",
        "df['clean_text'] = df['clean_text'].apply(clean_check_in)\n",
        "\n",
        "print(df.iloc[5][['full_review_text', 'clean_text']]) # caso con check-in\n",
        "print(df.iloc[6][['full_review_text', 'clean_text']]) # caso con check-ins"
      ],
      "metadata": {
        "id": "VmgciAXxOKw8",
        "colab": {
          "base_uri": "https://localhost:8080/"
        },
        "outputId": "af9daac5-aed7-4386-9daa-6915b20aaf20"
      },
      "id": "VmgciAXxOKw8",
      "execution_count": null,
      "outputs": [
        {
          "output_type": "stream",
          "name": "stdout",
          "text": [
            "full_review_text     11/20/2016 1 check-in Very cute cafe! I think from the moment I stepped in, there really wasn't anything I didn't find cute at The Factory. From ...\n",
            "clean_text           Very cute cafe! I think from the moment I stepped in, there really wasn't anything I didn't find cute at The Factory. From their decor to their c...\n",
            "Name: 5, dtype: object\n",
            "full_review_text     10/27/2016 2 check-ins Listed in \"Nuptial Coffee Bliss!\", Anderson Lane is the new Black Oh hey, the pro vs con format. I've never used that befo...\n",
            "clean_text           Listed in \"Nuptial Coffee Bliss!\", Anderson Lane is the new Black Oh hey, the pro vs con format. I've never used that before. Let's try it:  Pros...\n",
            "Name: 6, dtype: object\n"
          ]
        }
      ]
    },
    {
      "cell_type": "markdown",
      "source": [
        "Vemos que la cadena de texto \"Listed in\" aparece sospechosamente al inicio de varias reseñas. Por lo que contamos cuántas veces aparece."
      ],
      "metadata": {
        "id": "-nFN8OJfYzyh"
      },
      "id": "-nFN8OJfYzyh"
    },
    {
      "cell_type": "code",
      "source": [
        "len(df[df['clean_text'].str.contains('Listed in ')])"
      ],
      "metadata": {
        "id": "VsT8jI8bYq-H",
        "colab": {
          "base_uri": "https://localhost:8080/"
        },
        "outputId": "a5a117b3-2765-45e9-b564-703ac0351a4c"
      },
      "id": "VsT8jI8bYq-H",
      "execution_count": null,
      "outputs": [
        {
          "output_type": "execute_result",
          "data": {
            "text/plain": [
              "488"
            ]
          },
          "metadata": {},
          "execution_count": 11
        }
      ]
    },
    {
      "cell_type": "markdown",
      "source": [
        "La cadena de texto aparece 488 veces. Hemos revisado el dataset y entendemos que esto se refiere a que la cafetería está listada dentro de algún grupo.  \n",
        "Dado que hay una gran variedad de nombres de grupos, y tienen una longitud variable entre 1 y 4 palabras mayoritariamente, no es posible eliminarlos todos de forma automática correctamente. Por lo que, teniendo en cuenta que las filas que contienen esta cadena representan solamente el 7% del dataset, consideramos que la mejor opción es eliminarlas.  \n",
        "\n",
        "**Ejercicio**: eliminar filas que contengan la **cadena \"Listed in\"**."
      ],
      "metadata": {
        "id": "B-QX2eJiZead"
      },
      "id": "B-QX2eJiZead"
    },
    {
      "cell_type": "code",
      "source": [
        "df = df[~df['clean_text'].str.contains('Listed in', case=False, na=False)]\n",
        "\n",
        "# Comprobamos que ya no hay filas que contengan esa cadena de texto.\n",
        "len(df[df['clean_text'].str.contains('Listed in ')])"
      ],
      "metadata": {
        "id": "4CCHfEUycLCm",
        "colab": {
          "base_uri": "https://localhost:8080/"
        },
        "outputId": "72bc6156-857d-4f9e-d0ae-26448f96d3ae"
      },
      "id": "4CCHfEUycLCm",
      "execution_count": null,
      "outputs": [
        {
          "output_type": "execute_result",
          "data": {
            "text/plain": [
              "0"
            ]
          },
          "metadata": {},
          "execution_count": 12
        }
      ]
    },
    {
      "cell_type": "markdown",
      "source": [
        "En este caso también tenemos contracciones que tratar."
      ],
      "metadata": {
        "id": "b7pyQ547E7O7"
      },
      "id": "b7pyQ547E7O7"
    },
    {
      "cell_type": "code",
      "source": [
        "#Observemos un texto con contracciones (\"don't\", \"it's\"):\n",
        "df[df['clean_text'].str.contains(\"'\", case=False, na=False)].head(3)"
      ],
      "metadata": {
        "id": "ARu-cE7GDSnZ",
        "colab": {
          "base_uri": "https://localhost:8080/",
          "height": 247
        },
        "outputId": "ac2e074d-6f84-4097-9e50-428e52e61e35"
      },
      "id": "ARu-cE7GDSnZ",
      "execution_count": null,
      "outputs": [
        {
          "output_type": "execute_result",
          "data": {
            "text/plain": [
              "                                                                                                                                         full_review_text  \\\n",
              "5    11/20/2016 1 check-in Very cute cafe! I think from the moment I stepped in, there really wasn't anything I didn't find cute at The Factory. From ...   \n",
              "7    11/2/2016 2 check-ins Love this place!  5 stars for cleanliness 5 stars for fun ambiance/ open space 5 stars for ample seating and comfort 5 star...   \n",
              "13   12/5/2016 This is such a cute little cafe! I've driven by this place many times and hadn't noticed it until today. Glad I stopped-the famous chic...   \n",
              "\n",
              "    star_rating  sentiment  text_length  \\\n",
              "5           4.0          1          189   \n",
              "7           5.0          1          317   \n",
              "13          5.0          1           29   \n",
              "\n",
              "                                                                                                                                               clean_text  \n",
              "5    Very cute cafe! I think from the moment I stepped in, there really wasn't anything I didn't find cute at The Factory. From their decor to their c...  \n",
              "7    Love this place!  5 stars for cleanliness 5 stars for fun ambiance/ open space 5 stars for ample seating and comfort 5 stars for convenient parki...  \n",
              "13  This is such a cute little cafe! I've driven by this place many times and hadn't noticed it until today. Glad I stopped-the famous chicken waffle ...  "
            ],
            "text/html": [
              "\n",
              "  <div id=\"df-86795baa-3eaa-42c2-8a80-2980ce010ab1\" class=\"colab-df-container\">\n",
              "    <div>\n",
              "<style scoped>\n",
              "    .dataframe tbody tr th:only-of-type {\n",
              "        vertical-align: middle;\n",
              "    }\n",
              "\n",
              "    .dataframe tbody tr th {\n",
              "        vertical-align: top;\n",
              "    }\n",
              "\n",
              "    .dataframe thead th {\n",
              "        text-align: right;\n",
              "    }\n",
              "</style>\n",
              "<table border=\"1\" class=\"dataframe\">\n",
              "  <thead>\n",
              "    <tr style=\"text-align: right;\">\n",
              "      <th></th>\n",
              "      <th>full_review_text</th>\n",
              "      <th>star_rating</th>\n",
              "      <th>sentiment</th>\n",
              "      <th>text_length</th>\n",
              "      <th>clean_text</th>\n",
              "    </tr>\n",
              "  </thead>\n",
              "  <tbody>\n",
              "    <tr>\n",
              "      <th>5</th>\n",
              "      <td>11/20/2016 1 check-in Very cute cafe! I think from the moment I stepped in, there really wasn't anything I didn't find cute at The Factory. From ...</td>\n",
              "      <td>4.0</td>\n",
              "      <td>1</td>\n",
              "      <td>189</td>\n",
              "      <td>Very cute cafe! I think from the moment I stepped in, there really wasn't anything I didn't find cute at The Factory. From their decor to their c...</td>\n",
              "    </tr>\n",
              "    <tr>\n",
              "      <th>7</th>\n",
              "      <td>11/2/2016 2 check-ins Love this place!  5 stars for cleanliness 5 stars for fun ambiance/ open space 5 stars for ample seating and comfort 5 star...</td>\n",
              "      <td>5.0</td>\n",
              "      <td>1</td>\n",
              "      <td>317</td>\n",
              "      <td>Love this place!  5 stars for cleanliness 5 stars for fun ambiance/ open space 5 stars for ample seating and comfort 5 stars for convenient parki...</td>\n",
              "    </tr>\n",
              "    <tr>\n",
              "      <th>13</th>\n",
              "      <td>12/5/2016 This is such a cute little cafe! I've driven by this place many times and hadn't noticed it until today. Glad I stopped-the famous chic...</td>\n",
              "      <td>5.0</td>\n",
              "      <td>1</td>\n",
              "      <td>29</td>\n",
              "      <td>This is such a cute little cafe! I've driven by this place many times and hadn't noticed it until today. Glad I stopped-the famous chicken waffle ...</td>\n",
              "    </tr>\n",
              "  </tbody>\n",
              "</table>\n",
              "</div>\n",
              "    <div class=\"colab-df-buttons\">\n",
              "\n",
              "  <div class=\"colab-df-container\">\n",
              "    <button class=\"colab-df-convert\" onclick=\"convertToInteractive('df-86795baa-3eaa-42c2-8a80-2980ce010ab1')\"\n",
              "            title=\"Convert this dataframe to an interactive table.\"\n",
              "            style=\"display:none;\">\n",
              "\n",
              "  <svg xmlns=\"http://www.w3.org/2000/svg\" height=\"24px\" viewBox=\"0 -960 960 960\">\n",
              "    <path d=\"M120-120v-720h720v720H120Zm60-500h600v-160H180v160Zm220 220h160v-160H400v160Zm0 220h160v-160H400v160ZM180-400h160v-160H180v160Zm440 0h160v-160H620v160ZM180-180h160v-160H180v160Zm440 0h160v-160H620v160Z\"/>\n",
              "  </svg>\n",
              "    </button>\n",
              "\n",
              "  <style>\n",
              "    .colab-df-container {\n",
              "      display:flex;\n",
              "      gap: 12px;\n",
              "    }\n",
              "\n",
              "    .colab-df-convert {\n",
              "      background-color: #E8F0FE;\n",
              "      border: none;\n",
              "      border-radius: 50%;\n",
              "      cursor: pointer;\n",
              "      display: none;\n",
              "      fill: #1967D2;\n",
              "      height: 32px;\n",
              "      padding: 0 0 0 0;\n",
              "      width: 32px;\n",
              "    }\n",
              "\n",
              "    .colab-df-convert:hover {\n",
              "      background-color: #E2EBFA;\n",
              "      box-shadow: 0px 1px 2px rgba(60, 64, 67, 0.3), 0px 1px 3px 1px rgba(60, 64, 67, 0.15);\n",
              "      fill: #174EA6;\n",
              "    }\n",
              "\n",
              "    .colab-df-buttons div {\n",
              "      margin-bottom: 4px;\n",
              "    }\n",
              "\n",
              "    [theme=dark] .colab-df-convert {\n",
              "      background-color: #3B4455;\n",
              "      fill: #D2E3FC;\n",
              "    }\n",
              "\n",
              "    [theme=dark] .colab-df-convert:hover {\n",
              "      background-color: #434B5C;\n",
              "      box-shadow: 0px 1px 3px 1px rgba(0, 0, 0, 0.15);\n",
              "      filter: drop-shadow(0px 1px 2px rgba(0, 0, 0, 0.3));\n",
              "      fill: #FFFFFF;\n",
              "    }\n",
              "  </style>\n",
              "\n",
              "    <script>\n",
              "      const buttonEl =\n",
              "        document.querySelector('#df-86795baa-3eaa-42c2-8a80-2980ce010ab1 button.colab-df-convert');\n",
              "      buttonEl.style.display =\n",
              "        google.colab.kernel.accessAllowed ? 'block' : 'none';\n",
              "\n",
              "      async function convertToInteractive(key) {\n",
              "        const element = document.querySelector('#df-86795baa-3eaa-42c2-8a80-2980ce010ab1');\n",
              "        const dataTable =\n",
              "          await google.colab.kernel.invokeFunction('convertToInteractive',\n",
              "                                                    [key], {});\n",
              "        if (!dataTable) return;\n",
              "\n",
              "        const docLinkHtml = 'Like what you see? Visit the ' +\n",
              "          '<a target=\"_blank\" href=https://colab.research.google.com/notebooks/data_table.ipynb>data table notebook</a>'\n",
              "          + ' to learn more about interactive tables.';\n",
              "        element.innerHTML = '';\n",
              "        dataTable['output_type'] = 'display_data';\n",
              "        await google.colab.output.renderOutput(dataTable, element);\n",
              "        const docLink = document.createElement('div');\n",
              "        docLink.innerHTML = docLinkHtml;\n",
              "        element.appendChild(docLink);\n",
              "      }\n",
              "    </script>\n",
              "  </div>\n",
              "\n",
              "\n",
              "<div id=\"df-c7d66bd5-e45b-4d09-97ba-c4076e2bcebb\">\n",
              "  <button class=\"colab-df-quickchart\" onclick=\"quickchart('df-c7d66bd5-e45b-4d09-97ba-c4076e2bcebb')\"\n",
              "            title=\"Suggest charts\"\n",
              "            style=\"display:none;\">\n",
              "\n",
              "<svg xmlns=\"http://www.w3.org/2000/svg\" height=\"24px\"viewBox=\"0 0 24 24\"\n",
              "     width=\"24px\">\n",
              "    <g>\n",
              "        <path d=\"M19 3H5c-1.1 0-2 .9-2 2v14c0 1.1.9 2 2 2h14c1.1 0 2-.9 2-2V5c0-1.1-.9-2-2-2zM9 17H7v-7h2v7zm4 0h-2V7h2v10zm4 0h-2v-4h2v4z\"/>\n",
              "    </g>\n",
              "</svg>\n",
              "  </button>\n",
              "\n",
              "<style>\n",
              "  .colab-df-quickchart {\n",
              "      --bg-color: #E8F0FE;\n",
              "      --fill-color: #1967D2;\n",
              "      --hover-bg-color: #E2EBFA;\n",
              "      --hover-fill-color: #174EA6;\n",
              "      --disabled-fill-color: #AAA;\n",
              "      --disabled-bg-color: #DDD;\n",
              "  }\n",
              "\n",
              "  [theme=dark] .colab-df-quickchart {\n",
              "      --bg-color: #3B4455;\n",
              "      --fill-color: #D2E3FC;\n",
              "      --hover-bg-color: #434B5C;\n",
              "      --hover-fill-color: #FFFFFF;\n",
              "      --disabled-bg-color: #3B4455;\n",
              "      --disabled-fill-color: #666;\n",
              "  }\n",
              "\n",
              "  .colab-df-quickchart {\n",
              "    background-color: var(--bg-color);\n",
              "    border: none;\n",
              "    border-radius: 50%;\n",
              "    cursor: pointer;\n",
              "    display: none;\n",
              "    fill: var(--fill-color);\n",
              "    height: 32px;\n",
              "    padding: 0;\n",
              "    width: 32px;\n",
              "  }\n",
              "\n",
              "  .colab-df-quickchart:hover {\n",
              "    background-color: var(--hover-bg-color);\n",
              "    box-shadow: 0 1px 2px rgba(60, 64, 67, 0.3), 0 1px 3px 1px rgba(60, 64, 67, 0.15);\n",
              "    fill: var(--button-hover-fill-color);\n",
              "  }\n",
              "\n",
              "  .colab-df-quickchart-complete:disabled,\n",
              "  .colab-df-quickchart-complete:disabled:hover {\n",
              "    background-color: var(--disabled-bg-color);\n",
              "    fill: var(--disabled-fill-color);\n",
              "    box-shadow: none;\n",
              "  }\n",
              "\n",
              "  .colab-df-spinner {\n",
              "    border: 2px solid var(--fill-color);\n",
              "    border-color: transparent;\n",
              "    border-bottom-color: var(--fill-color);\n",
              "    animation:\n",
              "      spin 1s steps(1) infinite;\n",
              "  }\n",
              "\n",
              "  @keyframes spin {\n",
              "    0% {\n",
              "      border-color: transparent;\n",
              "      border-bottom-color: var(--fill-color);\n",
              "      border-left-color: var(--fill-color);\n",
              "    }\n",
              "    20% {\n",
              "      border-color: transparent;\n",
              "      border-left-color: var(--fill-color);\n",
              "      border-top-color: var(--fill-color);\n",
              "    }\n",
              "    30% {\n",
              "      border-color: transparent;\n",
              "      border-left-color: var(--fill-color);\n",
              "      border-top-color: var(--fill-color);\n",
              "      border-right-color: var(--fill-color);\n",
              "    }\n",
              "    40% {\n",
              "      border-color: transparent;\n",
              "      border-right-color: var(--fill-color);\n",
              "      border-top-color: var(--fill-color);\n",
              "    }\n",
              "    60% {\n",
              "      border-color: transparent;\n",
              "      border-right-color: var(--fill-color);\n",
              "    }\n",
              "    80% {\n",
              "      border-color: transparent;\n",
              "      border-right-color: var(--fill-color);\n",
              "      border-bottom-color: var(--fill-color);\n",
              "    }\n",
              "    90% {\n",
              "      border-color: transparent;\n",
              "      border-bottom-color: var(--fill-color);\n",
              "    }\n",
              "  }\n",
              "</style>\n",
              "\n",
              "  <script>\n",
              "    async function quickchart(key) {\n",
              "      const quickchartButtonEl =\n",
              "        document.querySelector('#' + key + ' button');\n",
              "      quickchartButtonEl.disabled = true;  // To prevent multiple clicks.\n",
              "      quickchartButtonEl.classList.add('colab-df-spinner');\n",
              "      try {\n",
              "        const charts = await google.colab.kernel.invokeFunction(\n",
              "            'suggestCharts', [key], {});\n",
              "      } catch (error) {\n",
              "        console.error('Error during call to suggestCharts:', error);\n",
              "      }\n",
              "      quickchartButtonEl.classList.remove('colab-df-spinner');\n",
              "      quickchartButtonEl.classList.add('colab-df-quickchart-complete');\n",
              "    }\n",
              "    (() => {\n",
              "      let quickchartButtonEl =\n",
              "        document.querySelector('#df-c7d66bd5-e45b-4d09-97ba-c4076e2bcebb button');\n",
              "      quickchartButtonEl.style.display =\n",
              "        google.colab.kernel.accessAllowed ? 'block' : 'none';\n",
              "    })();\n",
              "  </script>\n",
              "</div>\n",
              "\n",
              "    </div>\n",
              "  </div>\n"
            ],
            "application/vnd.google.colaboratory.intrinsic+json": {
              "type": "dataframe",
              "summary": "{\n  \"name\": \"df[df['clean_text']\",\n  \"rows\": 3,\n  \"fields\": [\n    {\n      \"column\": \"full_review_text\",\n      \"properties\": {\n        \"dtype\": \"string\",\n        \"num_unique_values\": 3,\n        \"samples\": [\n          \" 11/20/2016 1 check-in Very cute cafe! I think from the moment I stepped in, there really wasn't anything I didn't find cute at The Factory. From their decor to their cups, everything was really cute. It's really the perfect place for a catching up with friends or a coffee date.  When you go order, there's really the least amount of interaction ever with the workers. You just pick your order on an iPad and they'll call your order out after for you to pick up at the counter. The whole thing's pretty novel honestly. I got the Viva Matcha Latte and it was so good! Perfect amount of sweetness and perfect temperature. I went on a cold night and this cafe is just so cozy, it was such a great combination. They have these swings as well which were pretty fun to sit on honestly.  Prices are what I would expect for a cafe like this, not super cheap, but not too pricey. There's no wifi here, so if you want to study, maybe this isn't the right place. But overall, very nice atmosphere! Viva matcha latte and Cortado \",\n          \" 11/2/2016 2 check-ins Love this place!  5 stars for cleanliness 5 stars for fun ambiance/ open space 5 stars for ample seating and comfort 5 stars for convenient parking 5 stars for attentive employees and fast service  I am definitely a fan Cafe w/ a Soul. I finally found a coffee shop I can study at without sacrificing comfort (Starbucks' uncomfortable chairs). The coffee shop endorses social connection, hence, wifi  isn't available. It makes me really happy that a lot of students hang out here with their book bags and laptops and we can all just study in peace and somehow quiet (the background music can get pretty loud). Unfortunately, there will always be that kid who's obnoxiously loud and would like the whole world to know her business. Seriously, unless it's something intriguing or educational, no one cares. In addition, as much \\\"fun\\\" as this place looks, it's not child friendly. So parents, make sure your children do not hit the table in front of it and knock out the chess set. Lastly, the sex images in the bathrooms are definitely not appropriate for children.  The ambiance is very much like Austin-- very eccentric and hip! Food and drink presentations are on par. Drink prices are reasonable and similar to good ole Starbucks. But unlike you're typical coffee shop, they have real food such as chicken and waffles.  My favorite about this place is the cleanliness. The employees do a good job maintaining the place. Also, as I watch them make coffees, they do it with fines as if they're creating some type of art, it's pretty cool (in my opinion).  In conclusion, Cafe w/ a Soul is probably the best coffee shop I've ever been to. It's like studying in my own home but away from distractions. I'm awake! Bathroom decor See all photos from Jay T. for The Factory - Cafe With a Soul \",\n          \" 12/5/2016 This is such a cute little cafe! I've driven by this place many times and hadn't noticed it until today. Glad I stopped-the famous chicken waffle was delish! \"\n        ],\n        \"semantic_type\": \"\",\n        \"description\": \"\"\n      }\n    },\n    {\n      \"column\": \"star_rating\",\n      \"properties\": {\n        \"dtype\": \"number\",\n        \"std\": 0.5773502691896258,\n        \"min\": 4.0,\n        \"max\": 5.0,\n        \"num_unique_values\": 2,\n        \"samples\": [\n          5.0,\n          4.0\n        ],\n        \"semantic_type\": \"\",\n        \"description\": \"\"\n      }\n    },\n    {\n      \"column\": \"sentiment\",\n      \"properties\": {\n        \"dtype\": \"number\",\n        \"std\": 0,\n        \"min\": 1,\n        \"max\": 1,\n        \"num_unique_values\": 1,\n        \"samples\": [\n          1\n        ],\n        \"semantic_type\": \"\",\n        \"description\": \"\"\n      }\n    },\n    {\n      \"column\": \"text_length\",\n      \"properties\": {\n        \"dtype\": \"number\",\n        \"std\": 144,\n        \"min\": 29,\n        \"max\": 317,\n        \"num_unique_values\": 3,\n        \"samples\": [\n          189\n        ],\n        \"semantic_type\": \"\",\n        \"description\": \"\"\n      }\n    },\n    {\n      \"column\": \"clean_text\",\n      \"properties\": {\n        \"dtype\": \"string\",\n        \"num_unique_values\": 3,\n        \"samples\": [\n          \" Very cute cafe! I think from the moment I stepped in, there really wasn't anything I didn't find cute at The Factory. From their decor to their cups, everything was really cute. It's really the perfect place for a catching up with friends or a coffee date.  When you go order, there's really the least amount of interaction ever with the workers. You just pick your order on an iPad and they'll call your order out after for you to pick up at the counter. The whole thing's pretty novel honestly. I got the Viva Matcha Latte and it was so good! Perfect amount of sweetness and perfect temperature. I went on a cold night and this cafe is just so cozy, it was such a great combination. They have these swings as well which were pretty fun to sit on honestly.  Prices are what I would expect for a cafe like this, not super cheap, but not too pricey. There's no wifi here, so if you want to study, maybe this isn't the right place. But overall, very nice atmosphere! Viva matcha latte and Cortado \"\n        ],\n        \"semantic_type\": \"\",\n        \"description\": \"\"\n      }\n    }\n  ]\n}"
            }
          },
          "metadata": {},
          "execution_count": 13
        }
      ]
    },
    {
      "cell_type": "markdown",
      "source": [
        "**Ejercicio**: Tratamiento de **contracciones** (una contracción es la forma abreviada de una palabra, como \"don't\") a su forma completa (como, \"do not\"). La expansión de las contracciones puede ser útil para mejorar la identificación de stopwords."
      ],
      "metadata": {
        "id": "me4Yn5JvNp6z"
      },
      "id": "me4Yn5JvNp6z"
    },
    {
      "cell_type": "code",
      "source": [
        "!pip install contractions # Instalar la librería contractions para resolver la tarea:\n",
        "\n",
        "import contractions\n",
        "\n",
        "# Aplicar la función fix.\n",
        "df['clean_text']=df['clean_text'].apply(lambda x:contractions.fix(x))\n",
        "\n",
        "#Evidenciar el cambio en una reseña:\n",
        "df.iloc[35][['full_review_text', 'clean_text']]"
      ],
      "metadata": {
        "id": "f9q-AQvKE3Wy",
        "colab": {
          "base_uri": "https://localhost:8080/",
          "height": 216
        },
        "outputId": "cb458a18-dbfa-48a5-ac7d-0d916353d9ce"
      },
      "id": "f9q-AQvKE3Wy",
      "execution_count": null,
      "outputs": [
        {
          "output_type": "stream",
          "name": "stdout",
          "text": [
            "Requirement already satisfied: contractions in /usr/local/lib/python3.11/dist-packages (0.1.73)\n",
            "Requirement already satisfied: textsearch>=0.0.21 in /usr/local/lib/python3.11/dist-packages (from contractions) (0.0.24)\n",
            "Requirement already satisfied: anyascii in /usr/local/lib/python3.11/dist-packages (from textsearch>=0.0.21->contractions) (0.3.2)\n",
            "Requirement already satisfied: pyahocorasick in /usr/local/lib/python3.11/dist-packages (from textsearch>=0.0.21->contractions) (2.1.0)\n"
          ]
        },
        {
          "output_type": "execute_result",
          "data": {
            "text/plain": [
              "full_review_text     11/14/2016 Enthusiastic and earnest desire to be excellent, try new things and develop new menu ideas, smiles, not in your face - best almond pou...\n",
              "clean_text          Enthusiastic and earnest desire to be excellent, try new things and develop new menu ideas, smiles, not in your face - best almond pound cake I ha...\n",
              "Name: 44, dtype: object"
            ],
            "text/html": [
              "<div>\n",
              "<style scoped>\n",
              "    .dataframe tbody tr th:only-of-type {\n",
              "        vertical-align: middle;\n",
              "    }\n",
              "\n",
              "    .dataframe tbody tr th {\n",
              "        vertical-align: top;\n",
              "    }\n",
              "\n",
              "    .dataframe thead th {\n",
              "        text-align: right;\n",
              "    }\n",
              "</style>\n",
              "<table border=\"1\" class=\"dataframe\">\n",
              "  <thead>\n",
              "    <tr style=\"text-align: right;\">\n",
              "      <th></th>\n",
              "      <th>44</th>\n",
              "    </tr>\n",
              "  </thead>\n",
              "  <tbody>\n",
              "    <tr>\n",
              "      <th>full_review_text</th>\n",
              "      <td>11/14/2016 Enthusiastic and earnest desire to be excellent, try new things and develop new menu ideas, smiles, not in your face - best almond pou...</td>\n",
              "    </tr>\n",
              "    <tr>\n",
              "      <th>clean_text</th>\n",
              "      <td>Enthusiastic and earnest desire to be excellent, try new things and develop new menu ideas, smiles, not in your face - best almond pound cake I ha...</td>\n",
              "    </tr>\n",
              "  </tbody>\n",
              "</table>\n",
              "</div><br><label><b>dtype:</b> object</label>"
            ]
          },
          "metadata": {},
          "execution_count": 14
        }
      ]
    },
    {
      "cell_type": "markdown",
      "source": [
        "**Ejercicio**: eliminar **páginas web**."
      ],
      "metadata": {
        "id": "pEp20asOi3Sb"
      },
      "id": "pEp20asOi3Sb"
    },
    {
      "cell_type": "code",
      "source": [
        "rows_with_url = df[df['clean_text'].str.contains(r'\\b[\\w.-]+\\.com[^\\s]*', regex=True)]\n",
        "#print(rows_with_url['clean_text'])\n",
        "\n",
        "url = r'\\b[^\\s]*\\.com[^\\s]*'\n",
        "\n",
        "# Función para reemplazar ciertos signos de puntuación:\n",
        "def clean_url(text):\n",
        "    return re.sub(url, '', text)\n",
        "\n",
        "# Aplicar la función a la columna 'text'\n",
        "df['clean_text'] = df['clean_text'].apply(clean_url)\n",
        "df.iloc[9][['full_review_text', 'clean_text']]"
      ],
      "metadata": {
        "id": "j9mtL2XCi3xW",
        "colab": {
          "base_uri": "https://localhost:8080/",
          "height": 146
        },
        "outputId": "996aed4b-aa65-44e4-d6ae-5a2caad7153b"
      },
      "id": "j9mtL2XCi3xW",
      "execution_count": null,
      "outputs": [
        {
          "output_type": "execute_result",
          "data": {
            "text/plain": [
              "full_review_text     10/25/2016 1 check-in Check out this video for a review! youtube.com/watch?v=N8Ki…  Cool new place in Austin! It's always great to see places doi...\n",
              "clean_text           Check out this video for a review!   Cool new place in Austin! It is always great to see places doing something new and unique. The seating arran...\n",
              "Name: 17, dtype: object"
            ],
            "text/html": [
              "<div>\n",
              "<style scoped>\n",
              "    .dataframe tbody tr th:only-of-type {\n",
              "        vertical-align: middle;\n",
              "    }\n",
              "\n",
              "    .dataframe tbody tr th {\n",
              "        vertical-align: top;\n",
              "    }\n",
              "\n",
              "    .dataframe thead th {\n",
              "        text-align: right;\n",
              "    }\n",
              "</style>\n",
              "<table border=\"1\" class=\"dataframe\">\n",
              "  <thead>\n",
              "    <tr style=\"text-align: right;\">\n",
              "      <th></th>\n",
              "      <th>17</th>\n",
              "    </tr>\n",
              "  </thead>\n",
              "  <tbody>\n",
              "    <tr>\n",
              "      <th>full_review_text</th>\n",
              "      <td>10/25/2016 1 check-in Check out this video for a review! youtube.com/watch?v=N8Ki…  Cool new place in Austin! It's always great to see places doi...</td>\n",
              "    </tr>\n",
              "    <tr>\n",
              "      <th>clean_text</th>\n",
              "      <td>Check out this video for a review!   Cool new place in Austin! It is always great to see places doing something new and unique. The seating arran...</td>\n",
              "    </tr>\n",
              "  </tbody>\n",
              "</table>\n",
              "</div><br><label><b>dtype:</b> object</label>"
            ]
          },
          "metadata": {},
          "execution_count": 15
        }
      ]
    },
    {
      "cell_type": "markdown",
      "source": [
        "**Ejercicio**: Quitar ciertos **signos de puntación**."
      ],
      "metadata": {
        "id": "x5SJsUOtNbuS"
      },
      "id": "x5SJsUOtNbuS"
    },
    {
      "cell_type": "code",
      "source": [
        "punctuation = ';,!\"#$%&\\()*+-<>@[\\\\]^_`{|}~?'\n",
        "\n",
        "# Función para reemplazar ciertos signos de puntuación:\n",
        "def clean_signs(text):\n",
        "    text = re.sub('[%s]' % re.escape(punctuation), ' ', text)\n",
        "    return text\n",
        "\n",
        "# Aplicar la función a la columna 'text'\n",
        "df['clean_text'] = df['clean_text'].apply(clean_signs)\n",
        "\n",
        "df.iloc[29][['full_review_text', 'clean_text']] # Presentamos una reseña para ver cómo va quedando el texto preprocesado."
      ],
      "metadata": {
        "id": "Sg9-CryTNcd-",
        "colab": {
          "base_uri": "https://localhost:8080/",
          "height": 146
        },
        "outputId": "ba483a1d-8b37-4a2f-9bfd-78d0f08f998c"
      },
      "id": "Sg9-CryTNcd-",
      "execution_count": null,
      "outputs": [
        {
          "output_type": "execute_result",
          "data": {
            "text/plain": [
              "full_review_text     10/18/2016 I got waffle wasted at The Factory!!! Not your average coffee shop! Super social without wifi, novel idea! \n",
              "clean_text                      I got waffle wasted at The Factory    Not your average coffee shop  Super social without wifi  novel idea  \n",
              "Name: 38, dtype: object"
            ],
            "text/html": [
              "<div>\n",
              "<style scoped>\n",
              "    .dataframe tbody tr th:only-of-type {\n",
              "        vertical-align: middle;\n",
              "    }\n",
              "\n",
              "    .dataframe tbody tr th {\n",
              "        vertical-align: top;\n",
              "    }\n",
              "\n",
              "    .dataframe thead th {\n",
              "        text-align: right;\n",
              "    }\n",
              "</style>\n",
              "<table border=\"1\" class=\"dataframe\">\n",
              "  <thead>\n",
              "    <tr style=\"text-align: right;\">\n",
              "      <th></th>\n",
              "      <th>38</th>\n",
              "    </tr>\n",
              "  </thead>\n",
              "  <tbody>\n",
              "    <tr>\n",
              "      <th>full_review_text</th>\n",
              "      <td>10/18/2016 I got waffle wasted at The Factory!!! Not your average coffee shop! Super social without wifi, novel idea!</td>\n",
              "    </tr>\n",
              "    <tr>\n",
              "      <th>clean_text</th>\n",
              "      <td>I got waffle wasted at The Factory    Not your average coffee shop  Super social without wifi  novel idea</td>\n",
              "    </tr>\n",
              "  </tbody>\n",
              "</table>\n",
              "</div><br><label><b>dtype:</b> object</label>"
            ]
          },
          "metadata": {},
          "execution_count": 16
        }
      ]
    },
    {
      "cell_type": "markdown",
      "source": [
        "**Ejercicio**: verificamos si hay **espacios dobles** y los quitamos."
      ],
      "metadata": {
        "id": "Vmeoel-9ZxAP"
      },
      "id": "Vmeoel-9ZxAP"
    },
    {
      "cell_type": "code",
      "source": [
        "print(f\"Hay {len(df[df['full_review_text'].str.contains('  ')])} espacios dobles.\")"
      ],
      "metadata": {
        "colab": {
          "base_uri": "https://localhost:8080/"
        },
        "id": "_TkmizttZ3YN",
        "outputId": "9d991540-036a-4824-8e12-bfb1fa19a80c"
      },
      "id": "_TkmizttZ3YN",
      "execution_count": null,
      "outputs": [
        {
          "output_type": "stream",
          "name": "stdout",
          "text": [
            "Hay 3490 espacios dobles.\n"
          ]
        }
      ]
    },
    {
      "cell_type": "code",
      "source": [
        "class ExtraSpacesReplacer(object):\n",
        "    \"\"\" Replaces extra spaces in a text.\n",
        "    >>> replacer = ExtraSpacesReplacer()\n",
        "    \"\"\"\n",
        "\n",
        "    def replace(self, text):\n",
        "        s = text\n",
        "        s = re.sub('\\s\\s+', ' ', s)\n",
        "        return s.strip()\n",
        "\n",
        "spaces_replacer = ExtraSpacesReplacer()\n",
        "\n",
        "df['clean_text'] = df['clean_text'].apply(spaces_replacer.replace)\n",
        "\n",
        "df.iloc[4][['full_review_text', 'clean_text']]"
      ],
      "metadata": {
        "colab": {
          "base_uri": "https://localhost:8080/",
          "height": 146
        },
        "id": "s_uLeXKJZwa0",
        "outputId": "00120bb9-e873-47b5-da9c-4eecd09d8769"
      },
      "id": "s_uLeXKJZwa0",
      "execution_count": null,
      "outputs": [
        {
          "output_type": "execute_result",
          "data": {
            "text/plain": [
              "full_review_text     11/2/2016 2 check-ins Love this place!  5 stars for cleanliness 5 stars for fun ambiance/ open space 5 stars for ample seating and comfort 5 star...\n",
              "clean_text          Love this place 5 stars for cleanliness 5 stars for fun ambiance/ open space 5 stars for ample seating and comfort 5 stars for convenient parking ...\n",
              "Name: 7, dtype: object"
            ],
            "text/html": [
              "<div>\n",
              "<style scoped>\n",
              "    .dataframe tbody tr th:only-of-type {\n",
              "        vertical-align: middle;\n",
              "    }\n",
              "\n",
              "    .dataframe tbody tr th {\n",
              "        vertical-align: top;\n",
              "    }\n",
              "\n",
              "    .dataframe thead th {\n",
              "        text-align: right;\n",
              "    }\n",
              "</style>\n",
              "<table border=\"1\" class=\"dataframe\">\n",
              "  <thead>\n",
              "    <tr style=\"text-align: right;\">\n",
              "      <th></th>\n",
              "      <th>7</th>\n",
              "    </tr>\n",
              "  </thead>\n",
              "  <tbody>\n",
              "    <tr>\n",
              "      <th>full_review_text</th>\n",
              "      <td>11/2/2016 2 check-ins Love this place!  5 stars for cleanliness 5 stars for fun ambiance/ open space 5 stars for ample seating and comfort 5 star...</td>\n",
              "    </tr>\n",
              "    <tr>\n",
              "      <th>clean_text</th>\n",
              "      <td>Love this place 5 stars for cleanliness 5 stars for fun ambiance/ open space 5 stars for ample seating and comfort 5 stars for convenient parking ...</td>\n",
              "    </tr>\n",
              "  </tbody>\n",
              "</table>\n",
              "</div><br><label><b>dtype:</b> object</label>"
            ]
          },
          "metadata": {},
          "execution_count": 18
        }
      ]
    },
    {
      "cell_type": "markdown",
      "source": [
        "En el ejemplo anterior, después de cambiar  el \"!\" de \"Love this place!\", habría un espacio doble. Tras procesarlo, solo aparece uno."
      ],
      "metadata": {
        "id": "6D5imeptVX2r"
      },
      "id": "6D5imeptVX2r"
    },
    {
      "cell_type": "code",
      "source": [
        "print(f\"Hay {len(df[df['clean_text'].str.contains('  ')])} espacios dobles.\")"
      ],
      "metadata": {
        "colab": {
          "base_uri": "https://localhost:8080/"
        },
        "id": "LwPSOFIeUPHU",
        "outputId": "58127a01-c1a5-4616-eac6-1b60521c1aae"
      },
      "id": "LwPSOFIeUPHU",
      "execution_count": null,
      "outputs": [
        {
          "output_type": "stream",
          "name": "stdout",
          "text": [
            "Hay 0 espacios dobles.\n"
          ]
        }
      ]
    },
    {
      "cell_type": "markdown",
      "source": [
        "En este caso podemos ver que ha funcionado ya que no aparece ningún ejemplo en la búsqueda."
      ],
      "metadata": {
        "id": "LsfU-9o4b_OU"
      },
      "id": "LsfU-9o4b_OU"
    },
    {
      "cell_type": "markdown",
      "source": [
        "**Ejercicio**: convertir **texto a minúsculas**."
      ],
      "metadata": {
        "id": "LN955UfWj6DP"
      },
      "id": "LN955UfWj6DP"
    },
    {
      "cell_type": "code",
      "source": [
        "df['clean_text'] = list(map(str.lower, df.clean_text))\n",
        "\n",
        "df.iloc[4][['full_review_text', 'clean_text']]"
      ],
      "metadata": {
        "colab": {
          "base_uri": "https://localhost:8080/",
          "height": 146
        },
        "id": "xL1VKLVjj-yf",
        "outputId": "c5ab0f14-c772-4eb2-95ef-d793715d1e68"
      },
      "id": "xL1VKLVjj-yf",
      "execution_count": null,
      "outputs": [
        {
          "output_type": "execute_result",
          "data": {
            "text/plain": [
              "full_review_text     11/2/2016 2 check-ins Love this place!  5 stars for cleanliness 5 stars for fun ambiance/ open space 5 stars for ample seating and comfort 5 star...\n",
              "clean_text          love this place 5 stars for cleanliness 5 stars for fun ambiance/ open space 5 stars for ample seating and comfort 5 stars for convenient parking ...\n",
              "Name: 7, dtype: object"
            ],
            "text/html": [
              "<div>\n",
              "<style scoped>\n",
              "    .dataframe tbody tr th:only-of-type {\n",
              "        vertical-align: middle;\n",
              "    }\n",
              "\n",
              "    .dataframe tbody tr th {\n",
              "        vertical-align: top;\n",
              "    }\n",
              "\n",
              "    .dataframe thead th {\n",
              "        text-align: right;\n",
              "    }\n",
              "</style>\n",
              "<table border=\"1\" class=\"dataframe\">\n",
              "  <thead>\n",
              "    <tr style=\"text-align: right;\">\n",
              "      <th></th>\n",
              "      <th>7</th>\n",
              "    </tr>\n",
              "  </thead>\n",
              "  <tbody>\n",
              "    <tr>\n",
              "      <th>full_review_text</th>\n",
              "      <td>11/2/2016 2 check-ins Love this place!  5 stars for cleanliness 5 stars for fun ambiance/ open space 5 stars for ample seating and comfort 5 star...</td>\n",
              "    </tr>\n",
              "    <tr>\n",
              "      <th>clean_text</th>\n",
              "      <td>love this place 5 stars for cleanliness 5 stars for fun ambiance/ open space 5 stars for ample seating and comfort 5 stars for convenient parking ...</td>\n",
              "    </tr>\n",
              "  </tbody>\n",
              "</table>\n",
              "</div><br><label><b>dtype:</b> object</label>"
            ]
          },
          "metadata": {},
          "execution_count": 20
        }
      ]
    },
    {
      "cell_type": "markdown",
      "source": [
        "**Ejercicio**: comprobar si hay **reseñas duplicadas** y, en tal caso, eliminarlas."
      ],
      "metadata": {
        "id": "BYT2j3uIikx3"
      },
      "id": "BYT2j3uIikx3"
    },
    {
      "cell_type": "code",
      "source": [
        "print(f\"Reseñas duplicadas: {len(df[df['full_review_text'].duplicated() == True])}\")"
      ],
      "metadata": {
        "colab": {
          "base_uri": "https://localhost:8080/"
        },
        "id": "s0n7kj6QmMiR",
        "outputId": "55a13f1e-7472-4bd6-a28e-93ac3f28856e"
      },
      "id": "s0n7kj6QmMiR",
      "execution_count": null,
      "outputs": [
        {
          "output_type": "stream",
          "name": "stdout",
          "text": [
            "Reseñas duplicadas: 587\n"
          ]
        }
      ]
    },
    {
      "cell_type": "markdown",
      "source": [
        "Comprobamos que hay 587 reseñas duplicadas. Procedemos a eliminarlas."
      ],
      "metadata": {
        "id": "9NKGIe_Yn8n2"
      },
      "id": "9NKGIe_Yn8n2"
    },
    {
      "cell_type": "code",
      "source": [
        "df = df[~df['clean_text'].duplicated()]\n",
        "print(f\"Reseñas duplicadas: {len(df[df['clean_text'].duplicated() == True])}\")"
      ],
      "metadata": {
        "colab": {
          "base_uri": "https://localhost:8080/"
        },
        "id": "5_QYrLGboFM3",
        "outputId": "8625b5a8-85d7-443a-a898-9619822f2be6"
      },
      "id": "5_QYrLGboFM3",
      "execution_count": null,
      "outputs": [
        {
          "output_type": "stream",
          "name": "stdout",
          "text": [
            "Reseñas duplicadas: 0\n"
          ]
        }
      ]
    },
    {
      "cell_type": "markdown",
      "source": [
        "**Ejercicio**: eliminar **menciones (@)**, **hashtags (#)**, o **código HTML**."
      ],
      "metadata": {
        "id": "TieA6BP-jmxs"
      },
      "id": "TieA6BP-jmxs"
    },
    {
      "cell_type": "code",
      "source": [
        "print(f\"Cantidad de @ encontradas: {df['clean_text'].str.contains('@').sum()}\")\n",
        "print(f\"Cantidad de # encontradas: {df['clean_text'].str.contains('#').sum()}\")\n",
        "\n",
        "# no_hash_arr_text = text = re.sub(r'[#@]', '', text)"
      ],
      "metadata": {
        "colab": {
          "base_uri": "https://localhost:8080/"
        },
        "id": "djfh10k5jniN",
        "outputId": "31c12a6b-f4d7-44e1-fba5-3e2e189b4c85"
      },
      "id": "djfh10k5jniN",
      "execution_count": null,
      "outputs": [
        {
          "output_type": "stream",
          "name": "stdout",
          "text": [
            "Cantidad de @ encontradas: 0\n",
            "Cantidad de # encontradas: 0\n"
          ]
        }
      ]
    },
    {
      "cell_type": "markdown",
      "source": [
        "**Ejercicio**: filtrar **tokens no alfabéticos**."
      ],
      "metadata": {
        "id": "FJqB9uLOjyoz"
      },
      "id": "FJqB9uLOjyoz"
    },
    {
      "cell_type": "code",
      "source": [
        "import nltk\n",
        "nltk.download('punkt')\n",
        "nltk.download('punkt_tab')\n",
        "from nltk import word_tokenize\n",
        "\n",
        "\n",
        "def filter_tokens(text):\n",
        "    alpha_tokens = [w for w in word_tokenize(text) if re.match(\"^[a-z]+.*\", w)]\n",
        "    return alpha_tokens\n",
        "\n",
        "try:\n",
        "    df['clean_text_tokens'] = df['clean_text'].apply(filter_tokens)\n",
        "except:\n",
        "    print('Ya se han filtrado los tokens previamente.')\n",
        "df.head(3)"
      ],
      "metadata": {
        "id": "WhD-aH_tjzSz",
        "colab": {
          "base_uri": "https://localhost:8080/",
          "height": 369
        },
        "outputId": "9db2af66-6b20-4293-c0eb-cf95e9c23524"
      },
      "id": "WhD-aH_tjzSz",
      "execution_count": null,
      "outputs": [
        {
          "output_type": "stream",
          "name": "stderr",
          "text": [
            "[nltk_data] Downloading package punkt to /root/nltk_data...\n",
            "[nltk_data]   Package punkt is already up-to-date!\n",
            "[nltk_data] Downloading package punkt_tab to /root/nltk_data...\n",
            "[nltk_data]   Package punkt_tab is already up-to-date!\n"
          ]
        },
        {
          "output_type": "execute_result",
          "data": {
            "text/plain": [
              "                                                                                                                                        full_review_text  \\\n",
              "0   11/25/2016 1 check-in Love love loved the atmosphere! Every corner of the coffee shop had its own style, and there were swings!!! I ordered the m...   \n",
              "3   11/25/2016 Very cool decor! Good drinks Nice seating  However...  Just about everything is overpriced. $1.50 extra for 3 ounces of Almond Milk in...   \n",
              "4   12/3/2016 1 check-in They are located within the Northcross mall shopping center facing east toward Burnet Rd with plenty of parking. I loved the...   \n",
              "\n",
              "   star_rating  sentiment  text_length  \\\n",
              "0          5.0          1           98   \n",
              "3          2.0          0           68   \n",
              "4          4.0          1          117   \n",
              "\n",
              "                                                                                                                                              clean_text  \\\n",
              "0  love love loved the atmosphere every corner of the coffee shop had its own style and there were swings i ordered the matcha latte and it was muy f...   \n",
              "3  very cool decor good drinks nice seating however... just about everything is overpriced. 1.50 extra for 3 ounces of almond milk in a cortado. no w...   \n",
              "4  they are located within the northcross mall shopping center facing east toward burnet rd with plenty of parking. i loved their computerized user f...   \n",
              "\n",
              "                                                                                                                                       clean_text_tokens  \n",
              "0  [love, love, loved, the, atmosphere, every, corner, of, the, coffee, shop, had, its, own, style, and, there, were, swings, i, ordered, the, matcha...  \n",
              "3  [very, cool, decor, good, drinks, nice, seating, however, just, about, everything, is, overpriced, extra, for, ounces, of, almond, milk, in, a, co...  \n",
              "4  [they, are, located, within, the, northcross, mall, shopping, center, facing, east, toward, burnet, rd, with, plenty, of, parking, i, loved, their...  "
            ],
            "text/html": [
              "\n",
              "  <div id=\"df-ed1907d7-ae62-4c35-9ae2-891a144c6307\" class=\"colab-df-container\">\n",
              "    <div>\n",
              "<style scoped>\n",
              "    .dataframe tbody tr th:only-of-type {\n",
              "        vertical-align: middle;\n",
              "    }\n",
              "\n",
              "    .dataframe tbody tr th {\n",
              "        vertical-align: top;\n",
              "    }\n",
              "\n",
              "    .dataframe thead th {\n",
              "        text-align: right;\n",
              "    }\n",
              "</style>\n",
              "<table border=\"1\" class=\"dataframe\">\n",
              "  <thead>\n",
              "    <tr style=\"text-align: right;\">\n",
              "      <th></th>\n",
              "      <th>full_review_text</th>\n",
              "      <th>star_rating</th>\n",
              "      <th>sentiment</th>\n",
              "      <th>text_length</th>\n",
              "      <th>clean_text</th>\n",
              "      <th>clean_text_tokens</th>\n",
              "    </tr>\n",
              "  </thead>\n",
              "  <tbody>\n",
              "    <tr>\n",
              "      <th>0</th>\n",
              "      <td>11/25/2016 1 check-in Love love loved the atmosphere! Every corner of the coffee shop had its own style, and there were swings!!! I ordered the m...</td>\n",
              "      <td>5.0</td>\n",
              "      <td>1</td>\n",
              "      <td>98</td>\n",
              "      <td>love love loved the atmosphere every corner of the coffee shop had its own style and there were swings i ordered the matcha latte and it was muy f...</td>\n",
              "      <td>[love, love, loved, the, atmosphere, every, corner, of, the, coffee, shop, had, its, own, style, and, there, were, swings, i, ordered, the, matcha...</td>\n",
              "    </tr>\n",
              "    <tr>\n",
              "      <th>3</th>\n",
              "      <td>11/25/2016 Very cool decor! Good drinks Nice seating  However...  Just about everything is overpriced. $1.50 extra for 3 ounces of Almond Milk in...</td>\n",
              "      <td>2.0</td>\n",
              "      <td>0</td>\n",
              "      <td>68</td>\n",
              "      <td>very cool decor good drinks nice seating however... just about everything is overpriced. 1.50 extra for 3 ounces of almond milk in a cortado. no w...</td>\n",
              "      <td>[very, cool, decor, good, drinks, nice, seating, however, just, about, everything, is, overpriced, extra, for, ounces, of, almond, milk, in, a, co...</td>\n",
              "    </tr>\n",
              "    <tr>\n",
              "      <th>4</th>\n",
              "      <td>12/3/2016 1 check-in They are located within the Northcross mall shopping center facing east toward Burnet Rd with plenty of parking. I loved the...</td>\n",
              "      <td>4.0</td>\n",
              "      <td>1</td>\n",
              "      <td>117</td>\n",
              "      <td>they are located within the northcross mall shopping center facing east toward burnet rd with plenty of parking. i loved their computerized user f...</td>\n",
              "      <td>[they, are, located, within, the, northcross, mall, shopping, center, facing, east, toward, burnet, rd, with, plenty, of, parking, i, loved, their...</td>\n",
              "    </tr>\n",
              "  </tbody>\n",
              "</table>\n",
              "</div>\n",
              "    <div class=\"colab-df-buttons\">\n",
              "\n",
              "  <div class=\"colab-df-container\">\n",
              "    <button class=\"colab-df-convert\" onclick=\"convertToInteractive('df-ed1907d7-ae62-4c35-9ae2-891a144c6307')\"\n",
              "            title=\"Convert this dataframe to an interactive table.\"\n",
              "            style=\"display:none;\">\n",
              "\n",
              "  <svg xmlns=\"http://www.w3.org/2000/svg\" height=\"24px\" viewBox=\"0 -960 960 960\">\n",
              "    <path d=\"M120-120v-720h720v720H120Zm60-500h600v-160H180v160Zm220 220h160v-160H400v160Zm0 220h160v-160H400v160ZM180-400h160v-160H180v160Zm440 0h160v-160H620v160ZM180-180h160v-160H180v160Zm440 0h160v-160H620v160Z\"/>\n",
              "  </svg>\n",
              "    </button>\n",
              "\n",
              "  <style>\n",
              "    .colab-df-container {\n",
              "      display:flex;\n",
              "      gap: 12px;\n",
              "    }\n",
              "\n",
              "    .colab-df-convert {\n",
              "      background-color: #E8F0FE;\n",
              "      border: none;\n",
              "      border-radius: 50%;\n",
              "      cursor: pointer;\n",
              "      display: none;\n",
              "      fill: #1967D2;\n",
              "      height: 32px;\n",
              "      padding: 0 0 0 0;\n",
              "      width: 32px;\n",
              "    }\n",
              "\n",
              "    .colab-df-convert:hover {\n",
              "      background-color: #E2EBFA;\n",
              "      box-shadow: 0px 1px 2px rgba(60, 64, 67, 0.3), 0px 1px 3px 1px rgba(60, 64, 67, 0.15);\n",
              "      fill: #174EA6;\n",
              "    }\n",
              "\n",
              "    .colab-df-buttons div {\n",
              "      margin-bottom: 4px;\n",
              "    }\n",
              "\n",
              "    [theme=dark] .colab-df-convert {\n",
              "      background-color: #3B4455;\n",
              "      fill: #D2E3FC;\n",
              "    }\n",
              "\n",
              "    [theme=dark] .colab-df-convert:hover {\n",
              "      background-color: #434B5C;\n",
              "      box-shadow: 0px 1px 3px 1px rgba(0, 0, 0, 0.15);\n",
              "      filter: drop-shadow(0px 1px 2px rgba(0, 0, 0, 0.3));\n",
              "      fill: #FFFFFF;\n",
              "    }\n",
              "  </style>\n",
              "\n",
              "    <script>\n",
              "      const buttonEl =\n",
              "        document.querySelector('#df-ed1907d7-ae62-4c35-9ae2-891a144c6307 button.colab-df-convert');\n",
              "      buttonEl.style.display =\n",
              "        google.colab.kernel.accessAllowed ? 'block' : 'none';\n",
              "\n",
              "      async function convertToInteractive(key) {\n",
              "        const element = document.querySelector('#df-ed1907d7-ae62-4c35-9ae2-891a144c6307');\n",
              "        const dataTable =\n",
              "          await google.colab.kernel.invokeFunction('convertToInteractive',\n",
              "                                                    [key], {});\n",
              "        if (!dataTable) return;\n",
              "\n",
              "        const docLinkHtml = 'Like what you see? Visit the ' +\n",
              "          '<a target=\"_blank\" href=https://colab.research.google.com/notebooks/data_table.ipynb>data table notebook</a>'\n",
              "          + ' to learn more about interactive tables.';\n",
              "        element.innerHTML = '';\n",
              "        dataTable['output_type'] = 'display_data';\n",
              "        await google.colab.output.renderOutput(dataTable, element);\n",
              "        const docLink = document.createElement('div');\n",
              "        docLink.innerHTML = docLinkHtml;\n",
              "        element.appendChild(docLink);\n",
              "      }\n",
              "    </script>\n",
              "  </div>\n",
              "\n",
              "\n",
              "<div id=\"df-d625afc7-83ac-407d-b3e6-03ebda1fd348\">\n",
              "  <button class=\"colab-df-quickchart\" onclick=\"quickchart('df-d625afc7-83ac-407d-b3e6-03ebda1fd348')\"\n",
              "            title=\"Suggest charts\"\n",
              "            style=\"display:none;\">\n",
              "\n",
              "<svg xmlns=\"http://www.w3.org/2000/svg\" height=\"24px\"viewBox=\"0 0 24 24\"\n",
              "     width=\"24px\">\n",
              "    <g>\n",
              "        <path d=\"M19 3H5c-1.1 0-2 .9-2 2v14c0 1.1.9 2 2 2h14c1.1 0 2-.9 2-2V5c0-1.1-.9-2-2-2zM9 17H7v-7h2v7zm4 0h-2V7h2v10zm4 0h-2v-4h2v4z\"/>\n",
              "    </g>\n",
              "</svg>\n",
              "  </button>\n",
              "\n",
              "<style>\n",
              "  .colab-df-quickchart {\n",
              "      --bg-color: #E8F0FE;\n",
              "      --fill-color: #1967D2;\n",
              "      --hover-bg-color: #E2EBFA;\n",
              "      --hover-fill-color: #174EA6;\n",
              "      --disabled-fill-color: #AAA;\n",
              "      --disabled-bg-color: #DDD;\n",
              "  }\n",
              "\n",
              "  [theme=dark] .colab-df-quickchart {\n",
              "      --bg-color: #3B4455;\n",
              "      --fill-color: #D2E3FC;\n",
              "      --hover-bg-color: #434B5C;\n",
              "      --hover-fill-color: #FFFFFF;\n",
              "      --disabled-bg-color: #3B4455;\n",
              "      --disabled-fill-color: #666;\n",
              "  }\n",
              "\n",
              "  .colab-df-quickchart {\n",
              "    background-color: var(--bg-color);\n",
              "    border: none;\n",
              "    border-radius: 50%;\n",
              "    cursor: pointer;\n",
              "    display: none;\n",
              "    fill: var(--fill-color);\n",
              "    height: 32px;\n",
              "    padding: 0;\n",
              "    width: 32px;\n",
              "  }\n",
              "\n",
              "  .colab-df-quickchart:hover {\n",
              "    background-color: var(--hover-bg-color);\n",
              "    box-shadow: 0 1px 2px rgba(60, 64, 67, 0.3), 0 1px 3px 1px rgba(60, 64, 67, 0.15);\n",
              "    fill: var(--button-hover-fill-color);\n",
              "  }\n",
              "\n",
              "  .colab-df-quickchart-complete:disabled,\n",
              "  .colab-df-quickchart-complete:disabled:hover {\n",
              "    background-color: var(--disabled-bg-color);\n",
              "    fill: var(--disabled-fill-color);\n",
              "    box-shadow: none;\n",
              "  }\n",
              "\n",
              "  .colab-df-spinner {\n",
              "    border: 2px solid var(--fill-color);\n",
              "    border-color: transparent;\n",
              "    border-bottom-color: var(--fill-color);\n",
              "    animation:\n",
              "      spin 1s steps(1) infinite;\n",
              "  }\n",
              "\n",
              "  @keyframes spin {\n",
              "    0% {\n",
              "      border-color: transparent;\n",
              "      border-bottom-color: var(--fill-color);\n",
              "      border-left-color: var(--fill-color);\n",
              "    }\n",
              "    20% {\n",
              "      border-color: transparent;\n",
              "      border-left-color: var(--fill-color);\n",
              "      border-top-color: var(--fill-color);\n",
              "    }\n",
              "    30% {\n",
              "      border-color: transparent;\n",
              "      border-left-color: var(--fill-color);\n",
              "      border-top-color: var(--fill-color);\n",
              "      border-right-color: var(--fill-color);\n",
              "    }\n",
              "    40% {\n",
              "      border-color: transparent;\n",
              "      border-right-color: var(--fill-color);\n",
              "      border-top-color: var(--fill-color);\n",
              "    }\n",
              "    60% {\n",
              "      border-color: transparent;\n",
              "      border-right-color: var(--fill-color);\n",
              "    }\n",
              "    80% {\n",
              "      border-color: transparent;\n",
              "      border-right-color: var(--fill-color);\n",
              "      border-bottom-color: var(--fill-color);\n",
              "    }\n",
              "    90% {\n",
              "      border-color: transparent;\n",
              "      border-bottom-color: var(--fill-color);\n",
              "    }\n",
              "  }\n",
              "</style>\n",
              "\n",
              "  <script>\n",
              "    async function quickchart(key) {\n",
              "      const quickchartButtonEl =\n",
              "        document.querySelector('#' + key + ' button');\n",
              "      quickchartButtonEl.disabled = true;  // To prevent multiple clicks.\n",
              "      quickchartButtonEl.classList.add('colab-df-spinner');\n",
              "      try {\n",
              "        const charts = await google.colab.kernel.invokeFunction(\n",
              "            'suggestCharts', [key], {});\n",
              "      } catch (error) {\n",
              "        console.error('Error during call to suggestCharts:', error);\n",
              "      }\n",
              "      quickchartButtonEl.classList.remove('colab-df-spinner');\n",
              "      quickchartButtonEl.classList.add('colab-df-quickchart-complete');\n",
              "    }\n",
              "    (() => {\n",
              "      let quickchartButtonEl =\n",
              "        document.querySelector('#df-d625afc7-83ac-407d-b3e6-03ebda1fd348 button');\n",
              "      quickchartButtonEl.style.display =\n",
              "        google.colab.kernel.accessAllowed ? 'block' : 'none';\n",
              "    })();\n",
              "  </script>\n",
              "</div>\n",
              "\n",
              "    </div>\n",
              "  </div>\n"
            ],
            "application/vnd.google.colaboratory.intrinsic+json": {
              "type": "dataframe",
              "variable_name": "df",
              "summary": "{\n  \"name\": \"df\",\n  \"rows\": 5802,\n  \"fields\": [\n    {\n      \"column\": \"full_review_text\",\n      \"properties\": {\n        \"dtype\": \"string\",\n        \"num_unique_values\": 5802,\n        \"samples\": [\n          \" 6/3/2015 I loved Alta's Cafe. I spent over three hours here drinking, eating and enjoying their patio. Everything was delicious and very reasonably priced. The view of the river makes for a great ambiance as well. Highly recommended! \",\n          \" 5/8/2015 I love the vibe of this coffee shop here in East Austin... Great people, easy conversations... and the drinks are very solid.  I will be a regular customer. \",\n          \" 6/20/2016 I'm joining the chorus to say that Venezia is fantastic! Everything about my pop-in for a gelato on a sweltering summer afternoon felt authentically Italian. The proprietor is friendly and proud of his offerings, the flavors are familiar and yet somehow elevated, and the store is modern, spotlessly clean, and surprisingly large.  I went for a traditional pistachio and hazelnut for my first visit while my friend opted for two fruit flavors. All were so delicious that we were plotting our return trip before we left the store.  I want to tell everyone about Venezia because it may be a little less showy than some of its counterparts around town, but it is damn fine gelato. The real deal. \"\n        ],\n        \"semantic_type\": \"\",\n        \"description\": \"\"\n      }\n    },\n    {\n      \"column\": \"star_rating\",\n      \"properties\": {\n        \"dtype\": \"number\",\n        \"std\": 1.061864054392866,\n        \"min\": 1.0,\n        \"max\": 5.0,\n        \"num_unique_values\": 4,\n        \"samples\": [\n          2.0,\n          1.0,\n          5.0\n        ],\n        \"semantic_type\": \"\",\n        \"description\": \"\"\n      }\n    },\n    {\n      \"column\": \"sentiment\",\n      \"properties\": {\n        \"dtype\": \"number\",\n        \"std\": 0,\n        \"min\": 0,\n        \"max\": 1,\n        \"num_unique_values\": 2,\n        \"samples\": [\n          0,\n          1\n        ],\n        \"semantic_type\": \"\",\n        \"description\": \"\"\n      }\n    },\n    {\n      \"column\": \"text_length\",\n      \"properties\": {\n        \"dtype\": \"number\",\n        \"std\": 77,\n        \"min\": 5,\n        \"max\": 945,\n        \"num_unique_values\": 382,\n        \"samples\": [\n          7,\n          276\n        ],\n        \"semantic_type\": \"\",\n        \"description\": \"\"\n      }\n    },\n    {\n      \"column\": \"clean_text\",\n      \"properties\": {\n        \"dtype\": \"string\",\n        \"num_unique_values\": 5802,\n        \"samples\": [\n          \"i loved alta's cafe. i spent over three hours here drinking eating and enjoying their patio. everything was delicious and very reasonably priced. the view of the river makes for a great ambiance as well. highly recommended\",\n          \"i love the vibe of this coffee shop here in east austin... great people easy conversations... and the drinks are very solid. i will be a regular customer.\"\n        ],\n        \"semantic_type\": \"\",\n        \"description\": \"\"\n      }\n    },\n    {\n      \"column\": \"clean_text_tokens\",\n      \"properties\": {\n        \"dtype\": \"object\",\n        \"semantic_type\": \"\",\n        \"description\": \"\"\n      }\n    }\n  ]\n}"
            }
          },
          "metadata": {},
          "execution_count": 25
        }
      ]
    },
    {
      "cell_type": "markdown",
      "id": "9dd14cd0",
      "metadata": {
        "id": "9dd14cd0"
      },
      "source": [
        "# 2. Obtención de datos\n",
        "\n",
        "En esta parte analizaremos el texto, *encontraremos el conjunto de términos multipalabra relevantes del dataset y analizaremos el objeto y aspectos de las opiniones* del texto utilizando el modelo Word2Wec. Para ello empezaremos calculando los **mejores bigramas y trigramas de las opiniones del dataset y evaluarlos** según distintas métricas (PMI y Likehood). Posteriormente, detectaremos los **n-gramas que cumplan un patrón sintáctico de un sintagma nominal** (e.g: adjetivo + nombre en singular/plural, nombre + nombre y nombre en singular/plural) y, terminaremos **detectando colocaciones** con un modelo de detección de frases, por ejemplo con el módulo Phraser de Gensim. Una vez analizados los terminos multiplalabra, **crearemos un modelo word2vec** con las opiniones lematizadas y lo utilizaremos para analizar los targets de las opiniones.\n"
      ]
    },
    {
      "cell_type": "code",
      "execution_count": null,
      "id": "c8d66db0-6e3c-48bb-b58c-ac11b3c8d31c",
      "metadata": {
        "id": "c8d66db0-6e3c-48bb-b58c-ac11b3c8d31c",
        "colab": {
          "base_uri": "https://localhost:8080/"
        },
        "collapsed": true,
        "outputId": "47ccc9ca-da06-4ab1-8ac1-3124edf074da"
      },
      "outputs": [
        {
          "output_type": "stream",
          "name": "stderr",
          "text": [
            "[nltk_data] Downloading collection 'all'\n",
            "[nltk_data]    | \n",
            "[nltk_data]    | Downloading package abc to /root/nltk_data...\n",
            "[nltk_data]    |   Package abc is already up-to-date!\n",
            "[nltk_data]    | Downloading package alpino to /root/nltk_data...\n",
            "[nltk_data]    |   Package alpino is already up-to-date!\n",
            "[nltk_data]    | Downloading package averaged_perceptron_tagger to\n",
            "[nltk_data]    |     /root/nltk_data...\n",
            "[nltk_data]    |   Package averaged_perceptron_tagger is already up-\n",
            "[nltk_data]    |       to-date!\n",
            "[nltk_data]    | Downloading package averaged_perceptron_tagger_eng to\n",
            "[nltk_data]    |     /root/nltk_data...\n",
            "[nltk_data]    |   Package averaged_perceptron_tagger_eng is already\n",
            "[nltk_data]    |       up-to-date!\n",
            "[nltk_data]    | Downloading package averaged_perceptron_tagger_ru to\n",
            "[nltk_data]    |     /root/nltk_data...\n",
            "[nltk_data]    |   Package averaged_perceptron_tagger_ru is already\n",
            "[nltk_data]    |       up-to-date!\n",
            "[nltk_data]    | Downloading package averaged_perceptron_tagger_rus to\n",
            "[nltk_data]    |     /root/nltk_data...\n",
            "[nltk_data]    |   Package averaged_perceptron_tagger_rus is already\n",
            "[nltk_data]    |       up-to-date!\n",
            "[nltk_data]    | Downloading package basque_grammars to\n",
            "[nltk_data]    |     /root/nltk_data...\n",
            "[nltk_data]    |   Package basque_grammars is already up-to-date!\n",
            "[nltk_data]    | Downloading package bcp47 to /root/nltk_data...\n",
            "[nltk_data]    |   Package bcp47 is already up-to-date!\n",
            "[nltk_data]    | Downloading package biocreative_ppi to\n",
            "[nltk_data]    |     /root/nltk_data...\n",
            "[nltk_data]    |   Package biocreative_ppi is already up-to-date!\n",
            "[nltk_data]    | Downloading package bllip_wsj_no_aux to\n",
            "[nltk_data]    |     /root/nltk_data...\n",
            "[nltk_data]    |   Package bllip_wsj_no_aux is already up-to-date!\n",
            "[nltk_data]    | Downloading package book_grammars to\n",
            "[nltk_data]    |     /root/nltk_data...\n",
            "[nltk_data]    |   Package book_grammars is already up-to-date!\n",
            "[nltk_data]    | Downloading package brown to /root/nltk_data...\n",
            "[nltk_data]    |   Package brown is already up-to-date!\n",
            "[nltk_data]    | Downloading package brown_tei to /root/nltk_data...\n",
            "[nltk_data]    |   Package brown_tei is already up-to-date!\n",
            "[nltk_data]    | Downloading package cess_cat to /root/nltk_data...\n",
            "[nltk_data]    |   Package cess_cat is already up-to-date!\n",
            "[nltk_data]    | Downloading package cess_esp to /root/nltk_data...\n",
            "[nltk_data]    |   Package cess_esp is already up-to-date!\n",
            "[nltk_data]    | Downloading package chat80 to /root/nltk_data...\n",
            "[nltk_data]    |   Package chat80 is already up-to-date!\n",
            "[nltk_data]    | Downloading package city_database to\n",
            "[nltk_data]    |     /root/nltk_data...\n",
            "[nltk_data]    |   Package city_database is already up-to-date!\n",
            "[nltk_data]    | Downloading package cmudict to /root/nltk_data...\n",
            "[nltk_data]    |   Package cmudict is already up-to-date!\n",
            "[nltk_data]    | Downloading package comparative_sentences to\n",
            "[nltk_data]    |     /root/nltk_data...\n",
            "[nltk_data]    |   Package comparative_sentences is already up-to-\n",
            "[nltk_data]    |       date!\n",
            "[nltk_data]    | Downloading package comtrans to /root/nltk_data...\n",
            "[nltk_data]    |   Package comtrans is already up-to-date!\n",
            "[nltk_data]    | Downloading package conll2000 to /root/nltk_data...\n",
            "[nltk_data]    |   Package conll2000 is already up-to-date!\n",
            "[nltk_data]    | Downloading package conll2002 to /root/nltk_data...\n",
            "[nltk_data]    |   Package conll2002 is already up-to-date!\n",
            "[nltk_data]    | Downloading package conll2007 to /root/nltk_data...\n",
            "[nltk_data]    |   Package conll2007 is already up-to-date!\n",
            "[nltk_data]    | Downloading package crubadan to /root/nltk_data...\n",
            "[nltk_data]    |   Package crubadan is already up-to-date!\n",
            "[nltk_data]    | Downloading package dependency_treebank to\n",
            "[nltk_data]    |     /root/nltk_data...\n",
            "[nltk_data]    |   Package dependency_treebank is already up-to-date!\n",
            "[nltk_data]    | Downloading package dolch to /root/nltk_data...\n",
            "[nltk_data]    |   Package dolch is already up-to-date!\n",
            "[nltk_data]    | Downloading package english_wordnet to\n",
            "[nltk_data]    |     /root/nltk_data...\n",
            "[nltk_data]    |   Package english_wordnet is already up-to-date!\n",
            "[nltk_data]    | Downloading package europarl_raw to\n",
            "[nltk_data]    |     /root/nltk_data...\n",
            "[nltk_data]    |   Package europarl_raw is already up-to-date!\n",
            "[nltk_data]    | Downloading package extended_omw to\n",
            "[nltk_data]    |     /root/nltk_data...\n",
            "[nltk_data]    |   Package extended_omw is already up-to-date!\n",
            "[nltk_data]    | Downloading package floresta to /root/nltk_data...\n",
            "[nltk_data]    |   Package floresta is already up-to-date!\n",
            "[nltk_data]    | Downloading package framenet_v15 to\n",
            "[nltk_data]    |     /root/nltk_data...\n",
            "[nltk_data]    |   Package framenet_v15 is already up-to-date!\n",
            "[nltk_data]    | Downloading package framenet_v17 to\n",
            "[nltk_data]    |     /root/nltk_data...\n",
            "[nltk_data]    |   Package framenet_v17 is already up-to-date!\n",
            "[nltk_data]    | Downloading package gazetteers to /root/nltk_data...\n",
            "[nltk_data]    |   Package gazetteers is already up-to-date!\n",
            "[nltk_data]    | Downloading package genesis to /root/nltk_data...\n",
            "[nltk_data]    |   Package genesis is already up-to-date!\n",
            "[nltk_data]    | Downloading package gutenberg to /root/nltk_data...\n",
            "[nltk_data]    |   Package gutenberg is already up-to-date!\n",
            "[nltk_data]    | Downloading package ieer to /root/nltk_data...\n",
            "[nltk_data]    |   Package ieer is already up-to-date!\n",
            "[nltk_data]    | Downloading package inaugural to /root/nltk_data...\n",
            "[nltk_data]    |   Package inaugural is already up-to-date!\n",
            "[nltk_data]    | Downloading package indian to /root/nltk_data...\n",
            "[nltk_data]    |   Package indian is already up-to-date!\n",
            "[nltk_data]    | Downloading package jeita to /root/nltk_data...\n",
            "[nltk_data]    |   Package jeita is already up-to-date!\n",
            "[nltk_data]    | Downloading package kimmo to /root/nltk_data...\n",
            "[nltk_data]    |   Package kimmo is already up-to-date!\n",
            "[nltk_data]    | Downloading package knbc to /root/nltk_data...\n",
            "[nltk_data]    |   Package knbc is already up-to-date!\n",
            "[nltk_data]    | Downloading package large_grammars to\n",
            "[nltk_data]    |     /root/nltk_data...\n",
            "[nltk_data]    |   Package large_grammars is already up-to-date!\n",
            "[nltk_data]    | Downloading package lin_thesaurus to\n",
            "[nltk_data]    |     /root/nltk_data...\n",
            "[nltk_data]    |   Package lin_thesaurus is already up-to-date!\n",
            "[nltk_data]    | Downloading package mac_morpho to /root/nltk_data...\n",
            "[nltk_data]    |   Package mac_morpho is already up-to-date!\n",
            "[nltk_data]    | Downloading package machado to /root/nltk_data...\n",
            "[nltk_data]    |   Package machado is already up-to-date!\n",
            "[nltk_data]    | Downloading package masc_tagged to /root/nltk_data...\n",
            "[nltk_data]    |   Package masc_tagged is already up-to-date!\n",
            "[nltk_data]    | Downloading package maxent_ne_chunker to\n",
            "[nltk_data]    |     /root/nltk_data...\n",
            "[nltk_data]    |   Package maxent_ne_chunker is already up-to-date!\n",
            "[nltk_data]    | Downloading package maxent_ne_chunker_tab to\n",
            "[nltk_data]    |     /root/nltk_data...\n",
            "[nltk_data]    |   Package maxent_ne_chunker_tab is already up-to-\n",
            "[nltk_data]    |       date!\n",
            "[nltk_data]    | Downloading package maxent_treebank_pos_tagger to\n",
            "[nltk_data]    |     /root/nltk_data...\n",
            "[nltk_data]    |   Package maxent_treebank_pos_tagger is already up-\n",
            "[nltk_data]    |       to-date!\n",
            "[nltk_data]    | Downloading package maxent_treebank_pos_tagger_tab to\n",
            "[nltk_data]    |     /root/nltk_data...\n",
            "[nltk_data]    |   Package maxent_treebank_pos_tagger_tab is already\n",
            "[nltk_data]    |       up-to-date!\n",
            "[nltk_data]    | Downloading package moses_sample to\n",
            "[nltk_data]    |     /root/nltk_data...\n",
            "[nltk_data]    |   Package moses_sample is already up-to-date!\n",
            "[nltk_data]    | Downloading package movie_reviews to\n",
            "[nltk_data]    |     /root/nltk_data...\n",
            "[nltk_data]    |   Package movie_reviews is already up-to-date!\n",
            "[nltk_data]    | Downloading package mte_teip5 to /root/nltk_data...\n",
            "[nltk_data]    |   Package mte_teip5 is already up-to-date!\n",
            "[nltk_data]    | Downloading package mwa_ppdb to /root/nltk_data...\n",
            "[nltk_data]    |   Package mwa_ppdb is already up-to-date!\n",
            "[nltk_data]    | Downloading package names to /root/nltk_data...\n",
            "[nltk_data]    |   Package names is already up-to-date!\n",
            "[nltk_data]    | Downloading package nombank.1.0 to /root/nltk_data...\n",
            "[nltk_data]    |   Package nombank.1.0 is already up-to-date!\n",
            "[nltk_data]    | Downloading package nonbreaking_prefixes to\n",
            "[nltk_data]    |     /root/nltk_data...\n",
            "[nltk_data]    |   Package nonbreaking_prefixes is already up-to-date!\n",
            "[nltk_data]    | Downloading package nps_chat to /root/nltk_data...\n",
            "[nltk_data]    |   Package nps_chat is already up-to-date!\n",
            "[nltk_data]    | Downloading package omw to /root/nltk_data...\n",
            "[nltk_data]    |   Package omw is already up-to-date!\n",
            "[nltk_data]    | Downloading package omw-1.4 to /root/nltk_data...\n",
            "[nltk_data]    |   Package omw-1.4 is already up-to-date!\n",
            "[nltk_data]    | Downloading package opinion_lexicon to\n",
            "[nltk_data]    |     /root/nltk_data...\n",
            "[nltk_data]    |   Package opinion_lexicon is already up-to-date!\n",
            "[nltk_data]    | Downloading package panlex_swadesh to\n",
            "[nltk_data]    |     /root/nltk_data...\n",
            "[nltk_data]    |   Package panlex_swadesh is already up-to-date!\n",
            "[nltk_data]    | Downloading package paradigms to /root/nltk_data...\n",
            "[nltk_data]    |   Package paradigms is already up-to-date!\n",
            "[nltk_data]    | Downloading package pe08 to /root/nltk_data...\n",
            "[nltk_data]    |   Package pe08 is already up-to-date!\n",
            "[nltk_data]    | Downloading package perluniprops to\n",
            "[nltk_data]    |     /root/nltk_data...\n",
            "[nltk_data]    |   Package perluniprops is already up-to-date!\n",
            "[nltk_data]    | Downloading package pil to /root/nltk_data...\n",
            "[nltk_data]    |   Package pil is already up-to-date!\n",
            "[nltk_data]    | Downloading package pl196x to /root/nltk_data...\n",
            "[nltk_data]    |   Package pl196x is already up-to-date!\n",
            "[nltk_data]    | Downloading package porter_test to /root/nltk_data...\n",
            "[nltk_data]    |   Package porter_test is already up-to-date!\n",
            "[nltk_data]    | Downloading package ppattach to /root/nltk_data...\n",
            "[nltk_data]    |   Package ppattach is already up-to-date!\n",
            "[nltk_data]    | Downloading package problem_reports to\n",
            "[nltk_data]    |     /root/nltk_data...\n",
            "[nltk_data]    |   Package problem_reports is already up-to-date!\n",
            "[nltk_data]    | Downloading package product_reviews_1 to\n",
            "[nltk_data]    |     /root/nltk_data...\n",
            "[nltk_data]    |   Package product_reviews_1 is already up-to-date!\n",
            "[nltk_data]    | Downloading package product_reviews_2 to\n",
            "[nltk_data]    |     /root/nltk_data...\n",
            "[nltk_data]    |   Package product_reviews_2 is already up-to-date!\n",
            "[nltk_data]    | Downloading package propbank to /root/nltk_data...\n",
            "[nltk_data]    |   Package propbank is already up-to-date!\n",
            "[nltk_data]    | Downloading package pros_cons to /root/nltk_data...\n",
            "[nltk_data]    |   Package pros_cons is already up-to-date!\n",
            "[nltk_data]    | Downloading package ptb to /root/nltk_data...\n",
            "[nltk_data]    |   Package ptb is already up-to-date!\n",
            "[nltk_data]    | Downloading package punkt to /root/nltk_data...\n",
            "[nltk_data]    |   Package punkt is already up-to-date!\n",
            "[nltk_data]    | Downloading package punkt_tab to /root/nltk_data...\n",
            "[nltk_data]    |   Package punkt_tab is already up-to-date!\n",
            "[nltk_data]    | Downloading package qc to /root/nltk_data...\n",
            "[nltk_data]    |   Package qc is already up-to-date!\n",
            "[nltk_data]    | Downloading package reuters to /root/nltk_data...\n",
            "[nltk_data]    |   Package reuters is already up-to-date!\n",
            "[nltk_data]    | Downloading package rslp to /root/nltk_data...\n",
            "[nltk_data]    |   Package rslp is already up-to-date!\n",
            "[nltk_data]    | Downloading package rte to /root/nltk_data...\n",
            "[nltk_data]    |   Package rte is already up-to-date!\n",
            "[nltk_data]    | Downloading package sample_grammars to\n",
            "[nltk_data]    |     /root/nltk_data...\n",
            "[nltk_data]    |   Package sample_grammars is already up-to-date!\n",
            "[nltk_data]    | Downloading package semcor to /root/nltk_data...\n",
            "[nltk_data]    |   Package semcor is already up-to-date!\n",
            "[nltk_data]    | Downloading package senseval to /root/nltk_data...\n",
            "[nltk_data]    |   Package senseval is already up-to-date!\n",
            "[nltk_data]    | Downloading package sentence_polarity to\n",
            "[nltk_data]    |     /root/nltk_data...\n",
            "[nltk_data]    |   Package sentence_polarity is already up-to-date!\n",
            "[nltk_data]    | Downloading package sentiwordnet to\n",
            "[nltk_data]    |     /root/nltk_data...\n",
            "[nltk_data]    |   Package sentiwordnet is already up-to-date!\n",
            "[nltk_data]    | Downloading package shakespeare to /root/nltk_data...\n",
            "[nltk_data]    |   Package shakespeare is already up-to-date!\n",
            "[nltk_data]    | Downloading package sinica_treebank to\n",
            "[nltk_data]    |     /root/nltk_data...\n",
            "[nltk_data]    |   Package sinica_treebank is already up-to-date!\n",
            "[nltk_data]    | Downloading package smultron to /root/nltk_data...\n",
            "[nltk_data]    |   Package smultron is already up-to-date!\n",
            "[nltk_data]    | Downloading package snowball_data to\n",
            "[nltk_data]    |     /root/nltk_data...\n",
            "[nltk_data]    |   Package snowball_data is already up-to-date!\n",
            "[nltk_data]    | Downloading package spanish_grammars to\n",
            "[nltk_data]    |     /root/nltk_data...\n",
            "[nltk_data]    |   Package spanish_grammars is already up-to-date!\n",
            "[nltk_data]    | Downloading package state_union to /root/nltk_data...\n",
            "[nltk_data]    |   Package state_union is already up-to-date!\n",
            "[nltk_data]    | Downloading package stopwords to /root/nltk_data...\n",
            "[nltk_data]    |   Package stopwords is already up-to-date!\n",
            "[nltk_data]    | Downloading package subjectivity to\n",
            "[nltk_data]    |     /root/nltk_data...\n",
            "[nltk_data]    |   Package subjectivity is already up-to-date!\n",
            "[nltk_data]    | Downloading package swadesh to /root/nltk_data...\n",
            "[nltk_data]    |   Package swadesh is already up-to-date!\n",
            "[nltk_data]    | Downloading package switchboard to /root/nltk_data...\n",
            "[nltk_data]    |   Package switchboard is already up-to-date!\n",
            "[nltk_data]    | Downloading package tagsets to /root/nltk_data...\n",
            "[nltk_data]    |   Package tagsets is already up-to-date!\n",
            "[nltk_data]    | Downloading package tagsets_json to\n",
            "[nltk_data]    |     /root/nltk_data...\n",
            "[nltk_data]    |   Package tagsets_json is already up-to-date!\n",
            "[nltk_data]    | Downloading package timit to /root/nltk_data...\n",
            "[nltk_data]    |   Package timit is already up-to-date!\n",
            "[nltk_data]    | Downloading package toolbox to /root/nltk_data...\n",
            "[nltk_data]    |   Package toolbox is already up-to-date!\n",
            "[nltk_data]    | Downloading package treebank to /root/nltk_data...\n",
            "[nltk_data]    |   Package treebank is already up-to-date!\n",
            "[nltk_data]    | Downloading package twitter_samples to\n",
            "[nltk_data]    |     /root/nltk_data...\n",
            "[nltk_data]    |   Package twitter_samples is already up-to-date!\n",
            "[nltk_data]    | Downloading package udhr to /root/nltk_data...\n",
            "[nltk_data]    |   Package udhr is already up-to-date!\n",
            "[nltk_data]    | Downloading package udhr2 to /root/nltk_data...\n",
            "[nltk_data]    |   Package udhr2 is already up-to-date!\n",
            "[nltk_data]    | Downloading package unicode_samples to\n",
            "[nltk_data]    |     /root/nltk_data...\n",
            "[nltk_data]    |   Package unicode_samples is already up-to-date!\n",
            "[nltk_data]    | Downloading package universal_tagset to\n",
            "[nltk_data]    |     /root/nltk_data...\n",
            "[nltk_data]    |   Package universal_tagset is already up-to-date!\n",
            "[nltk_data]    | Downloading package universal_treebanks_v20 to\n",
            "[nltk_data]    |     /root/nltk_data...\n",
            "[nltk_data]    |   Package universal_treebanks_v20 is already up-to-\n",
            "[nltk_data]    |       date!\n",
            "[nltk_data]    | Downloading package vader_lexicon to\n",
            "[nltk_data]    |     /root/nltk_data...\n",
            "[nltk_data]    |   Package vader_lexicon is already up-to-date!\n",
            "[nltk_data]    | Downloading package verbnet to /root/nltk_data...\n",
            "[nltk_data]    |   Package verbnet is already up-to-date!\n",
            "[nltk_data]    | Downloading package verbnet3 to /root/nltk_data...\n",
            "[nltk_data]    |   Package verbnet3 is already up-to-date!\n",
            "[nltk_data]    | Downloading package webtext to /root/nltk_data...\n",
            "[nltk_data]    |   Package webtext is already up-to-date!\n",
            "[nltk_data]    | Downloading package wmt15_eval to /root/nltk_data...\n",
            "[nltk_data]    |   Package wmt15_eval is already up-to-date!\n",
            "[nltk_data]    | Downloading package word2vec_sample to\n",
            "[nltk_data]    |     /root/nltk_data...\n",
            "[nltk_data]    |   Package word2vec_sample is already up-to-date!\n",
            "[nltk_data]    | Downloading package wordnet to /root/nltk_data...\n",
            "[nltk_data]    |   Package wordnet is already up-to-date!\n",
            "[nltk_data]    | Downloading package wordnet2021 to /root/nltk_data...\n",
            "[nltk_data]    |   Package wordnet2021 is already up-to-date!\n",
            "[nltk_data]    | Downloading package wordnet2022 to /root/nltk_data...\n",
            "[nltk_data]    |   Package wordnet2022 is already up-to-date!\n",
            "[nltk_data]    | Downloading package wordnet31 to /root/nltk_data...\n",
            "[nltk_data]    |   Package wordnet31 is already up-to-date!\n",
            "[nltk_data]    | Downloading package wordnet_ic to /root/nltk_data...\n",
            "[nltk_data]    |   Package wordnet_ic is already up-to-date!\n",
            "[nltk_data]    | Downloading package words to /root/nltk_data...\n",
            "[nltk_data]    |   Package words is already up-to-date!\n",
            "[nltk_data]    | Downloading package ycoe to /root/nltk_data...\n",
            "[nltk_data]    |   Package ycoe is already up-to-date!\n",
            "[nltk_data]    | \n",
            "[nltk_data]  Done downloading collection all\n"
          ]
        }
      ],
      "source": [
        "# Para este apartado es necesario cargar las siguientes librerías:\n",
        "import nltk\n",
        "nltk.download('all')\n",
        "from nltk import pos_tag, word_tokenize\n",
        "from nltk.collocations import *"
      ]
    },
    {
      "cell_type": "code",
      "execution_count": null,
      "id": "d804647e-a178-43d4-b097-a8a445672fc9",
      "metadata": {
        "colab": {
          "base_uri": "https://localhost:8080/"
        },
        "id": "d804647e-a178-43d4-b097-a8a445672fc9",
        "outputId": "0f0934fb-1099-44a5-8ee3-15078295a1d9"
      },
      "outputs": [
        {
          "output_type": "execute_result",
          "data": {
            "text/plain": [
              "['would',\n",
              " 'a',\n",
              " 'about',\n",
              " 'above',\n",
              " 'after',\n",
              " 'again',\n",
              " 'against',\n",
              " 'ain',\n",
              " 'all',\n",
              " 'am',\n",
              " 'an',\n",
              " 'and',\n",
              " 'any',\n",
              " 'are',\n",
              " 'aren']"
            ]
          },
          "metadata": {},
          "execution_count": 27
        }
      ],
      "source": [
        "#Importar la lista de stopwords en el idioma de los *reviews* de la libreria NLTK y agregamos algunas adicionales:\n",
        "custom_stopwords =  [\"would\"]\n",
        "custom_stopwords = custom_stopwords + nltk.corpus.stopwords.words('english')\n",
        "custom_stopwords[:15] # extracto de stopwords."
      ]
    },
    {
      "cell_type": "markdown",
      "id": "cd45f9c3-8a17-4f60-9cde-84336516e1a5",
      "metadata": {
        "id": "cd45f9c3-8a17-4f60-9cde-84336516e1a5"
      },
      "source": [
        "### 2.1. Detección de colocaciones\n",
        "\n",
        "Las colocaciones son términos multipalabra, es decir, secuencias de palabras que, en conjunto, tienen un significado que difiere significativamente del significado de cada palabra individual (e.g. \"new york\")."
      ]
    },
    {
      "cell_type": "markdown",
      "id": "de41ffd0",
      "metadata": {
        "id": "de41ffd0"
      },
      "source": [
        "<div style=\"background-color: #EDF7FF; border-color: #7C9DBF; border-left: 5px solid #7C9DBF; padding: 1em;\">\n",
        "\n",
        "<strong>Ejercicio 2.1.1:</strong> Calcular los mejores bigramas y trigramas de las opiniones. De los mejores bigramas y trigramas, elige a los que no comienzan, ni terminan con una stopword.\n",
        "<br>\n",
        "<b>Salida esperada:</b> Imprimir los primeros 20 n-grams obtenidos con cada métrica.\n",
        "</div>\n",
        "<br>\n",
        "<b>Pasos a realizar</b>:\n",
        "\n",
        "-  Obtener los tokens del texto de las opiniones y etiquetarlos por su PoS\n",
        "-   Aplicar las métricas PMI y Likehood Ratio para calcular los mejores bigramas y los mejores trigramas a partir de los tokens etiquetad ylos que no comcenzan ni terennan con una stopword."
      ]
    },
    {
      "cell_type": "markdown",
      "id": "Jtmvp_5FB1xY",
      "metadata": {
        "id": "Jtmvp_5FB1xY"
      },
      "source": [
        "<div style=\"background-color: #F8F7FF; border-color: #7C9DBF; border-left: 5px solid #7C9DBF; padding: 0.5em;\">\n",
        "    \n",
        "<i>Primer paso</i>: Obtener los tokens del texto de las reseñas. Etiqueta estos tokens por su PoS.\n",
        "\n",
        "Utiliza los métodos *word_tokenize* para tokenizar el texto de las reseñas y  *pos_tag* para determinar la etiqueta de cada token.\n",
        "<br>\n",
        "<b>Salida esperada:</b> Imprime los diez primeros tokens, con su respectiva etiqueta:\n",
        "</div>\n",
        "<br>\n",
        "Antes de categorizar a los tokens por su tag POS, primero vamos a convertir el texto a minúsculas:"
      ]
    },
    {
      "cell_type": "markdown",
      "source": [
        "- En nuestro caso, ya hemos todo el texto a minúsculas en el apartado anterior y hemos tokenizado para eliminar tokens no alfabéticos."
      ],
      "metadata": {
        "id": "-4fwL-7nkKX8"
      },
      "id": "-4fwL-7nkKX8"
    },
    {
      "cell_type": "code",
      "execution_count": null,
      "id": "d964fd1a-ad1d-4d2c-b6b1-108f2df72630",
      "metadata": {
        "id": "d964fd1a-ad1d-4d2c-b6b1-108f2df72630",
        "colab": {
          "base_uri": "https://localhost:8080/",
          "height": 53
        },
        "outputId": "05e62dd9-bcdb-4094-a9a0-db7520285140"
      },
      "outputs": [
        {
          "output_type": "execute_result",
          "data": {
            "text/plain": [
              "'love love loved the atmosphere every corner of the coffee shop had its own style and there were swings i ordered the matcha latte and it was muy fantastico ordering and getting my drink were pretty streamlined. i ordered on an ipad which included all'"
            ],
            "application/vnd.google.colaboratory.intrinsic+json": {
              "type": "string"
            }
          },
          "metadata": {},
          "execution_count": 28
        }
      ],
      "source": [
        "#Creamos texto en minúscula que recoja todas las reseñas.\n",
        "#En las siguientes líneas df es el dataframe donde se cargó el dataset, y text es la columna que tiene el texto preprocesado.\n",
        "#Se sugiere actualizar la siguiente línea con los objetos propios y correr las instrucciones.\n",
        "\n",
        "opinions = \" \".join(df.clean_text.tolist())\n",
        "opinions[:250]"
      ]
    },
    {
      "cell_type": "code",
      "execution_count": null,
      "id": "2c27f9b8",
      "metadata": {
        "id": "2c27f9b8",
        "colab": {
          "base_uri": "https://localhost:8080/"
        },
        "outputId": "17258d03-8ea0-431d-c6cd-938009dccf21"
      },
      "outputs": [
        {
          "output_type": "stream",
          "name": "stdout",
          "text": [
            "[('love', 'VB'), ('love', 'NN'), ('loved', 'VBD'), ('the', 'DT'), ('atmosphere', 'NN'), ('every', 'DT'), ('corner', 'NN'), ('of', 'IN'), ('the', 'DT'), ('coffee', 'NN')]\n"
          ]
        }
      ],
      "source": [
        "#############################################\n",
        "# SOLUCIÓN PASO 1                           #\n",
        "#############################################\n",
        "\n",
        "df['tokens_tagged'] = df['clean_text_tokens'].apply(pos_tag)\n",
        "\n",
        "print(df.iloc[0]['tokens_tagged'][:10])"
      ]
    },
    {
      "cell_type": "markdown",
      "id": "c7287ecb",
      "metadata": {
        "id": "c7287ecb"
      },
      "source": [
        "\n",
        "<div style=\"background-color: #F8F7FF; border-color: #7C9DBF; border-left: 5px solid #7C9DBF; padding: 0.5em;\">\n",
        "    \n",
        "<i>Segundo paso</i>: Calcular los 300 mejores bigramas y los 300 mejores trigramas a partir de los tokens etiquetados (e.g. [(we, PRP), ...]) del texto. Utiliza las métricas PMI y Likehood Ratio.\n",
        "<br>\n",
        "<b>Condición</b>: De la lista de mejores bigramas y trigramas, elige a los que no comienzan ni terminen con una stopword. Para el filtrado de stopwords considera:\n",
        "- La lista previamente cargada (desde el paquete NLTK), y\n",
        "- Las categorías POS que representan a palabras vacías como determinantes, preposiciones, entre otras.\n",
        "<br>\n",
        "<b>Salida esperada:</b> Imprime los primeros 20 n-grams obtenidos con cada métrica.\n",
        "</div>\n",
        "  "
      ]
    },
    {
      "cell_type": "markdown",
      "id": "de2fe029",
      "metadata": {
        "id": "de2fe029"
      },
      "source": [
        "Recordemos la clasificación de etiquetas PoS.\n",
        "\n",
        "<b>Etiquetas PoS</b>\n",
        "\n",
        "<ul>\n",
        "<li>DT: Determinante</li>\n",
        "<li>JJ: Adjetivo</li>\n",
        "<li>NN: Nombre en singular</li>\n",
        "<li>NNS: Nombre en plural</li>\n",
        "<li>VBD: Verbo en pasado</li>\n",
        "<li>VBG: Verbo en gerundio</li>\n",
        "<li>MD: Verbo modal</li>\n",
        "<li>IN: Preposición o conjunción subordinada</li>\n",
        "<li>PRP: Pronombre</li>\n",
        "<li>RB: Adverbio</li>\n",
        "<li>RP: Partícula</li>    \n",
        "<li>CC: Conjunción coordinada</li>\n",
        "<li>CD: Numeral</li>\n",
        "</ul>"
      ]
    },
    {
      "cell_type": "code",
      "execution_count": null,
      "id": "43dfad33",
      "metadata": {
        "id": "43dfad33",
        "colab": {
          "base_uri": "https://localhost:8080/"
        },
        "outputId": "d80cc1b9-6789-420a-dc3f-e72cfaee5fbc"
      },
      "outputs": [
        {
          "output_type": "stream",
          "name": "stdout",
          "text": [
            "Best Bigrams (PMI): [('absinthe', 'fountains'), ('academic', 'masochism'), ('agua', 'frescas'), ('airline', 'baggage'), ('alejandro', 'escovedo'), ('almonds', 'cashews'), ('amelia', 'earhart'), ('amil', 'spelling'), ('applause', 'clapclapclap'), ('arbor', 'michigan'), ('arcade/pub/games', 'crawl'), ('argentine', 'tango'), ('argentinian', 'medialunas'), ('aromatic', 'ethereal'), ('asymmetrical', 'pixie'), ('austria', 'travelled'), ('avant', 'garde'), ('ay', 'caramba'), ('backup', 'guitarist'), ('badge', 'holders')]\n",
            "Best Trigrams (PMI): [('billionaires', 'wooing', 'clumsy'), ('bmw', 'ferrari', 'passby'), ('brkfst', 'lnch', 'dnnr'), ('cruelest', 'playground', 'bully'), ('dingdangity', 'flimflamity', 'shimshamity'), ('dmx', 'tupac', 'nelly'), ('ely', 'malford', 'milligan'), ('existential', 'aromatic', 'ethereal'), ('flora', 'grubb', 'gardens'), ('hulk', 'hogan', 'tshirt'), ('immortal', 'douglas', 'macarthur'), ('jamaican', 'inflected', 'prose'), ('lamb/sweet', 'potato/chick', 'pea'), ('mariokart', 'n64', 'tournament'), ('music/', 'tables/', 'chairs/'), ('ooohhh', 'myyyy', 'goddddd'), ('pepitas', 'almonds', 'cashews'), ('plankenhorn', 'jimmie', 'dale'), ('poem', 'snippet', 'shindig'), ('prom', 'corsage', 'blocking')]\n",
            "Best Bigrams (Likelihood Ratio): [('this', 'place'), ('it', 'is'), ('i', 'am'), ('if', 'you'), ('do', 'not'), ('i', 'have'), ('it', 'was'), ('coffee', 'shop'), ('they', 'have'), ('did', 'not'), ('in', 'austin'), ('you', 'can'), ('as', 'well'), ('i', 'would'), ('you', 'are'), ('my', 'favorite'), ('there', 'is'), ('the', 'best'), ('have', 'been'), ('plenty', 'of')]\n",
            "Best Trigrams (Likelihood Ratio): [('i', 'am', 'not'), ('this', 'place', 'to'), ('the', 'it', 'is'), ('this', 'place', 'is'), ('it', 'is', 'a'), ('love', 'this', 'place'), ('this', 'place', 'has'), ('about', 'this', 'place'), ('this', 'it', 'is'), ('it', 'is', 'not'), ('recommend', 'this', 'place'), ('this', 'place', 'for'), ('like', 'this', 'place'), ('found', 'this', 'place'), ('when', 'i', 'am'), ('this', 'place', 'a'), ('check', 'this', 'place'), ('give', 'this', 'place'), ('this', 'place', 'where'), ('this', 'place', 'out')]\n"
          ]
        }
      ],
      "source": [
        "from nltk.metrics import BigramAssocMeasures, TrigramAssocMeasures\n",
        "from nltk.collocations import BigramCollocationFinder, TrigramCollocationFinder\n",
        "\n",
        "#Cargamos las métricas para el cálculo de bigramas y trigramas:\n",
        "\n",
        "bigram_measures = nltk.collocations.BigramAssocMeasures()\n",
        "trigram_measures = nltk.collocations.TrigramAssocMeasures()\n",
        "\n",
        "#############################################\n",
        "# SOLUCIÓN PASO 2                           #\n",
        "#############################################\n",
        "\n",
        "unwanted_tags = {'DT', 'IN', 'CC', 'PRP', 'PRP$', 'CD', 'RP'}\n",
        "\n",
        "def ngram_valido(ngram):\n",
        "    first_word = ngram[0]\n",
        "    last_word = ngram[-1]\n",
        "\n",
        "    # Comprobar en la lista de stopwords\n",
        "    if first_word in custom_stopwords or last_word in custom_stopwords:\n",
        "        return False\n",
        "\n",
        "    # Obtener la etiqueta POS de la primera y última palabra\n",
        "    first_pos_tag = nltk.pos_tag([first_word])[0][1]\n",
        "    last_pos_tag = nltk.pos_tag([last_word])[0][1]\n",
        "\n",
        "    if first_pos_tag in unwanted_tags or last_pos_tag in unwanted_tags:\n",
        "        return False\n",
        "\n",
        "    return True\n",
        "\n",
        "ngrams_num = 300\n",
        "\n",
        "corpus_tokens = [word for tagged_list in df['tokens_tagged'] for (word, tag) in tagged_list]\n",
        "\n",
        "bigram_finder = BigramCollocationFinder.from_words(corpus_tokens)\n",
        "trigram_finder = TrigramCollocationFinder.from_words(corpus_tokens)\n",
        "\n",
        "bigram_measures = BigramAssocMeasures()\n",
        "trigram_measures = TrigramAssocMeasures()\n",
        "\n",
        "# Mejores bigramas y trigramas con PMI\n",
        "best_bigrams_pmi = bigram_finder.nbest(bigram_measures.pmi, ngrams_num)\n",
        "best_trigrams_pmi = trigram_finder.nbest(trigram_measures.pmi, ngrams_num)\n",
        "\n",
        "# Mejores bigramas y trigramas con LIKEHOOD RATIO\n",
        "best_bigrams_lr = bigram_finder.nbest(bigram_measures.likelihood_ratio, ngrams_num)\n",
        "best_trigrams_lr = trigram_finder.nbest(trigram_measures.likelihood_ratio, ngrams_num)\n",
        "\n",
        "# Filtramos los válidos\n",
        "filtered_bigrams_pmi = [ngram for ngram in best_bigrams_pmi if ngram_valido(ngram)]\n",
        "filtered_trigrams_pmi = [ngram for ngram in best_trigrams_pmi if ngram_valido(ngram)]\n",
        "filtered_bigrams_lr = [ngram for ngram in best_bigrams_lr if ngram_valido(ngram)]\n",
        "filtered_trigrams_lr = [ngram for ngram in best_trigrams_lr if ngram_valido(ngram)]\n",
        "\n",
        "\n",
        "print(\"Best Bigrams (PMI):\", best_bigrams_pmi[:20])\n",
        "print(\"Best Trigrams (PMI):\", best_trigrams_pmi[:20])\n",
        "print(\"Best Bigrams (Likelihood Ratio):\", best_bigrams_lr[:20])\n",
        "print(\"Best Trigrams (Likelihood Ratio):\", best_trigrams_lr[:20])"
      ]
    },
    {
      "cell_type": "markdown",
      "id": "3883d1ca",
      "metadata": {
        "id": "3883d1ca"
      },
      "source": [
        "<div style=\"background-color: #EDF7FF; border-color: #7C9DBF; border-left: 5px solid #7C9DBF; padding: 0.5em;\">\n",
        "\n",
        "<strong>Ejercicio 2.1.2:</strong>  Detectar n-grams que cumplen el patrón sintáctico de un sintagma nominal (e.g: adjetivo + nombre en singular/plural, nombre + nombre y nombre en singular/plural). Las palabras componentes de cada n-gram, deben estar separadas por un guión \"_\".\n",
        "<br>\n",
        "<b>Salida esperada:</b> Lista de los 20 primeros n-grams que cumplan el patrón sintáctico especificado, por ejemplo, 'new_york' y 'spain'.\n",
        "\n",
        "</div>"
      ]
    },
    {
      "cell_type": "code",
      "execution_count": null,
      "id": "50c96d2e",
      "metadata": {
        "id": "50c96d2e",
        "colab": {
          "base_uri": "https://localhost:8080/"
        },
        "outputId": "de16a593-717c-48c0-87bf-59705b704658"
      },
      "outputs": [
        {
          "output_type": "stream",
          "name": "stdout",
          "text": [
            "['love', 'atmosphere', 'corner', 'coffee', 'shop', 'style', 'swings', 'matcha', 'latte', 'fantastico', 'ordering', 'drink', 'ipad', 'beverage', 'selections', 'coffee', 'level', 'sweetness', 'checkout', 'system']\n"
          ]
        }
      ],
      "source": [
        "#############################################\n",
        "# SOLUCIÓN                                  #\n",
        "#############################################\n",
        "\n",
        "def patterns_and_parser():\n",
        "    n_patterns = \"\"\"\n",
        "        N: {<NN>|<NNS>}\n",
        "    \"\"\"\n",
        "    cn_patterns = \"\"\"\n",
        "        CN: {<NN> <NN>}\n",
        "    \"\"\"\n",
        "    jn_patterns = \"\"\"\n",
        "        JN: {<JJ> (<NN>|<NNS>)}\n",
        "    \"\"\"\n",
        "    n_parser = nltk.RegexpParser(n_patterns)\n",
        "    cn_parser = nltk.RegexpParser(cn_patterns)\n",
        "    jn_parser = nltk.RegexpParser(jn_patterns)\n",
        "    return n_patterns, cn_patterns, jn_patterns, n_parser, cn_parser, jn_parser\n",
        "\n",
        "def get_string_form(tuple_list):\n",
        "    return \"_\".join(word for word, tag in tuple_list)\n",
        "\n",
        "# Nombr, Nombre+Nombre y Adjetivo+Nombre\n",
        "def get_n_and_cn_and_jn(tagged_tokens):\n",
        "    n_patterns, cn_patterns, jn_patterns, n_parser, cn_parser, jn_parser = patterns_and_parser()\n",
        "    n_tree = n_parser.parse(tagged_tokens)\n",
        "    cn_tree = cn_parser.parse(tagged_tokens)\n",
        "    jn_tree = jn_parser.parse(tagged_tokens)\n",
        "    n_leaves = [s.leaves() for s in n_tree.subtrees() if s.label() == 'N']\n",
        "    cn_leaves = [s.leaves() for s in cn_tree.subtrees() if s.label() == 'CN']\n",
        "    jn_leaves = [s.leaves() for s in jn_tree.subtrees() if s.label() == 'JN']\n",
        "    n_and_cn_and_jn = n_leaves + cn_leaves + jn_leaves\n",
        "    return [get_string_form(t) for t in n_and_cn_and_jn]\n",
        "\n",
        "\n",
        "#Lista de términos que forman un N, un CN o un JN\n",
        "n_and_cn_and_jn = df['tokens_tagged'].apply(get_n_and_cn_and_jn)\n",
        "print(n_and_cn_and_jn[0][:20])"
      ]
    },
    {
      "cell_type": "markdown",
      "source": [
        "En el resultado anterior solo aparecen n-grams de una palabra porque hemos limitado el resultado a los 20 primeros n-grams. Si se aumenta la muestra aparecen n-grams de más de una palabra."
      ],
      "metadata": {
        "id": "tQZu_7ePQmOy"
      },
      "id": "tQZu_7ePQmOy"
    },
    {
      "cell_type": "markdown",
      "id": "535c0a10",
      "metadata": {
        "id": "535c0a10"
      },
      "source": [
        "\n",
        "<div style=\"background-color: #EDF7FF; border-color: #7C9DBF; border-left: 5px solid #7C9DBF; padding: 1em;\">\n",
        "\n",
        "<strong>Ejercicio 2.1.3:</strong> Detectar colocaciones con un modelo de detección de frases, usar el módulo *Phraser* de *Gensim*. Entrenar el modelo con todas las opiniones.\n",
        "<br>\n",
        "</div>\n",
        "<br>\n",
        "<b>Pasos a realizar</b>:\n",
        "\n",
        "1. Crear la lista de sentences. Tomar como referencia el código comentado que consta en la siguiente celda.\n",
        "2. Convertir las reseñas  en una lista de phrases. Las phrases no deben ser stopwords. Tampoco deben empezar ni acabar con una stopword.\n",
        "3. Entrenar el modelo con todas las opiniones.\n"
      ]
    },
    {
      "cell_type": "code",
      "execution_count": null,
      "id": "9964125a-792f-409b-ac9c-fdb846aad084",
      "metadata": {
        "id": "9964125a-792f-409b-ac9c-fdb846aad084",
        "colab": {
          "base_uri": "https://localhost:8080/"
        },
        "collapsed": true,
        "outputId": "3f8f829e-4382-46c7-ca72-509c369e659d"
      },
      "outputs": [
        {
          "output_type": "execute_result",
          "data": {
            "text/plain": [
              "['love love loved the atmosphere every corner of the coffee shop had its own style and there were swings i ordered the matcha latte and it was muy fantastico ordering and getting my drink were pretty streamlined',\n",
              " 'i ordered on an ipad which included all beverage selections that ranged from coffee to wine desired level of sweetness and a checkout system',\n",
              " 'i got my latte within minutes i was hoping for a typical heart or feather on my latte but found myself listing out all the possibilities of what the art may be',\n",
              " 'any ideas very cool decor good drinks nice seating however..',\n",
              " 'just about everything is overpriced',\n",
              " '1.50 extra for 3 ounces of almond milk in a cortado',\n",
              " 'no wifi music is a bit loud and the mix is odd',\n",
              " 'pleasant french oldies followed by loud techno',\n",
              " 'several tables were dirty when we got there',\n",
              " 'service is average']"
            ]
          },
          "metadata": {},
          "execution_count": 32
        }
      ],
      "source": [
        "################################################\n",
        "# SOLUCIÓN PASO 1: Crear la lista de sentences #\n",
        "################################################\n",
        "\n",
        "opinions_string = \" \".join(df['clean_text'])\n",
        "opinion_sentences = opinions_string.split('. ')\n",
        "opinion_sentences[:10]"
      ]
    },
    {
      "cell_type": "markdown",
      "id": "d9a766d9-8390-4766-83d4-1cbcb7cbd816",
      "metadata": {
        "id": "d9a766d9-8390-4766-83d4-1cbcb7cbd816"
      },
      "source": [
        "<div style=\"background-color: #F8F7FF; border-color: #7C9DBF; border-left: 5px solid #7C9DBF; padding: 0.5em;\">\n",
        "\n",
        "<i>Segundo paso</i>: Convierte las reseñas en una lista de *phrases*. Las phrases no deben ser stopwords. Tampoco deben empezar, ni terminar con una stopword. Utiliza la lista de stopwords para el filtrado.\n",
        "<br>\n",
        "<b> Salida esperada:</b> Lista de las 20 primeras *phrases* que no sean, o no contengan stopwords.\n",
        "\n",
        "</div>"
      ]
    },
    {
      "cell_type": "code",
      "execution_count": null,
      "id": "97f2bd0b",
      "metadata": {
        "id": "97f2bd0b",
        "colab": {
          "base_uri": "https://localhost:8080/"
        },
        "outputId": "b2885d9a-940c-4bbe-c725-94d67aa03ba2"
      },
      "outputs": [
        {
          "output_type": "execute_result",
          "data": {
            "text/plain": [
              "['love love',\n",
              " 'atmosphere',\n",
              " 'every corner',\n",
              " 'coffee shop',\n",
              " 'style',\n",
              " 'swings',\n",
              " 'latte',\n",
              " 'muy',\n",
              " 'fantastico',\n",
              " 'ordering',\n",
              " 'getting',\n",
              " 'streamlined',\n",
              " 'beverage',\n",
              " 'selections',\n",
              " 'ranged',\n",
              " 'coffee',\n",
              " 'wine',\n",
              " 'desired',\n",
              " 'sweetness',\n",
              " 'checkout']"
            ]
          },
          "metadata": {},
          "execution_count": 37
        }
      ],
      "source": [
        "from gensim.models.phrases import Phraser\n",
        "from gensim.models import Phrases\n",
        "\n",
        "#############################################\n",
        "# SOLUCIÓN PASO 2                           #\n",
        "#############################################\n",
        "\n",
        "#opinion_sentences_tokens = word_tokenize(opinion_sentences)\n",
        "text_stream = [word_tokenize(d) for d in df.clean_text.tolist()]\n",
        "\n",
        "phrases = Phrases(text_stream, min_count=1, threshold=2, delimiter=' ')\n",
        "phraser = Phraser(phrases)\n",
        "\n",
        "opinion_sentences_list = \" \".join(opinion_sentences) #extra\n",
        "opinion_tokens = word_tokenize(opinion_sentences_list)\n",
        "\n",
        "opinion_phrases = phraser[opinion_tokens]\n",
        "opinion_phrases\n",
        "\n",
        "def is_valid_phrase(phrase, stop_words):\n",
        "    tokens = phrase.split(' ')\n",
        "    if phrase.lower() in stop_words:\n",
        "        return False\n",
        "    if tokens[0].lower() in stop_words or tokens[-1].lower() in stop_words:\n",
        "        return False\n",
        "    return True\n",
        "\n",
        "opinion_phrases_no_stopwords = [phrase for phrase in opinion_phrases if is_valid_phrase(phrase, custom_stopwords)]\n",
        "opinion_phrases_no_stopwords[:20]"
      ]
    },
    {
      "cell_type": "markdown",
      "id": "d4e13a71",
      "metadata": {
        "id": "d4e13a71"
      },
      "source": [
        "## 2.2 Vectorización de palabras y términos con Word2Vec\n",
        "\n",
        "Antes de desarrollar los ejercicios, es necesario importar gensim y quitar espacios del texto."
      ]
    },
    {
      "cell_type": "code",
      "execution_count": null,
      "id": "4OGwpBv8fOtp",
      "metadata": {
        "id": "4OGwpBv8fOtp",
        "colab": {
          "base_uri": "https://localhost:8080/"
        },
        "outputId": "12a77372-aaad-4c7c-d864-5527336017e8"
      },
      "outputs": [
        {
          "output_type": "execute_result",
          "data": {
            "text/plain": [
              "['love love',\n",
              " 'atmosphere',\n",
              " 'every corner',\n",
              " 'coffee shop',\n",
              " 'style',\n",
              " 'swings',\n",
              " 'latte',\n",
              " 'muy',\n",
              " 'fantastico',\n",
              " 'ordering']"
            ]
          },
          "metadata": {},
          "execution_count": 38
        }
      ],
      "source": [
        "# Importar el paquete gensim, el cual implementa un método para entrenar modelos Word2Vec.\n",
        "\n",
        "import gensim\n",
        "\n",
        "#Antes de continuar se sugiere quitar espacios del texto: considerar el siguiente código comentado.\n",
        "#Considerar que, opinion_phrases_no_stopwords es el objeto generado en el segundo paso del Ejercicio 2.1.3.\n",
        "opinion_phrases_stripped_no_stopwords = [c.strip() for c in opinion_phrases_no_stopwords]\n",
        "opinion_phrases_stripped_no_stopwords[:10]\n"
      ]
    },
    {
      "cell_type": "markdown",
      "id": "20aaa498",
      "metadata": {
        "id": "20aaa498"
      },
      "source": [
        "\n",
        "\n",
        "<div style=\"background-color: #EDF7FF; border-color: #7C9DBF; border-left: 5px solid #7C9DBF; padding: 0.5em;\">\n",
        "\n",
        "<strong>Ejercicio 2.2.1:</strong>  Obtener targets de las opiniones y sus aspectos utilizando el modelo Word2vec.\n",
        "<br>\n",
        "<b>Salida esperada:</b> Lista de los primeros 15 términos que tengan mayor relación semántica con el término/aspecto seleccionado.\n",
        "</div>\n",
        "<br>\n",
        "\n",
        "Pasos a realizar:\n",
        "1. Convertir las phrases de cada oración en un token.\n",
        "2. Crear una sentence stream donde todos los tokens de las oraciones estén lematizados. Los tokens no pueden ser stopwords ni tener un stopword al inicio o al final.\n",
        "3. Crear un modelo word2vec de las opiniones lematizadas. El modelo debe llamarse w2v_opinions.\n",
        "4. A partir del vocabulario del modelo word2vec, seleccionar posibles aspectos representativos de la opiniones."
      ]
    },
    {
      "cell_type": "markdown",
      "id": "a9d68931",
      "metadata": {
        "id": "a9d68931"
      },
      "source": [
        "<b><i>Primer paso</i></b>: Convertir las phrases de cada oración en un token. Para completar este paso:\n",
        "\n",
        "- Concatenar los tokens de la phrase con el caracter '_' (e.g: 'new york' -> 'new_york').\n",
        "- En cada oración sustituir los bigramas que son phrases por la forma tokenizada (e.g: This is a one of the best apps acording to a bunch of people and -> This is a one of the best_apps acording to a bunch of people and).\n",
        "- Al realizar los pasos anteriores, las colocaciones formarán parte del vocabulario del modelo word2vec que generaremos.\n",
        "\n",
        "<i>Importante:</i> El siguiente código puede ser tomado como referencia para completar este primer paso. Considerar que:\n",
        "\n",
        "- *opinion_phrases_stripped_no_stopwords* es el objeto creado al iniciar este apartado (2.2).\n",
        "- *opinion_sentences* es la lista de sentences creada en el primer paso del Ejercicio 2.1.3."
      ]
    },
    {
      "cell_type": "code",
      "execution_count": null,
      "id": "dee08237",
      "metadata": {
        "id": "dee08237",
        "colab": {
          "base_uri": "https://localhost:8080/",
          "height": 70
        },
        "outputId": "1fc21beb-9fb3-437f-efc2-1110bafe0102"
      },
      "outputs": [
        {
          "output_type": "stream",
          "name": "stdout",
          "text": [
            "coffee meets\n"
          ]
        },
        {
          "output_type": "execute_result",
          "data": {
            "text/plain": [
              "'love_love loved the atmosphere every_corner of the coffee_shop had its own style and there were swings i ordered the matcha_latte and it was muy fantastico ordering and getting my drink were pretty streamlined'"
            ],
            "application/vnd.google.colaboratory.intrinsic+json": {
              "type": "string"
            }
          },
          "metadata": {},
          "execution_count": 39
        }
      ],
      "source": [
        "from nltk.util import ngrams\n",
        "\n",
        "collocation_phrases = [phrase for phrase in list(set(opinion_phrases_stripped_no_stopwords)) if ' ' in phrase]\n",
        "print(collocation_phrases[9])\n",
        "\n",
        "def transform_sentence(sentence):\n",
        "    transformed_sentence = sentence\n",
        "    n_grams = list(ngrams(nltk.word_tokenize(sentence), 2))\n",
        "    ngrams_t = [' '.join(gram) for gram in n_grams]\n",
        "    for ngram in ngrams_t:\n",
        "        if ngram.lower() in collocation_phrases:\n",
        "            opt = ngram.replace(' ', '_')\n",
        "            transformed_sentence = transformed_sentence.replace(ngram,opt)\n",
        "    return transformed_sentence\n",
        "\n",
        "opinion_sentences_transformed = [transform_sentence(os) for os in opinion_sentences]\n",
        "opinion_sentences_transformed[0]"
      ]
    },
    {
      "cell_type": "markdown",
      "id": "b53930c4",
      "metadata": {
        "id": "b53930c4"
      },
      "source": [
        "<div style=\"background-color: #F8F7FF; border-color: #7C9DBF; border-left: 5px solid #7C9DBF; padding: 0.5em;\">\n",
        "\n",
        "<i>Segundo paso</i>: Crear una sentence stream donde todos los tokens de las oraciones estén lematizados. Los tokens no pueden ser stopwords ni tener un stopword al inicio o al final. Para simplificar la tarea, podemos considerar que el lema de una colocación no cambia y su PoS es 'col'. (e.g: ['We run a top of the line system utilizing Windows 10 Pro']  -> [run', 'top', 'line', 'system', 'utilize', 'window_pro]).\n",
        "<br>\n",
        "<b> Salida esperada:</b> Lista de los 10 primeros tokens lematizados (que no sean, ni contengan stopwords).\n",
        "\n",
        "</div>"
      ]
    },
    {
      "cell_type": "code",
      "execution_count": null,
      "id": "9cfcef92",
      "metadata": {
        "id": "9cfcef92",
        "colab": {
          "base_uri": "https://localhost:8080/"
        },
        "outputId": "90ebdf21-be37-445c-b404-941ecaac2a40"
      },
      "outputs": [
        {
          "output_type": "execute_result",
          "data": {
            "text/plain": [
              "['love_love',\n",
              " 'love',\n",
              " 'atmosphere',\n",
              " 'every_corner',\n",
              " 'coffee_shop',\n",
              " 'style',\n",
              " 'swing',\n",
              " 'order',\n",
              " 'matcha_latte',\n",
              " 'muy']"
            ]
          },
          "metadata": {},
          "execution_count": 43
        }
      ],
      "source": [
        "#############################################\n",
        "# SOLUCIÓN                                  #\n",
        "#############################################\n",
        "\n",
        "#Importar los métodos de la librería NLTK que lematizan según Wordnet\n",
        "from nltk.stem.wordnet import WordNetLemmatizer\n",
        "\n",
        "#Para obtener el lema, el término debe tener una etiqueta PoS. El formato de la etiqueta PoS de Wordnet es\n",
        "#distinto de la etiqueta del pos-tagger de NLTK\n",
        "lemmatizer = WordNetLemmatizer()\n",
        "\n",
        "def get_wordnet_pos(tag):\n",
        "    if tag.startswith('J'):\n",
        "        return 'a'  # adjetivo\n",
        "    elif tag.startswith('V'):\n",
        "        return 'v'  # verbo\n",
        "    elif tag.startswith('N'):\n",
        "        return 'n'  # sustantivo\n",
        "    elif tag.startswith('R'):\n",
        "        return 'r'  # adverbio\n",
        "    else:\n",
        "        return 'n'  # si no: sustantivo\n",
        "\n",
        "def process_sentence(sentence):\n",
        "    tokens = word_tokenize(sentence)\n",
        "    tagged_tokens = pos_tag(tokens)\n",
        "    processed_tokens = []\n",
        "\n",
        "    for token, tag in tagged_tokens:\n",
        "        # Caso de colocaciones\n",
        "        if '_' in token:\n",
        "            parts = token.split('_')\n",
        "            if parts[0] in custom_stopwords or parts[-1] in custom_stopwords:\n",
        "                continue\n",
        "            processed_tokens.append(token)\n",
        "        else:\n",
        "            # Evitamos stop words\n",
        "            if token in custom_stopwords:\n",
        "                continue\n",
        "            # Lematizamos\n",
        "            pos_conv = get_wordnet_pos(tag)\n",
        "            lemma = lemmatizer.lemmatize(token, pos=pos_conv)\n",
        "            processed_tokens.append(lemma)\n",
        "    return processed_tokens\n",
        "\n",
        "processed_sentences = [process_sentence(sentence) for sentence in opinion_sentences_transformed]\n",
        "\n",
        "processed_sentences[0][:10]"
      ]
    },
    {
      "cell_type": "markdown",
      "id": "7b807880",
      "metadata": {
        "id": "7b807880"
      },
      "source": [
        "<div style=\"background-color: #F8F7FF; border-color: #7C9DBF; border-left: 5px solid #7C9DBF; padding: 0.5em;\">\n",
        "\n",
        "<i>Tercer paso</i>: Crear un modelo word2vec de las opiniones lematizadas. El modelo debe llamarse *w2v_opinions*.\n",
        "<br>\n",
        "<b> Salida esperada:</b> Presentar la cantidad de oraciones usadas en el modelo (usa el atributo *corpus_count*).\n",
        "</div>"
      ]
    },
    {
      "cell_type": "code",
      "execution_count": null,
      "id": "b033b7ad",
      "metadata": {
        "id": "b033b7ad",
        "colab": {
          "base_uri": "https://localhost:8080/"
        },
        "outputId": "44965a83-aadd-4a75-abe0-2f8a20e672e2"
      },
      "outputs": [
        {
          "output_type": "stream",
          "name": "stdout",
          "text": [
            "Cantidad de oraciones usadas en el modelo: 35092\n"
          ]
        }
      ],
      "source": [
        "#############################################\n",
        "# SOLUCIÓN                                  #\n",
        "#############################################\n",
        "from gensim.models import Word2Vec\n",
        "\n",
        "w2v_opinions = Word2Vec(\n",
        "        processed_sentences,\n",
        "        vector_size=150, # Tamaño de las dimensiones del vector\n",
        "        window=10, #context window (10 palabras a la izquierda y 10 palabras a la derecha)\n",
        "        min_count= 3, #Frecuencia mínima\n",
        "        workers= 1,\n",
        "        seed=1 # Valor de inicio predefinido para conservar la coherencia\n",
        ")\n",
        "\n",
        "print(\"Cantidad de oraciones usadas en el modelo:\", w2v_opinions.corpus_count)"
      ]
    },
    {
      "cell_type": "markdown",
      "id": "00e07b3c",
      "metadata": {
        "id": "00e07b3c"
      },
      "source": [
        "<div style=\"background-color: #F8F7FF; border-color: #7C9DBF; border-left: 5px solid #7C9DBF; padding: 0.5em;\">\n",
        "\n",
        "<i>Cuarto paso</i>: A partir del vocabulario del modelo word2vec, seleccionar posibles aspectos de la reseña (e.g: en un dataset sobre aplicaciones de software, se puede destacar el aspecto *desktop*) y lista los términos semánticamente relacionados con estos aspectos según este modelo.\n",
        "<br>\n",
        "\n",
        "<b>Salida esperada:</b> Lista los primeros 20 términos que tengan mayor relación semántica con un término relevante del dominio.\n",
        "</div>"
      ]
    },
    {
      "cell_type": "code",
      "execution_count": null,
      "id": "568d1445",
      "metadata": {
        "id": "568d1445",
        "colab": {
          "base_uri": "https://localhost:8080/"
        },
        "outputId": "679dc8e3-2d1e-4775-ac2f-0d98715262d3"
      },
      "outputs": [
        {
          "output_type": "stream",
          "name": "stdout",
          "text": [
            "tea : 0.9910386204719543\n",
            "amaze : 0.9895191788673401\n",
            "drink : 0.9882500767707825\n",
            "espresso : 0.9876601696014404\n",
            "latte : 0.9871237874031067\n",
            "cold_brew : 0.9867347478866577\n",
            "pastry : 0.9863572716712952\n",
            "taste : 0.9862204194068909\n",
            "fresh : 0.985378623008728\n",
            "gelato : 0.9849953055381775\n",
            "price : 0.9846169352531433\n",
            "sandwich : 0.984589695930481\n",
            "mocha : 0.9840538501739502\n",
            "beer : 0.9840260148048401\n",
            "make : 0.9835834503173828\n",
            "breakfast_tacos : 0.9833856225013733\n",
            "smooth : 0.9830345511436462\n",
            "homemade : 0.982868492603302\n",
            "everything : 0.9827103614807129\n",
            "creamy : 0.9826530814170837\n"
          ]
        }
      ],
      "source": [
        "#############################################\n",
        "# SOLUCIÓN                                   #\n",
        "#############################################\n",
        "\n",
        "# Obtener el vocabulario del modelo de opiniones:\n",
        "aspecto = \"coffee\"\n",
        "\n",
        "similar_terms = w2v_opinions.wv.most_similar(aspecto, topn=20)\n",
        "\n",
        "for term, similarity in similar_terms:\n",
        "    print(term, \":\", similarity)"
      ]
    },
    {
      "cell_type": "markdown",
      "id": "80090d4b",
      "metadata": {
        "id": "80090d4b"
      },
      "source": [
        "# 3. Detección de temas\n",
        "\n",
        "En esta parte nos dedicaremos a explorar los temas detectados utilizando WordNet y realizaremos la extracción de temas a partir de  LDA."
      ]
    },
    {
      "cell_type": "markdown",
      "id": "00bb679a",
      "metadata": {
        "id": "00bb679a"
      },
      "source": [
        "## 3.1 Exploración de los temas con WordNet\n",
        "\n",
        "Para acceder a Wordnet, utilizar la librería nltk."
      ]
    },
    {
      "cell_type": "code",
      "execution_count": null,
      "id": "320fee0c",
      "metadata": {
        "id": "320fee0c"
      },
      "outputs": [],
      "source": [
        "from nltk.corpus import wordnet as wn"
      ]
    },
    {
      "cell_type": "markdown",
      "id": "7ccd9034",
      "metadata": {
        "id": "7ccd9034"
      },
      "source": [
        "<div style=\"background-color: #EDF7FF; border-color: #7C9DBF; border-left: 5px solid #7C9DBF; padding: 0.5em;\">\n",
        "\n",
        "<strong>Ejercicio 3.1.1:</strong> Comprobar si, según Wordnet, existen aspectos que están alejados semánticamente del sentido del target, aunque en el modelo word2vec sean similares. Comprobar calculando la similitud de Wu and Palmer entre el sentido de wordnet del término elegido, (i.e 'word.n.01') y algunos de sus aspectos.\n",
        "<br>\n",
        "<b> Salida esperada: </b>\n",
        "<br>\n",
        "- Lista de dos términos que según *Wordnet* no estén tan cercanos, y su respectivo score de similitud, y\n",
        "<br>\n",
        "- Lista de los mismos términos que según el modelo *word2vec* están más cercanos.\n",
        "\n",
        "</div>"
      ]
    },
    {
      "cell_type": "code",
      "execution_count": null,
      "id": "30cfcb0f",
      "metadata": {
        "id": "30cfcb0f",
        "colab": {
          "base_uri": "https://localhost:8080/"
        },
        "outputId": "240fe838-b886-4f40-8483-a3815d7ba758"
      },
      "outputs": [
        {
          "output_type": "stream",
          "name": "stdout",
          "text": [
            "Distancia semántica según Wordnet: coffee y tea: 0.8888888888888888\n",
            "Distancia semántica según Wordnet: coffee y cup: 0.25\n",
            "Distancia semántica según Wordnet: coffee y milk: 0.8888888888888888\n",
            "Distancia semántica según Wordnet: coffee y drink: 0.25\n",
            "\n",
            "Distancia semántica según el modelo word2vec: coffee y tea: 0.9910386\n",
            "Distancia semántica según el modelo word2vec: coffee y cup: 0.982411\n",
            "Distancia semántica según el modelo word2vec: coffee y milk: 0.9758309\n",
            "Distancia semántica según el modelo word2vec: coffee y drink: 0.9882501\n"
          ]
        }
      ],
      "source": [
        "#############################################\n",
        "# SOLUCIÓN                                   #\n",
        "#############################################\n",
        "\n",
        "# Seleccionar el sentido de WordNet para el target y el aspecto\n",
        "coffee = wn.synset('coffee.n.01')\n",
        "tea = wn.synset('tea.n.01')\n",
        "cup = wn.synset('cup.n.01')\n",
        "milk = wn.synset('milk.n.01')\n",
        "drink = wn.synset('drink.n.01')\n",
        "\n",
        "# Calcular la similitud de Wu and Palmer\n",
        "wup_similarity = coffee.wup_similarity(tea)\n",
        "print(\"Distancia semántica según Wordnet: coffee y tea:\", wup_similarity)\n",
        "wup_similarity = coffee.wup_similarity(drink)\n",
        "print(\"Distancia semántica según Wordnet: coffee y cup:\", wup_similarity)\n",
        "wup_similarity = coffee.wup_similarity(milk)\n",
        "print(\"Distancia semántica según Wordnet: coffee y milk:\", wup_similarity)\n",
        "wup_similarity = coffee.wup_similarity(drink)\n",
        "print(\"Distancia semántica según Wordnet: coffee y drink:\", wup_similarity)\n",
        "\n",
        "# Ahora, utilizando el modelo Word2Vec (w2v_opinions):\n",
        "w2v_similarity = w2v_opinions.wv.similarity('coffee', 'tea')\n",
        "print(\"\\nDistancia semántica según el modelo word2vec: coffee y tea:\", w2v_similarity)\n",
        "w2v_similarity = w2v_opinions.wv.similarity('coffee', 'cup')\n",
        "print(\"Distancia semántica según el modelo word2vec: coffee y cup:\", w2v_similarity)\n",
        "w2v_similarity = w2v_opinions.wv.similarity('coffee', 'milk')\n",
        "print(\"Distancia semántica según el modelo word2vec: coffee y milk:\", w2v_similarity)\n",
        "w2v_similarity = w2v_opinions.wv.similarity('coffee', 'drink')\n",
        "print(\"Distancia semántica según el modelo word2vec: coffee y drink:\", w2v_similarity)"
      ]
    },
    {
      "cell_type": "markdown",
      "id": "3209e5cc",
      "metadata": {
        "id": "3209e5cc"
      },
      "source": [
        "<div style=\"background-color: #EDF7FF; border-color: #7C9DBF; border-left: 5px solid #7C9DBF; padding: 0.5em;\">\n",
        "\n",
        "<strong>Ejercicio 3.1.2:</strong> Identificar a los términos monopalabra del vocabulario de word2vec que no están en Wordnet. Filtrar a los términos que sean nombres o adjetivos.\n",
        "\n",
        "Del conjunto de términos identificados, mencionar a:\n",
        "- Abreviaturas o términos específicos del dominio o expresiones típicas de la jerga del dominio. Por ejemplo, en un dataset sobre restaurantes, podría identificarse términos como *yummy*.<br>\n",
        "\n",
        "<b>Salida esperada:</b>\n",
        "<br>\n",
        "- Cantidad de términos que no constan en *Wordnet*.\n",
        "- Lista de los 20 primeros terminos monopalabra que no constan en <i>Wordnet</i>.\n",
        "- Lista de al menos 3 términos de los enlistados que sean inherentes al vocabulario propio del dominio.\n",
        "</div>"
      ]
    },
    {
      "cell_type": "code",
      "execution_count": null,
      "id": "70e8e4bd",
      "metadata": {
        "id": "70e8e4bd",
        "colab": {
          "base_uri": "https://localhost:8080/"
        },
        "outputId": "e1afb9f4-a218-422f-e098-84a4ef6c8eda"
      },
      "outputs": [
        {
          "output_type": "stream",
          "name": "stdout",
          "text": [
            "Cantidad de términos que no están en WordNet: 478\n",
            "Términos de las opiniones que no están en WordNet:\n",
            " ['..', 'gelato', 'barista', 'baristas', 'everything', 'starbucks', 'something', 'everyone', 'chai', 'anything', '....', 'etc', 'americano', 'houndstooth', 'joe', 'anyone', 'cortado', 'others', 'yum', 'bennu']\n",
            "\n",
            "Abreviaturas y expresiones típicas de la jerga del dominio:\n",
            "barista, starbucks, chai, cortado\n"
          ]
        }
      ],
      "source": [
        "#############################################\n",
        "# SOLUCIÓN                                  #\n",
        "#############################################\n",
        "# Obtenemos vocabulario\n",
        "vocab = w2v_opinions.wv.index_to_key\n",
        "\n",
        "# Filtramos términos multipalabra, los que no están en WordNet, nombre y adjetivos\n",
        "filtered_terms = []\n",
        "for word in vocab:\n",
        "    # Comprobamos si es solo una palabra\n",
        "    if ' ' in word or '_' in word:\n",
        "        continue\n",
        "    # Si la palabra aparece en WordNet, la saltamos\n",
        "    if wn.synsets(word):\n",
        "        continue\n",
        "\n",
        "    # Obtenemos POS\n",
        "    pos = nltk.pos_tag([word])[0][1]\n",
        "\n",
        "    # Filtramos nombres y adjetivos\n",
        "    if pos.startswith('NN') or pos.startswith('JJ'):\n",
        "        filtered_terms.append(word)\n",
        "\n",
        "print(\"Cantidad de términos que no están en WordNet:\", len(filtered_terms))\n",
        "print(\"Términos de las opiniones que no están en WordNet:\\n\", filtered_terms[:20])\n",
        "\n",
        "# Lista de al menos 3 términos de los enlistados que sean inherentes al vocabulario propio del dominio.\n",
        "posibles_palabras_jerga = ['barista', 'starbucks', 'chai', 'cortado']\n",
        "palabras_jerga = [term for term in filtered_terms if term in posibles_palabras_jerga]\n",
        "\n",
        "print(\"\\nAbreviaturas y expresiones típicas de la jerga del dominio:\")\n",
        "print(\", \".join(palabras_jerga))"
      ]
    },
    {
      "cell_type": "markdown",
      "id": "f5f788a4",
      "metadata": {
        "id": "f5f788a4"
      },
      "source": [
        "## 3.2. LDA\n",
        "\n",
        "Este apartado tiene como objetivo comparar distintos modelos LDA y elegir el más adecuado de forma justificada.\n",
        "\n",
        "<b>Pasos a seguir:</b>\n",
        "\n",
        "1. Convertir las opiniones transformadas en listas de nombres y colocaciones.\n",
        "2. Extraer temas a partir de las listas de nombres y colocaciones de cada oración transformada. Elegir 3 de los mejores experimentos, según el parámetro *num_topics*, y presentar los resultados. Asigna nombres a los temas encontrados.\n",
        "3. Utilizar la librería pyLDAvis para visualizar los tópicos del mejor modelo que encontraste."
      ]
    },
    {
      "cell_type": "markdown",
      "id": "1c6825ff",
      "metadata": {
        "id": "1c6825ff"
      },
      "source": [
        "<i>Primer paso</i>: Convertir las opiniones transformadas (opinion_sentences_transformed) en listas de nombres y colocaciones. Esto es necesario ya que los nombres y las colocaciones expresan los temas de las opiniones (e.g: [['This is a one of the best_apps according to the people opinions'] -> ['one', 'best_apps', 'according', 'people', 'opinion'].\n",
        "\n",
        "<b>Importante:</b> El siguiente código puede ser tomado como referencia para implementar este primer paso:\n",
        "\n",
        "- opinion_sentences_transformed es el objeto creado en el primer paso del Ejercicio 2.2.1."
      ]
    },
    {
      "cell_type": "code",
      "execution_count": null,
      "id": "76ad1379",
      "metadata": {
        "id": "76ad1379",
        "colab": {
          "base_uri": "https://localhost:8080/"
        },
        "outputId": "57e9602e-22f6-42fa-cd14-89da2f3bed50"
      },
      "outputs": [
        {
          "output_type": "execute_result",
          "data": {
            "text/plain": [
              "[['love_love',\n",
              "  'every_corner',\n",
              "  'coffee_shop',\n",
              "  'style',\n",
              "  'swing',\n",
              "  'matcha_latte',\n",
              "  'fantastico',\n",
              "  'ordering',\n",
              "  'drink'],\n",
              " ['ipad',\n",
              "  'beverage',\n",
              "  'selection',\n",
              "  'coffee',\n",
              "  'level',\n",
              "  'sweetness',\n",
              "  'checkout',\n",
              "  'system'],\n",
              " ['latte',\n",
              "  'within_minutes',\n",
              "  'heart',\n",
              "  'feather',\n",
              "  'latte',\n",
              "  'possibility',\n",
              "  'art_may'],\n",
              " ['idea', 'cool_decor', 'drink'],\n",
              " ['everything'],\n",
              " ['ounce', 'almond_milk', 'cortado'],\n",
              " ['wifi', 'music', 'bit', 'mix'],\n",
              " ['oldie', 'techno'],\n",
              " ['several_tables'],\n",
              " ['service'],\n",
              " ['feels_like', 'los_angeles', 'coffee', 'shot', 'place'],\n",
              " ['located_within',\n",
              "  'northcross',\n",
              "  'mall',\n",
              "  'shopping_center',\n",
              "  'burnet_rd',\n",
              "  'plenty'],\n",
              " ['user', 'ordering_system', 'item'],\n",
              " ['pop_tart', 'chicken_waffles', 'waffle', 'photo'],\n",
              " ['place', 'dish', 'share', 'group']]"
            ]
          },
          "metadata": {},
          "execution_count": 64
        }
      ],
      "source": [
        "lem = WordNetLemmatizer()\n",
        "\n",
        "def get_noun_and_collocation(sentence):\n",
        "   nouns_and_collocations = []\n",
        "   noun_tags = ['NN', 'NNS']\n",
        "   tokens_pos_tagged = pos_tag(word_tokenize(sentence))\n",
        "   for tpos in tokens_pos_tagged:\n",
        "       lemma = lem.lemmatize(tpos[0]).lower()\n",
        "       if '_' in lemma:\n",
        "           nouns_and_collocations.append(lemma)\n",
        "       elif tpos[1] in noun_tags and tpos[0] not in custom_stopwords:\n",
        "           nouns_and_collocations.append(lemma)\n",
        "   return nouns_and_collocations\n",
        "\n",
        "noun_and_collocation_stream = [get_noun_and_collocation(opinion) for opinion in opinion_sentences_transformed]\n",
        "\n",
        "noun_and_collocation_stream[:15]\n"
      ]
    },
    {
      "cell_type": "markdown",
      "id": "eef21d0c",
      "metadata": {
        "id": "eef21d0c"
      },
      "source": [
        "<div style=\"background-color: #EDF7FF; border-color: #7C9DBF; border-left: 5px solid #7C9DBF; padding: 0.5em;\">\n",
        "\n",
        "<strong>Ejercicio 3.2.1:</strong> Extraer temas a partir de las listas de nombres y colocaciones de cada oración transformada. Además, utiliza la librería pyLDAvis para visualizar los tópicos del mejor modelo que encontraste.\n",
        "\n",
        "<b>Salida esperada:</b>\n",
        "- De 3 de los mejores experimentos, y por cada uno, imprime las 10 palabras que más se destaquen de cada tópico.\n",
        "- Visualización del mejor experimento, usando pyLDAvis.\n",
        "\n",
        "</div>\n"
      ]
    },
    {
      "cell_type": "code",
      "execution_count": null,
      "id": "3284e474",
      "metadata": {
        "id": "3284e474",
        "colab": {
          "base_uri": "https://localhost:8080/"
        },
        "outputId": "f0e6d442-9683-4dd6-b506-db8dc4b4ed05"
      },
      "outputs": [
        {
          "output_type": "stream",
          "name": "stdout",
          "text": [
            "Experimento con 5 topics:\n",
            "coffee (0.043) beer (0.015) latte (0.015) cup (0.013) thing (0.011) austin (0.007) front (0.006) scone (0.006) chocolate (0.006) iced_coffee (0.006)\n",
            "service (0.024) flavor (0.021) coffee (0.016) kind (0.014) espresso (0.010) parking (0.009) night (0.008) home (0.007) austin (0.007) something (0.006)\n",
            "place (0.102) food (0.039) drink (0.024) coffee (0.022) tea (0.018) sandwich (0.015) .. (0.014) way (0.014) time (0.011) area (0.011)\n",
            "coffee (0.022) table (0.017) people (0.015) lot (0.015) everything (0.011) plenty (0.010) friend (0.010) cake (0.010) great_place (0.009) game (0.009)\n",
            "staff (0.029) coffee_shop (0.028) day (0.022) order (0.012) coffee (0.011) menu (0.010) austin (0.010) music (0.009) price (0.009) taco (0.007)\n"
          ]
        }
      ],
      "source": [
        "#Experimento 1: con n1 tópicos:\n",
        "\n",
        "#############################################\n",
        "# SOLUCIÓN                                 #\n",
        "#############################################\n",
        "\n",
        "import gensim.corpora as corpora\n",
        "from gensim.models import LdaModel\n",
        "\n",
        "dictionary = corpora.Dictionary(noun_and_collocation_stream)\n",
        "corpus = [dictionary.doc2bow(doc) for doc in noun_and_collocation_stream]\n",
        "\n",
        "n1_topics = 5\n",
        "\n",
        "lda_model1 = gensim.models.LdaModel(\n",
        "    corpus=corpus,\n",
        "    num_topics=n1_topics,\n",
        "    random_state=42,\n",
        "    id2word=dictionary,\n",
        "    passes=50,  # Ajustamos a 50 passes para que no sea demasiado lento\n",
        ")\n",
        "\n",
        "print(f\"Experimento con {n1_topics} topics:\")\n",
        "for t in range(n1_topics):\n",
        "    topic_terms = lda_model1.show_topic(t, topn=10)\n",
        "    topic_words = \" \".join([f\"{word} ({prob:.3f})\" for word, prob in topic_terms])\n",
        "    print(topic_words)"
      ]
    },
    {
      "cell_type": "code",
      "execution_count": null,
      "id": "0qiR1Dm4axdi",
      "metadata": {
        "id": "0qiR1Dm4axdi",
        "colab": {
          "base_uri": "https://localhost:8080/"
        },
        "outputId": "2f304828-7f31-4185-e80e-3dd683d5699a"
      },
      "outputs": [
        {
          "output_type": "stream",
          "name": "stdout",
          "text": [
            "Experimento con 10 topics:\n",
            "time (0.077) option (0.022) line (0.020) guy (0.018) front (0.015) dessert (0.014) cappuccino (0.014) neighborhood (0.012) bacon (0.011) water (0.010)\n",
            "people (0.057) service (0.056) day (0.020) night (0.018) store (0.018) home (0.017) breakfast_tacos (0.015) restaurant (0.015) one (0.014) back (0.011)\n",
            "food (0.086) drink (0.042) sandwich (0.032) .. (0.030) way (0.030) tea (0.029) lot (0.028) atmosphere (0.020) morning (0.018) review (0.018)\n",
            "table (0.042) plenty (0.025) cake (0.024) space (0.022) counter (0.021) bar (0.018) everyone (0.017) shop (0.016) vibe (0.015) good_coffee (0.014)\n",
            "spot (0.040) menu (0.039) hour (0.017) pancake (0.015) variety (0.015) meal (0.015) photo (0.014) egg (0.014) reason (0.013) item (0.012)\n",
            "place (0.231) latte (0.027) bit (0.023) breakfast (0.022) gelato (0.018) austin (0.018) parking (0.015) friend (0.012) really_good (0.010) cooky (0.010)\n",
            "coffee (0.047) order (0.046) beer (0.030) thing (0.029) area (0.026) pastry (0.025) price (0.023) town (0.021) something (0.017) taco (0.013)\n",
            "coffee (0.178) flavor (0.036) kind (0.020) cup (0.019) music (0.016) baristas (0.016) selection (0.015) customer (0.015) taste (0.014) great_place (0.014)\n",
            "coffee_shop (0.060) austin (0.049) everything (0.027) espresso (0.021) barista (0.020) great_coffee (0.020) experience (0.017) someone (0.013) highly_recommend (0.012) wall (0.012)\n",
            "staff (0.063) work (0.026) game (0.023) side (0.019) cafe (0.018) lunch (0.018) patio (0.016) wifi (0.015) today (0.015) scone (0.014)\n"
          ]
        }
      ],
      "source": [
        "#Experimento 2: con n2 tópicos:\n",
        "\n",
        "#############################################\n",
        "# SOLUCIÓN                                 #\n",
        "#############################################\n",
        "\n",
        "import gensim.corpora as corpora\n",
        "from gensim.models import LdaModel\n",
        "\n",
        "dictionary = corpora.Dictionary(noun_and_collocation_stream)\n",
        "corpus = [dictionary.doc2bow(doc) for doc in noun_and_collocation_stream]\n",
        "\n",
        "n2_topics = 10\n",
        "eval_every=eval_every = None\n",
        "\n",
        "lda_model2 = gensim.models.LdaModel(\n",
        "    corpus=corpus,\n",
        "    num_topics=n2_topics,\n",
        "    random_state=42,\n",
        "    id2word=dictionary,\n",
        "    passes=50,\n",
        ")\n",
        "\n",
        "print(f\"Experimento con {n2_topics} topics:\")\n",
        "for t in range(n2_topics):\n",
        "    topic_terms = lda_model2.show_topic(t, topn=10)\n",
        "    topic_words = \" \".join([f\"{word} ({prob:.3f})\" for word, prob in topic_terms])\n",
        "    print(topic_words)"
      ]
    },
    {
      "cell_type": "code",
      "execution_count": null,
      "id": "vj-uBeYebAp1",
      "metadata": {
        "id": "vj-uBeYebAp1",
        "colab": {
          "base_uri": "https://localhost:8080/"
        },
        "outputId": "8f71290e-0595-46da-fa17-e53359e7a926"
      },
      "outputs": [
        {
          "output_type": "stream",
          "name": "stdout",
          "text": [
            "Experimento con 15 topics:\n",
            "time (0.145) beer (0.069) parking (0.039) scone (0.028) variety (0.027) meal (0.026) cappuccino (0.025) wine (0.024) milk (0.019) baked_goods (0.018)\n",
            ".. (0.091) everything (0.063) location (0.054) home (0.037) wall (0.028) inside (0.026) friendly_staff (0.024) nothing (0.022) every_time (0.020) book (0.018)\n",
            "drink (0.121) lot (0.104) tea (0.065) review (0.040) night (0.031) store (0.030) first_time (0.026) street (0.026) front (0.025) week (0.021)\n",
            "cake (0.059) space (0.055) shop (0.040) couple (0.032) snack (0.030) bean (0.029) next_time (0.026) ton (0.025) favorite (0.025) seating (0.023)\n",
            "coffee_shop (0.085) table (0.074) spot (0.061) menu (0.059) plenty (0.045) today (0.026) one (0.022) come_back (0.022) life (0.020) item (0.019)\n",
            "latte (0.075) bit (0.062) gelato (0.050) counter (0.046) line (0.041) lunch (0.040) dessert (0.029) treat (0.023) wait (0.023) hand (0.022)\n",
            "order (0.110) thing (0.070) area (0.062) side (0.041) customer (0.038) taco (0.032) starbucks (0.031) chocolate (0.029) iced_coffee (0.028) chai (0.023)\n",
            "coffee (0.278) flavor (0.057) kind (0.040) pastry (0.037) selection (0.024) experience (0.023) taste (0.022) guy (0.022) house (0.021) tea (0.018)\n",
            "food (0.206) austin (0.133) great_coffee (0.038) wifi (0.028) good_coffee (0.027) someone (0.024) room (0.023) coffee_shop (0.022) neighborhood (0.020) conversation (0.016)\n",
            "staff (0.128) sandwich (0.083) owner (0.032) breakfast_tacos (0.029) salad (0.028) name (0.021) quality (0.021) anything (0.020) super_friendly (0.019) choice (0.019)\n",
            "friend (0.090) way (0.067) breakfast (0.046) town (0.041) morning (0.041) great_place (0.040) baristas (0.034) patio (0.028) weekend (0.026) hour (0.025)\n",
            "place (0.364) coffee (0.073) cup (0.038) price (0.034) game (0.029) music (0.025) cafe (0.023) everyone (0.022) vibe (0.019) point (0.015)\n",
            "people (0.113) work (0.056) atmosphere (0.055) barista (0.043) employee (0.031) reason (0.024) view (0.024) restaurant (0.023) water (0.020) seat (0.020)\n",
            "service (0.127) espresso (0.050) really_good (0.030) cooky (0.029) cold_brew (0.026) bakery (0.026) gluten_free (0.023) beverage (0.023) cream (0.022) girl (0.022)\n",
            "day (0.113) option (0.048) something (0.046) bar (0.044) business (0.035) chair (0.022) course (0.021) fun (0.018) quack (0.016) ingredient (0.013)\n"
          ]
        }
      ],
      "source": [
        "#Experimento 3: con n3 tópicos:\n",
        "\n",
        "#############################################\n",
        "# SOLUCIÓN                                 #\n",
        "#############################################\n",
        "\n",
        "import gensim.corpora as corpora\n",
        "from gensim.models import LdaModel\n",
        "\n",
        "dictionary = corpora.Dictionary(noun_and_collocation_stream)\n",
        "corpus = [dictionary.doc2bow(doc) for doc in noun_and_collocation_stream]\n",
        "\n",
        "n3_topics = 15\n",
        "eval_every=eval_every = None\n",
        "\n",
        "lda_model3 = gensim.models.LdaModel(\n",
        "    corpus=corpus,\n",
        "    num_topics=n3_topics,\n",
        "    random_state=42,\n",
        "    id2word=dictionary,\n",
        "    passes=50,\n",
        ")\n",
        "\n",
        "print(f\"Experimento con {n3_topics} topics:\")\n",
        "for t in range(n3_topics):\n",
        "    topic_terms = lda_model3.show_topic(t, topn=10)\n",
        "    topic_words = \" \".join([f\"{word} ({prob:.3f})\" for word, prob in topic_terms])\n",
        "    print(topic_words)\n"
      ]
    },
    {
      "cell_type": "markdown",
      "id": "153c549e-7fbb-47b3-88a0-ed7ba24ce913",
      "metadata": {
        "id": "153c549e-7fbb-47b3-88a0-ed7ba24ce913"
      },
      "source": [
        "Usa la librería pyLDAvis para visualizar los tópicos del mejor modelo encontrado."
      ]
    },
    {
      "cell_type": "code",
      "execution_count": null,
      "id": "4cd5532b-628f-4c13-b34d-f65d18c48e33",
      "metadata": {
        "id": "4cd5532b-628f-4c13-b34d-f65d18c48e33",
        "colab": {
          "base_uri": "https://localhost:8080/"
        },
        "outputId": "45b07d8f-9254-4e48-d453-1f5beed8c2e9"
      },
      "outputs": [
        {
          "output_type": "stream",
          "name": "stdout",
          "text": [
            "Requirement already satisfied: pyLDAvis in /usr/local/lib/python3.11/dist-packages (3.4.1)\n",
            "Requirement already satisfied: numpy>=1.24.2 in /usr/local/lib/python3.11/dist-packages (from pyLDAvis) (1.26.4)\n",
            "Requirement already satisfied: scipy in /usr/local/lib/python3.11/dist-packages (from pyLDAvis) (1.13.1)\n",
            "Collecting pandas>=2.0.0 (from pyLDAvis)\n",
            "  Downloading pandas-2.2.3-cp311-cp311-manylinux_2_17_x86_64.manylinux2014_x86_64.whl.metadata (89 kB)\n",
            "\u001b[2K     \u001b[90m━━━━━━━━━━━━━━━━━━━━━━━━━━━━━━━━━━━━━━━━\u001b[0m \u001b[32m89.9/89.9 kB\u001b[0m \u001b[31m5.3 MB/s\u001b[0m eta \u001b[36m0:00:00\u001b[0m\n",
            "\u001b[?25hRequirement already satisfied: joblib>=1.2.0 in /usr/local/lib/python3.11/dist-packages (from pyLDAvis) (1.4.2)\n",
            "Requirement already satisfied: jinja2 in /usr/local/lib/python3.11/dist-packages (from pyLDAvis) (3.1.6)\n",
            "Requirement already satisfied: numexpr in /usr/local/lib/python3.11/dist-packages (from pyLDAvis) (2.10.2)\n",
            "Requirement already satisfied: funcy in /usr/local/lib/python3.11/dist-packages (from pyLDAvis) (2.0)\n",
            "Requirement already satisfied: scikit-learn>=1.0.0 in /usr/local/lib/python3.11/dist-packages (from pyLDAvis) (1.6.1)\n",
            "Requirement already satisfied: gensim in /usr/local/lib/python3.11/dist-packages (from pyLDAvis) (4.3.3)\n",
            "Requirement already satisfied: setuptools in /usr/local/lib/python3.11/dist-packages (from pyLDAvis) (75.2.0)\n",
            "Requirement already satisfied: python-dateutil>=2.8.2 in /usr/local/lib/python3.11/dist-packages (from pandas>=2.0.0->pyLDAvis) (2.8.2)\n",
            "Requirement already satisfied: pytz>=2020.1 in /usr/local/lib/python3.11/dist-packages (from pandas>=2.0.0->pyLDAvis) (2025.2)\n",
            "Requirement already satisfied: tzdata>=2022.7 in /usr/local/lib/python3.11/dist-packages (from pandas>=2.0.0->pyLDAvis) (2025.2)\n",
            "Requirement already satisfied: threadpoolctl>=3.1.0 in /usr/local/lib/python3.11/dist-packages (from scikit-learn>=1.0.0->pyLDAvis) (3.6.0)\n",
            "Requirement already satisfied: smart-open>=1.8.1 in /usr/local/lib/python3.11/dist-packages (from gensim->pyLDAvis) (7.1.0)\n",
            "Requirement already satisfied: MarkupSafe>=2.0 in /usr/local/lib/python3.11/dist-packages (from jinja2->pyLDAvis) (3.0.2)\n",
            "Requirement already satisfied: six>=1.5 in /usr/local/lib/python3.11/dist-packages (from python-dateutil>=2.8.2->pandas>=2.0.0->pyLDAvis) (1.17.0)\n",
            "Requirement already satisfied: wrapt in /usr/local/lib/python3.11/dist-packages (from smart-open>=1.8.1->gensim->pyLDAvis) (1.17.2)\n",
            "Downloading pandas-2.2.3-cp311-cp311-manylinux_2_17_x86_64.manylinux2014_x86_64.whl (13.1 MB)\n",
            "\u001b[2K   \u001b[90m━━━━━━━━━━━━━━━━━━━━━━━━━━━━━━━━━━━━━━━━\u001b[0m \u001b[32m13.1/13.1 MB\u001b[0m \u001b[31m48.0 MB/s\u001b[0m eta \u001b[36m0:00:00\u001b[0m\n",
            "\u001b[?25hInstalling collected packages: pandas\n",
            "  Attempting uninstall: pandas\n",
            "    Found existing installation: pandas 1.5.3\n",
            "    Uninstalling pandas-1.5.3:\n",
            "      Successfully uninstalled pandas-1.5.3\n",
            "\u001b[31mERROR: pip's dependency resolver does not currently take into account all the packages that are installed. This behaviour is the source of the following dependency conflicts.\n",
            "google-colab 1.0.0 requires pandas==2.2.2, but you have pandas 2.2.3 which is incompatible.\u001b[0m\u001b[31m\n",
            "\u001b[0mSuccessfully installed pandas-2.2.3\n"
          ]
        }
      ],
      "source": [
        "!pip install pyLDAvis\n",
        "\n",
        "#Instalar la versión pandas 1.5.3 si usas Google Colab como entorno de ejecución.\n",
        "#!pip install pandas==1.5.3"
      ]
    },
    {
      "cell_type": "code",
      "source": [
        "pyLDAvis.enable_notebook()\n",
        "\n",
        "pyLDAvis.gensim.prepare(lda_model3, corpus, dictionary)"
      ],
      "metadata": {
        "colab": {
          "base_uri": "https://localhost:8080/",
          "height": 861
        },
        "id": "-1gQd7VlxjqU",
        "outputId": "b4ef24f4-be03-4065-cfa9-4ee2163ad8c6"
      },
      "id": "-1gQd7VlxjqU",
      "execution_count": null,
      "outputs": [
        {
          "output_type": "execute_result",
          "data": {
            "text/plain": [
              "PreparedData(topic_coordinates=              x         y  topics  cluster      Freq\n",
              "topic                                               \n",
              "7     -0.312061 -0.017349       1        1  9.873446\n",
              "11    -0.312967  0.038817       2        1  9.352202\n",
              "4      0.056263  0.270777       3        1  7.284526\n",
              "10     0.043863 -0.112559       4        1  7.148273\n",
              "2     -0.010266 -0.113472       5        1  7.001749\n",
              "8      0.049017  0.243460       6        1  6.626921\n",
              "6      0.047375 -0.045380       7        1  6.252861\n",
              "9      0.054116  0.015663       8        1  6.176416\n",
              "0      0.051002 -0.046639       9        1  6.168102\n",
              "12     0.055298 -0.050913      10        1  6.143662\n",
              "5      0.056474 -0.047401      11        1  5.987971\n",
              "14     0.055558 -0.035918      12        1  5.680340\n",
              "1      0.055512 -0.027829      13        1  5.487692\n",
              "3      0.055696 -0.035306      14        1  5.484227\n",
              "13     0.055122 -0.035951      15        1  5.331611, topic_info=                 Term         Freq        Total Category  logprob  loglift\n",
              "39              place  4416.000000  4416.000000  Default  30.0000  30.0000\n",
              "11             coffee  4444.000000  4444.000000  Default  29.0000  29.0000\n",
              "135              food  1766.000000  1766.000000  Default  28.0000  28.0000\n",
              "165              time  1157.000000  1157.000000  Default  27.0000  27.0000\n",
              "210            austin  1139.000000  1139.000000  Default  26.0000  26.0000\n",
              "...               ...          ...          ...      ...      ...      ...\n",
              "1016          thought    49.513177    50.757221  Topic15  -4.9384   2.9067\n",
              "910          lemonade    48.573768    49.817812  Topic15  -4.9575   2.9062\n",
              "475             vegan    43.451478    44.695522  Topic15  -5.0690   2.9033\n",
              "1621           heaven    43.290314    44.534358  Topic15  -5.0727   2.9032\n",
              "2269  favorite_coffee    42.810573    44.054617  Topic15  -5.0838   2.9029\n",
              "\n",
              "[495 rows x 6 columns], token_table=      Topic      Freq       Term\n",
              "term                            \n",
              "224      13  0.997713         ..\n",
              "936       5  0.981088    4_stars\n",
              "92       10  0.980809    5_stars\n",
              "124      11  0.986469   addition\n",
              "603       8  0.985963  afternoon\n",
              "...     ...       ...        ...\n",
              "2263      2  0.990632       year\n",
              "889       4  0.984883       yelp\n",
              "1325      4  0.989504        yes\n",
              "1184      7  0.980492        yum\n",
              "602       4  0.976633      yummy\n",
              "\n",
              "[466 rows x 3 columns], R=30, lambda_step=0.01, plot_opts={'xlab': 'PC1', 'ylab': 'PC2'}, topic_order=[8, 12, 5, 11, 3, 9, 7, 10, 1, 13, 6, 15, 2, 4, 14])"
            ],
            "text/html": [
              "\n",
              "<link rel=\"stylesheet\" type=\"text/css\" href=\"https://cdn.jsdelivr.net/gh/bmabey/pyLDAvis@3.4.0/pyLDAvis/js/ldavis.v1.0.0.css\">\n",
              "\n",
              "\n",
              "<div id=\"ldavis_el489141331145757110088625827131\" style=\"background-color:white;\"></div>\n",
              "<script type=\"text/javascript\">\n",
              "\n",
              "var ldavis_el489141331145757110088625827131_data = {\"mdsDat\": {\"x\": [-0.31206138530953254, -0.31296700207491057, 0.05626296164246327, 0.04386271470688246, -0.010265943194003825, 0.04901704318986242, 0.04737513461314741, 0.054115662352570586, 0.051001822524439126, 0.05529759904135278, 0.05647352945749304, 0.0555578374823729, 0.0555122536303618, 0.05569620870969354, 0.055121563227808264], \"y\": [-0.017348996880687643, 0.0388169697034985, 0.2707769444634687, -0.11255889899124438, -0.11347193733966605, 0.2434600760877953, -0.04538006798647582, 0.015663300784951237, -0.04663864804849829, -0.050913491606384524, -0.047400931123597376, -0.03591821226685234, -0.027828561138036074, -0.03530610764040027, -0.03595143801787157], \"topics\": [1, 2, 3, 4, 5, 6, 7, 8, 9, 10, 11, 12, 13, 14, 15], \"cluster\": [1, 1, 1, 1, 1, 1, 1, 1, 1, 1, 1, 1, 1, 1, 1], \"Freq\": [9.873445662146535, 9.352202062454225, 7.28452557748359, 7.148272650523496, 7.001749379925462, 6.626920821423951, 6.252861482105711, 6.176416361699704, 6.168101628394195, 6.14366249891415, 5.9879713478911665, 5.680340340725657, 5.487692240977399, 5.484227282970078, 5.33161066236468]}, \"tinfo\": {\"Term\": [\"place\", \"coffee\", \"food\", \"time\", \"austin\", \"drink\", \"staff\", \"service\", \"people\", \"lot\", \"order\", \"day\", \"friend\", \"coffee_shop\", \"..\", \"sandwich\", \"table\", \"flavor\", \"tea\", \"way\", \"latte\", \"thing\", \"beer\", \"spot\", \"menu\", \"area\", \"bit\", \"everything\", \"work\", \"cake\", \"flavor\", \"kind\", \"pastry\", \"selection\", \"experience\", \"taste\", \"guy\", \"house\", \"updated_review\", \"mocha\", \"stuff\", \"ice_cream\", \"pretty_good\", \"dog\", \"go_back\", \"feel_like\", \"type\", \"free_wifi\", \"person\", \"plate\", \"event\", \"glass\", \"man\", \"coffee_bar\", \"sit_outside\", \"style\", \"head\", \"end\", \"blend\", \"drip_coffee\", \"coffee\", \"tea\", \"place\", \"cup\", \"price\", \"game\", \"music\", \"cafe\", \"everyone\", \"vibe\", \"point\", \"highly_recommend\", \"year\", \"customer_service\", \"go\", \"try\", \"chicken\", \"evening\", \"even_though\", \"joe\", \"trip\", \"macaroon\", \"company\", \"road\", \"looking_forward\", \"community\", \"lack\", \"tastes_like\", \"comfy\", \"iced_mocha\", \"noise\", \"spicy\", \"coffee\", \"love\", \"table\", \"spot\", \"menu\", \"plenty\", \"today\", \"one\", \"come_back\", \"life\", \"item\", \"husband\", \"outlet\", \"group\", \"top\", \"brunch\", \"guess\", \"family\", \"corner\", \"dish\", \"cheese\", \"crowd\", \"show\", \"wow\", \"coffee_drinks\", \"share\", \"vanilla\", \"sunday\", \"weather\", \"student\", \"internet\", \"quiche\", \"coffee_shop\", \"friend\", \"way\", \"breakfast\", \"town\", \"morning\", \"great_place\", \"baristas\", \"patio\", \"weekend\", \"hour\", \"photo\", \"part\", \"visit\", \"fact\", \"work_done\", \"shot\", \"yelp\", \"laid_back\", \"portion\", \"list\", \"date\", \"french_toast\", \"yes\", \"bike\", \"yummy\", \"perfect\", \"worker\", \"goodness\", \"dog_friendly\", \"surprise\", \"back\", \"drink\", \"lot\", \"review\", \"night\", \"store\", \"first_time\", \"street\", \"front\", \"week\", \"decor\", \"live_music\", \"door\", \"outdoor_seating\", \"kid\", \"issue\", \"light\", \"really_like\", \"star\", \"check\", \"let_us\", \"soda\", \"fruit\", \"amount\", \"4_stars\", \"eye\", \"filling\", \"furniture\", \"entrance\", \"attention\", \"street_parking\", \"tea\", \"back\", \"food\", \"austin\", \"great_coffee\", \"wifi\", \"good_coffee\", \"someone\", \"room\", \"neighborhood\", \"conversation\", \"ambiance\", \"feel\", \"parking_lot\", \"sort\", \"others\", \"best_coffee\", \"almond_milk\", \"look\", \"job\", \"sweetness\", \"top_notch\", \"texas\", \"sorry\", \"iced_latte\", \"right_amount\", \"chai_latte\", \"set\", \"nice_atmosphere\", \"plan\", \"moon_milk\", \"pretty_cool\", \"art\", \"love\", \"coffee_shop\", \"quality\", \"order\", \"thing\", \"area\", \"side\", \"customer\", \"taco\", \"starbucks\", \"chocolate\", \"iced_coffee\", \"chai\", \"laptop\", \"world\", \"complaint\", \"oh\", \"meeting\", \"downtown\", \"opinion\", \"pick\", \"caffeine\", \"much_better\", \"note\", \"spice\", \"definitely_recommend\", \"yum\", \"dollar\", \"favorite_coffee_shop\", \"chill\", \"cinnamon\", \"smell\", \"wi_fi\", \"staff\", \"sandwich\", \"owner\", \"breakfast_tacos\", \"salad\", \"name\", \"anything\", \"super_friendly\", \"choice\", \"problem\", \"pie\", \"party\", \"need\", \"cute\", \"thanks\", \"afternoon\", \"coffee_house\", \"month\", \"manager\", \"smile\", \"mind\", \"friendly_service\", \"bag\", \"face\", \"lady\", \"going_back\", \"summer\", \"patron\", \"hip\", \"walk\", \"quality\", \"time\", \"beer\", \"parking\", \"scone\", \"variety\", \"meal\", \"cappuccino\", \"wine\", \"milk\", \"baked_goods\", \"bread\", \"tap\", \"sweet\", \"establishment\", \"great_selection\", \"chip\", \"croissant\", \"idea\", \"make_sure\", \"ice\", \"folk\", \"bagel\", \"great_spot\", \"couch\", \"next_door\", \"sale\", \"detail\", \"really_enjoyed\", \"mean\", \"hair\", \"people\", \"work\", \"atmosphere\", \"barista\", \"employee\", \"reason\", \"view\", \"water\", \"seat\", \"bathroom\", \"board_game\", \"word\", \"right\", \"piece\", \"size\", \"window\", \"lake\", \"picture\", \"really_nice\", \"rest\", \"smoothy\", \"5_stars\", \"office\", \"savory\", \"study\", \"trail\", \"indoor\", \"even_better\", \"downside\", \"always_friendly\", \"restaurant\", \"latte\", \"bit\", \"gelato\", \"counter\", \"line\", \"lunch\", \"dessert\", \"treat\", \"wait\", \"hand\", \"dinner\", \"hot_chocolate\", \"looks_like\", \"number\", \"con\", \"mine\", \"cashier\", \"addition\", \"saturday\", \"pro\", \"river\", \"super_nice\", \"cool\", \"waffle\", \"little_bit\", \"card\", \"coffeehouse\", \"good_selection\", \"use\", \"block\", \"restaurant\", \"day\", \"option\", \"something\", \"bar\", \"business\", \"chair\", \"course\", \"fun\", \"quack\", \"ingredient\", \"combination\", \"breakfast_taco\", \"slice\", \"east_side\", \"purchase\", \"goody\", \"pretty_much\", \"recommendation\", \"etc\", \"vanilla_latte\", \"donut\", \"east_austin\", \"taste_like\", \"icing\", \"mood\", \"felt_like\", \"juice\", \"deal\", \"expectation\", \"background\", \"..\", \"everything\", \"location\", \"home\", \"wall\", \"inside\", \"friendly_staff\", \"nothing\", \"every_time\", \"book\", \"sign\", \"heart\", \"great_food\", \"product\", \"great_service\", \"americano\", \"wife\", \"cozy\", \"money\", \"great_atmosphere\", \"pot\", \"drive\", \"tip\", \"wish\", \"class\", \"phone\", \"sit\", \"offering\", \"mug\", \"refill\", \"cake\", \"space\", \"shop\", \"couple\", \"snack\", \"bean\", \"next_time\", \"ton\", \"favorite\", \"seating\", \"server\", \"half\", \"stop\", \"city\", \"anyone\", \"question\", \"interior\", \"building\", \"chai_tea\", \"ambience\", \"mix\", \"outdoor_patio\", \"tree\", \"school\", \"outside\", \"sun\", \"baby\", \"tea_haus\", \"difference\", \"display\", \"service\", \"espresso\", \"really_good\", \"cooky\", \"cold_brew\", \"bakery\", \"gluten_free\", \"beverage\", \"cream\", \"girl\", \"fan\", \"hipster\", \"sugar\", \"coming_back\", \"environment\", \"thank\", \"minute\", \"moment\", \"attitude\", \"lavender\", \"version\", \"daughter\", \"brownie\", \"really_friendly\", \"cortado\", \"thought\", \"lemonade\", \"vegan\", \"heaven\", \"favorite_coffee\"], \"Freq\": [4416.0, 4444.0, 1766.0, 1157.0, 1139.0, 1098.0, 1023.0, 878.0, 900.0, 943.0, 895.0, 836.0, 838.0, 989.0, 651.0, 662.0, 699.0, 735.0, 826.0, 621.0, 579.0, 568.0, 551.0, 573.0, 561.0, 505.0, 484.0, 451.0, 449.0, 422.0, 734.3034481853671, 507.6426759507963, 467.21686971121943, 307.0422163266916, 288.989423309068, 284.1588053869413, 279.84420966250514, 268.07076712534973, 186.36789199756277, 174.34090696317244, 166.4372853368379, 159.20185668836444, 155.43067866855787, 154.98663074747117, 147.9186018734563, 135.975412056463, 134.9306053348829, 132.328675654301, 129.92494930861167, 127.74794193422427, 112.93894853249107, 98.58174266983366, 93.96325224521732, 86.47700396742351, 83.33724531329271, 79.32147391574284, 74.3055579801743, 73.88544984744803, 68.9435994940369, 67.30617278502969, 3556.2274623754506, 235.9733618230504, 4414.83641248876, 457.59945199762876, 413.8892544551313, 352.1027033599574, 307.2824115105779, 281.29703953810787, 263.36125654463734, 233.9200204694331, 186.42498263031848, 185.3717870057038, 145.1209300178625, 141.00226003928964, 132.63485788897464, 130.15949996157883, 124.48670924055271, 106.86784773105408, 88.03636480093105, 82.07328470083482, 79.51247716540392, 78.04101809713926, 59.80368676098793, 58.82066918775136, 53.14642806389418, 50.18195705416718, 49.44700351376742, 42.556244069850635, 35.34944354212402, 35.125003580302, 32.58729244014775, 31.46256994595795, 887.3882818919701, 74.2910664787384, 698.2778858591914, 571.9854900092032, 560.190755152038, 425.7444436001538, 245.28590407237405, 210.55821097001933, 207.07557209641163, 184.5591118872061, 179.05264106173752, 165.74209389452562, 160.1251289727965, 158.46316342784877, 150.10860352919437, 118.64005547318446, 111.58240332515672, 106.22583979085132, 100.80466604701228, 97.94139370646154, 93.89802015275373, 87.32093116479109, 77.4864818457558, 76.5578232768581, 75.21424917812904, 71.95006648719816, 68.36082824080567, 66.6486884591171, 66.59012693976703, 64.36366826260658, 63.55555270403896, 61.45175144126259, 799.9011559638832, 837.5639312903738, 620.5709546358362, 429.2941058289757, 383.36027713087566, 377.6680474310011, 369.18034488013785, 311.4198580943658, 257.1243538165508, 244.08780919863247, 232.9841152526793, 202.34753486729792, 172.36062144764438, 166.90569308049197, 161.0736500526855, 125.7494754249357, 111.7454270639022, 107.39552091741868, 100.30792728774158, 99.16860309299784, 98.61494024384577, 88.77038583870062, 88.02370536732091, 86.67606742358028, 82.21605159522615, 68.38022180599818, 65.35037226243102, 61.87910048407647, 59.4980681214166, 55.55523909936029, 53.793997511225726, 107.61335915821103, 1096.8157830411972, 942.6446672131494, 367.17346704920635, 279.9846400931132, 268.4059111697772, 239.10530366201712, 234.91982853417372, 231.12743304938718, 187.83404881127126, 159.61272868873817, 153.18409010639664, 133.9981174528975, 131.924562337805, 120.29593369625907, 103.89588639410859, 82.87469421440628, 82.25113787118752, 74.36492049203841, 73.16000919302513, 69.8548605841272, 66.18065687050786, 62.68269929962252, 62.485673579059885, 55.83319187467576, 54.64645319954231, 52.202059941533264, 47.06677473285098, 40.95020163633035, 40.22131505811972, 40.147686566203944, 589.2387901557966, 56.15435001025008, 1765.1712542142527, 1138.222022294921, 327.9441527028628, 239.02701562598406, 229.18643879766697, 202.19893433790253, 201.40455330275213, 170.29759587987294, 139.7747510982928, 122.1991926656556, 112.3488102439242, 98.52062009510345, 94.97798556350483, 94.56305539976904, 86.2158320578709, 86.15651861516258, 79.25601220568767, 70.95293003022793, 70.0046107761176, 63.1858802963853, 59.955797055358, 55.133108687230944, 54.67842827939317, 47.93931825842047, 47.82293482239431, 46.63589815667193, 40.354883705354226, 39.87143835729254, 38.21907989544713, 37.878895386893454, 63.229745530545735, 102.52461339547047, 188.2146225060092, 86.08264874503664, 893.8618989444307, 567.6251049669881, 504.1556731745473, 329.58956033954223, 310.73876587330574, 256.397833587755, 250.8100254894425, 232.26702601740917, 224.23192094807405, 188.74747325345035, 167.62055344514516, 150.8999635636608, 110.58717339205607, 98.5723694557561, 91.63712624686698, 87.9436466891049, 82.47975350779373, 77.99015456792829, 77.26018854529103, 73.93941970134509, 71.65896261979047, 65.02063223029843, 62.45623113475885, 61.9907540313423, 56.24475820265692, 55.59621982645354, 54.58007600082814, 54.48711717332374, 53.03830124697391, 52.30073958706736, 1022.5302088016434, 660.874376417619, 255.43644387666964, 233.0580450833846, 225.10106240785944, 171.1652204689308, 158.08913070952266, 154.29571529778434, 152.9021892883261, 139.56291720878693, 131.97149452247677, 119.08970914069663, 103.02528573862027, 99.33978655779276, 97.44594876619456, 92.06321955713642, 89.67117955674549, 86.30910107844798, 85.22336405664652, 84.44086143128217, 83.12287752889378, 80.42790875929975, 80.23551268830384, 78.42567020580994, 69.9687484642839, 69.42948784560951, 66.88230102516286, 65.99101001312226, 62.98686575183408, 59.10257469106396, 168.5970422755309, 1156.374334322456, 550.0571691510914, 308.2125988517187, 225.12130548016887, 215.00146630776845, 204.8371549605158, 203.48707382779776, 190.5930017271257, 150.52473349411795, 141.65041298908992, 134.7787994328074, 118.69656222935993, 118.15478185751556, 114.42875952252535, 106.0874276855418, 105.41475440267844, 104.20374000889835, 98.68633172073196, 95.25310066614257, 83.51624309188244, 81.64947628123151, 81.64644645612859, 72.1597216216359, 66.22871615191323, 63.78867963235314, 58.74163866391229, 52.65883300110292, 49.8805987681806, 43.66295099971563, 42.9082342218662, 899.3576936812776, 448.53815522188887, 437.3101431385059, 345.273531823093, 243.4285148631906, 189.1839867317701, 188.86295589242147, 158.30775430001515, 157.7001565750617, 119.51451847005791, 107.79312611943872, 101.65480529781325, 100.63430745922416, 95.70745986186462, 90.9890346560251, 90.6393159859891, 88.50587268073903, 86.39646813152113, 83.19623644051703, 76.47965822633144, 72.58466051428687, 70.1264863884235, 63.11996014342932, 61.29051219264699, 54.102408810979924, 49.24979811226134, 46.75340814784469, 46.25040348044508, 43.73241051920557, 43.53930708819216, 185.16198104561238, 578.2054114242652, 483.3604807706308, 389.7999127083918, 358.67824322024944, 316.54542652693414, 310.3126689682854, 224.49798097882314, 181.82576379543036, 180.2003932519891, 166.97472511413488, 119.00199005721397, 79.27271356046666, 76.67420637092846, 75.28787238540414, 72.74566988273047, 71.23458535110741, 69.38239891789044, 67.69101074968891, 65.67009092808627, 65.57038155000005, 65.3020471868529, 60.8232337416629, 56.65051153762333, 55.64238591174785, 54.93787631777482, 54.82176551665703, 47.93463490172263, 47.89823306527846, 45.64817029586254, 44.8876125695602, 50.60554105840351, 835.1188696509889, 350.2148488756565, 337.6842231254057, 323.74145178389534, 254.74880505479072, 163.06295728464613, 153.06831697134785, 134.49140131547207, 119.04950042636608, 98.88980309212461, 89.77488812915267, 87.60816631453017, 87.46045538111164, 81.1860039803088, 76.07664947510654, 72.724949501219, 71.2289186885118, 68.75577175595522, 63.54159500198433, 62.52780137847816, 60.408410682593306, 57.425398459950294, 57.4039644010376, 51.694487096516504, 49.93103957630646, 48.53521376027204, 46.282248394994895, 46.02573896007485, 45.0130422338743, 42.75112001653592, 650.2464644885781, 449.8800687264042, 383.57490663456366, 263.8998960612734, 199.42506766533222, 185.69172337101813, 172.08752954591776, 156.27177633220302, 141.90923744428343, 129.52941655973345, 119.05543272231547, 110.87786344333583, 109.0323164844732, 108.21337004763828, 103.53827539342292, 99.28583392858583, 98.54064896742442, 96.26551443245191, 92.64746669549378, 85.85796029791669, 81.34625092190822, 76.99562860806472, 75.19927804332107, 65.50481994567338, 59.06699358731586, 58.829740863819694, 56.2628123687369, 54.06349247074337, 51.06465169110485, 50.3261196348832, 420.9368865257182, 387.87615329492706, 287.6741370195724, 225.10851276557264, 211.4924430027268, 208.25286598873708, 181.3096290449787, 177.69013931109782, 176.2334343524043, 161.0821592500518, 151.69847789415005, 148.2268415756657, 135.84101707259777, 121.00563650436715, 111.82270696550256, 95.49629572400028, 90.74213130357587, 89.4089817081739, 69.80932963001621, 67.51372300476342, 67.34488761574318, 62.331486608900114, 60.47284778638917, 57.034981193276515, 56.63584051332951, 56.29654810010358, 54.69543487341768, 52.61843459953961, 51.339378120680216, 49.535123647153306, 876.8722580074162, 347.9669189207122, 209.377541016815, 202.5846067113464, 181.81548618646798, 176.67105146026995, 158.11812777948936, 156.01048476266797, 149.51286577130873, 149.486547742052, 143.05020021147084, 140.75305451454923, 133.29594066291475, 132.53973166578814, 126.17612227768073, 90.84717301758769, 88.4160563257701, 76.04680779052836, 73.00901869862487, 63.44103803245321, 61.89279148394536, 59.91025884434601, 56.01757779769222, 55.891148301644364, 50.921625514387735, 49.513176605150434, 48.57376774202063, 43.451478125281504, 43.29031397839559, 42.81057298298395], \"Total\": [4416.0, 4444.0, 1766.0, 1157.0, 1139.0, 1098.0, 1023.0, 878.0, 900.0, 943.0, 895.0, 836.0, 838.0, 989.0, 651.0, 662.0, 699.0, 735.0, 826.0, 621.0, 579.0, 568.0, 551.0, 573.0, 561.0, 505.0, 484.0, 451.0, 449.0, 422.0, 735.5484063152595, 508.88763426248323, 468.46182800564134, 308.2871746478386, 290.234381467972, 285.4037635151449, 281.08916793364494, 269.3157252714894, 187.61285044843464, 175.58586497497544, 167.68224343269702, 160.44681491803397, 156.6756365455507, 156.2315888943709, 149.16355993396968, 137.22037020971155, 136.1755636463126, 133.57363403774866, 131.1699076227851, 128.99290060649253, 114.18390702646346, 99.82670132270948, 95.20821024197723, 87.72196249581133, 84.58220392482691, 80.56643202787039, 75.55051639811808, 75.13040835025171, 70.18855731470074, 68.5511308058212, 4444.777518198782, 826.3699224656531, 4416.086701832281, 458.84974123000296, 415.1395438027624, 353.35299396578824, 308.53270090380147, 282.5473291409085, 264.61154597987377, 235.17030969548244, 187.67527212401734, 186.62207634453483, 146.37121924401822, 142.25254919989078, 133.88514699229407, 131.40978923739948, 125.73699878471528, 108.11813715247932, 89.28665404193706, 83.32357378389182, 80.76276658415186, 79.29131013703592, 61.05397632115401, 60.07095898721232, 54.396717623699665, 51.43224649215594, 50.69729298680656, 43.80653340025289, 36.59973333707918, 36.37529275294621, 33.83758186450784, 32.71285934470498, 4444.777518198782, 177.98009086501642, 699.5226525780471, 573.2302566575349, 561.4355219412083, 426.98921021215386, 246.53067076180466, 211.8029776259938, 208.32033865063858, 185.80387877353235, 180.2974077046938, 166.98686057275648, 161.3698954693649, 159.70793019001056, 151.35337018768053, 119.88482235677758, 112.82717006608121, 107.47060678860649, 102.04943278313765, 99.1861605481239, 95.14278671911211, 88.56569778900241, 78.73124881959426, 77.80258980580513, 76.45901592561955, 73.1948332106551, 69.60559490499196, 67.89345489227024, 67.83489354547918, 65.60843485269204, 64.80031908721786, 62.69651825166689, 989.2746669288088, 838.8107084346121, 621.817731766169, 430.5408832034202, 384.60705423331626, 378.9148245012662, 370.42712195253347, 312.66663505531557, 258.37113112884464, 245.33458643692867, 234.23089238141748, 203.59431180243362, 173.60739862997733, 168.1524701301656, 162.32042736791593, 126.9962523496171, 112.99220432497495, 108.64229806849326, 101.55470457239316, 100.41538036272502, 99.86171760826467, 90.01716300654823, 89.27048268028294, 87.92284444356457, 83.46282907935245, 69.62699904482248, 66.59714931098355, 63.125877630962776, 60.74484517321516, 56.80201614980989, 55.04077462767911, 164.92729807627788, 1098.0620682114015, 943.8909524702389, 368.41975242311463, 281.230925346021, 269.6521965233461, 240.3515889511259, 236.16611375237073, 232.37371828289557, 189.08033419282245, 160.8590138712545, 154.43037545994088, 135.24440265336813, 133.17084749325758, 121.54221888850982, 105.1421715531912, 84.12097951077119, 83.49742295705924, 75.61120580811313, 74.40629474014384, 71.10114629447816, 67.42694274483758, 63.928984677914244, 63.73195878682293, 57.07947708327585, 55.892738427105755, 53.44834510123277, 48.313060424303195, 42.196487269886504, 41.46760021120005, 41.393971630618964, 826.3699224656531, 164.92729807627788, 1766.4188495789328, 1139.4696175407566, 329.1917477484847, 240.2746107295161, 230.4340339166044, 203.44652979503326, 202.6521487205199, 171.54519098664764, 141.0223462324965, 123.4467878284388, 113.59640552215573, 99.76821544671284, 96.22558115388792, 95.81065069439903, 87.46342701303074, 87.40411368324213, 80.50360763533351, 72.20052527543433, 71.25220592766824, 64.43347557227696, 61.20339217411788, 56.38070412218366, 55.92602335406946, 49.18691339503989, 49.07053000407501, 47.88349364343323, 41.60247881668583, 41.11903392600937, 39.466674866437124, 39.12649063246475, 77.7533263118199, 177.98009086501642, 989.2746669288088, 255.8403447160008, 895.1047333931208, 568.867939537203, 505.3985076120415, 330.83239484762333, 311.9816002860283, 257.6406679643363, 252.0528597626784, 233.509860427448, 225.4747551961627, 189.99030763516657, 168.8633878327003, 152.142798242036, 111.83000795566588, 99.81520386028978, 92.87996086509455, 89.18648122008537, 83.7225880740454, 79.2329892192326, 78.5030228690811, 75.18225409174039, 72.90179715424637, 66.26346686281404, 63.69906550740864, 63.233588256381864, 57.487592598993416, 56.83905408994634, 55.822910530846976, 55.7299517084067, 54.2811355645211, 53.54357411084099, 1023.7767404977928, 662.1209083712347, 256.68297565494424, 234.3045767916595, 226.34759421615448, 172.41175232521942, 159.33566250245036, 155.5422468350884, 154.1487210403016, 140.80944899136009, 133.2180272807519, 120.33624124121782, 104.2718176773871, 100.58631846282272, 98.69248073233372, 93.30975143618012, 90.9177113188356, 87.55563298356168, 86.46989600028304, 85.68739308293208, 84.36940955724151, 81.67444044550577, 81.48204451170389, 79.67220188549904, 71.21528030789662, 70.67601951305964, 68.12883313092779, 67.23754183559188, 64.23339776624631, 60.34910681860896, 255.8403447160008, 1157.620917215947, 551.3037520131384, 309.4591816179446, 226.36788880988266, 216.2480492022369, 206.08373808370288, 204.73365646011342, 191.83958464056073, 151.77131624940523, 142.8969957889877, 136.0253823056531, 119.94314495366804, 119.40136464450558, 115.67534252214429, 107.3340106544627, 106.66133741499634, 105.45032308101163, 99.93291477356723, 96.4996834224714, 84.76282584321315, 82.89605908869845, 82.89302915717573, 73.40630443652203, 67.47529910404445, 65.03526282609693, 59.98822223169347, 53.90541600084129, 51.12718143718006, 44.90953382686589, 44.15481694360963, 900.6008377691257, 449.78129942257584, 438.55328711954417, 346.51667592748737, 244.67165885727903, 190.4271308182219, 190.10610041914217, 159.55089856402415, 158.94330072045324, 120.75766238147614, 109.03627109210635, 102.89794934688938, 101.87745174023146, 96.95060406066571, 92.23217880041065, 91.8824601354313, 89.74901720115297, 87.63961269243794, 84.4393805731328, 77.72280262363635, 73.82780490900963, 71.369630445539, 64.36310423689679, 62.53365703435056, 55.34555281219117, 50.49294319688738, 47.99655216416375, 47.49354761717266, 44.975554402398195, 44.782451135448696, 236.91888126963005, 579.4470991588756, 484.6021687163119, 391.041600746092, 359.91993115478874, 317.78711437719784, 311.55435716945067, 225.73966908685625, 183.06745166122923, 181.44208101054093, 168.21641299626202, 120.24367809961429, 80.51440149606002, 77.91589446818502, 76.52956043837263, 73.98735799364489, 72.47627359032067, 70.62408667421101, 68.93269883306152, 66.91177876050581, 66.8120696971498, 66.54373628750167, 62.06492170816211, 57.892199414513875, 56.88407354430621, 56.17956427838627, 56.06345342526508, 49.17632264780826, 49.13992104128495, 46.88985850259567, 46.1293004593029, 236.91888126963005, 836.3579617948368, 351.4539411380056, 338.9233152719605, 324.98054387187835, 255.98789716271676, 164.3020494926402, 154.30740916419862, 135.73049358544966, 120.2885938373445, 100.12889525746247, 91.01398057443218, 88.84725839408289, 88.69954782672735, 82.42509615854233, 77.31574188778607, 73.9640420213066, 72.46801082056103, 69.99486398074738, 64.7806872483963, 63.76689332370075, 61.64750279552044, 58.6644904952645, 58.643056777963736, 52.93358008153442, 51.17013172648886, 49.77430606186766, 47.521340449501096, 47.26483113164665, 46.25213467272311, 43.99021240527524, 651.4899775233058, 451.12358193745797, 384.8184198056861, 265.14340931222716, 200.6685809062502, 186.93523651454362, 173.3310428544403, 157.51528946622346, 143.1527505305594, 130.77292976968286, 120.29894586308777, 112.12137672835694, 110.27582984028801, 109.45688339846808, 104.78178870142585, 100.52934700851648, 99.78416208669283, 97.50902761912081, 93.89097995188757, 87.10147329042667, 82.58976505564833, 78.23914187118875, 76.44279118876248, 66.74833302742846, 60.31050695591543, 60.07325416861841, 57.506325723458104, 55.307005704586004, 52.308164742431266, 51.56963296693014, 422.177414696971, 389.1166810880006, 288.91466475261643, 226.3490407475299, 212.73297102275245, 209.4933937307243, 182.55015683354614, 178.93066708775766, 177.47396210245498, 162.32268717982325, 152.9390060168878, 149.4673693824658, 137.0815449285642, 122.24616449656956, 113.06323493569823, 96.7368236286768, 91.98265900580415, 90.64950945797656, 71.04985760318938, 68.75425072225845, 68.58541542387381, 63.572014465337126, 61.713375820729446, 58.2755090252166, 57.87636837063151, 57.53707609854962, 55.93596275626412, 53.858963565374204, 52.57990626519329, 50.775652145746896, 878.1163020808747, 349.210962874664, 210.62158500443635, 203.82865109312223, 183.0595301220179, 177.91509628620435, 159.36217233912356, 157.25452904864835, 150.75690974156393, 150.73059183963142, 144.29424431129254, 141.9970985875713, 134.53998463920314, 133.78377578826667, 127.42016630441306, 92.0912172900745, 89.66010039088228, 77.29085215870514, 74.25306280414358, 64.68508225222334, 63.13683567109756, 61.15430308723698, 57.26162200060393, 57.135192315828064, 52.16566938563574, 50.75722081058869, 49.81781184711004, 44.695522273663116, 44.5343580860765, 44.054617054775164], \"Category\": [\"Default\", \"Default\", \"Default\", \"Default\", \"Default\", \"Default\", \"Default\", \"Default\", \"Default\", \"Default\", \"Default\", \"Default\", \"Default\", \"Default\", \"Default\", \"Default\", \"Default\", \"Default\", \"Default\", \"Default\", \"Default\", \"Default\", \"Default\", \"Default\", \"Default\", \"Default\", \"Default\", \"Default\", \"Default\", \"Default\", \"Topic1\", \"Topic1\", \"Topic1\", \"Topic1\", \"Topic1\", \"Topic1\", \"Topic1\", \"Topic1\", \"Topic1\", \"Topic1\", \"Topic1\", \"Topic1\", \"Topic1\", \"Topic1\", \"Topic1\", \"Topic1\", \"Topic1\", \"Topic1\", \"Topic1\", \"Topic1\", \"Topic1\", \"Topic1\", \"Topic1\", \"Topic1\", \"Topic1\", \"Topic1\", \"Topic1\", \"Topic1\", \"Topic1\", \"Topic1\", \"Topic1\", \"Topic1\", \"Topic2\", \"Topic2\", \"Topic2\", \"Topic2\", \"Topic2\", \"Topic2\", \"Topic2\", \"Topic2\", \"Topic2\", \"Topic2\", \"Topic2\", \"Topic2\", \"Topic2\", \"Topic2\", \"Topic2\", \"Topic2\", \"Topic2\", \"Topic2\", \"Topic2\", \"Topic2\", \"Topic2\", \"Topic2\", \"Topic2\", \"Topic2\", \"Topic2\", \"Topic2\", \"Topic2\", \"Topic2\", \"Topic2\", \"Topic2\", \"Topic2\", \"Topic2\", \"Topic3\", \"Topic3\", \"Topic3\", \"Topic3\", \"Topic3\", \"Topic3\", \"Topic3\", \"Topic3\", \"Topic3\", \"Topic3\", \"Topic3\", \"Topic3\", \"Topic3\", \"Topic3\", \"Topic3\", \"Topic3\", \"Topic3\", \"Topic3\", \"Topic3\", \"Topic3\", \"Topic3\", \"Topic3\", \"Topic3\", \"Topic3\", \"Topic3\", \"Topic3\", \"Topic3\", \"Topic3\", \"Topic3\", \"Topic3\", \"Topic3\", \"Topic4\", \"Topic4\", \"Topic4\", \"Topic4\", \"Topic4\", \"Topic4\", \"Topic4\", \"Topic4\", \"Topic4\", \"Topic4\", \"Topic4\", \"Topic4\", \"Topic4\", \"Topic4\", \"Topic4\", \"Topic4\", \"Topic4\", \"Topic4\", \"Topic4\", \"Topic4\", \"Topic4\", \"Topic4\", \"Topic4\", \"Topic4\", \"Topic4\", \"Topic4\", \"Topic4\", \"Topic4\", \"Topic4\", \"Topic4\", \"Topic4\", \"Topic5\", \"Topic5\", \"Topic5\", \"Topic5\", \"Topic5\", \"Topic5\", \"Topic5\", \"Topic5\", \"Topic5\", \"Topic5\", \"Topic5\", \"Topic5\", \"Topic5\", \"Topic5\", \"Topic5\", \"Topic5\", \"Topic5\", \"Topic5\", \"Topic5\", \"Topic5\", \"Topic5\", \"Topic5\", \"Topic5\", \"Topic5\", \"Topic5\", \"Topic5\", \"Topic5\", \"Topic5\", \"Topic5\", \"Topic5\", \"Topic5\", \"Topic5\", \"Topic6\", \"Topic6\", \"Topic6\", \"Topic6\", \"Topic6\", \"Topic6\", \"Topic6\", \"Topic6\", \"Topic6\", \"Topic6\", \"Topic6\", \"Topic6\", \"Topic6\", \"Topic6\", \"Topic6\", \"Topic6\", \"Topic6\", \"Topic6\", \"Topic6\", \"Topic6\", \"Topic6\", \"Topic6\", \"Topic6\", \"Topic6\", \"Topic6\", \"Topic6\", \"Topic6\", \"Topic6\", \"Topic6\", \"Topic6\", \"Topic6\", \"Topic6\", \"Topic6\", \"Topic6\", \"Topic7\", \"Topic7\", \"Topic7\", \"Topic7\", \"Topic7\", \"Topic7\", \"Topic7\", \"Topic7\", \"Topic7\", \"Topic7\", \"Topic7\", \"Topic7\", \"Topic7\", \"Topic7\", \"Topic7\", \"Topic7\", \"Topic7\", \"Topic7\", \"Topic7\", \"Topic7\", \"Topic7\", \"Topic7\", \"Topic7\", \"Topic7\", \"Topic7\", \"Topic7\", \"Topic7\", \"Topic7\", \"Topic7\", \"Topic7\", \"Topic8\", \"Topic8\", \"Topic8\", \"Topic8\", \"Topic8\", \"Topic8\", \"Topic8\", \"Topic8\", \"Topic8\", \"Topic8\", \"Topic8\", \"Topic8\", \"Topic8\", \"Topic8\", \"Topic8\", \"Topic8\", \"Topic8\", \"Topic8\", \"Topic8\", \"Topic8\", \"Topic8\", \"Topic8\", \"Topic8\", \"Topic8\", \"Topic8\", \"Topic8\", \"Topic8\", \"Topic8\", \"Topic8\", \"Topic8\", \"Topic8\", \"Topic9\", \"Topic9\", \"Topic9\", \"Topic9\", \"Topic9\", \"Topic9\", \"Topic9\", \"Topic9\", \"Topic9\", \"Topic9\", \"Topic9\", \"Topic9\", \"Topic9\", \"Topic9\", \"Topic9\", \"Topic9\", \"Topic9\", \"Topic9\", \"Topic9\", \"Topic9\", \"Topic9\", \"Topic9\", \"Topic9\", \"Topic9\", \"Topic9\", \"Topic9\", \"Topic9\", \"Topic9\", \"Topic9\", \"Topic9\", \"Topic10\", \"Topic10\", \"Topic10\", \"Topic10\", \"Topic10\", \"Topic10\", \"Topic10\", \"Topic10\", \"Topic10\", \"Topic10\", \"Topic10\", \"Topic10\", \"Topic10\", \"Topic10\", \"Topic10\", \"Topic10\", \"Topic10\", \"Topic10\", \"Topic10\", \"Topic10\", \"Topic10\", \"Topic10\", \"Topic10\", \"Topic10\", \"Topic10\", \"Topic10\", \"Topic10\", \"Topic10\", \"Topic10\", \"Topic10\", \"Topic10\", \"Topic11\", \"Topic11\", \"Topic11\", \"Topic11\", \"Topic11\", \"Topic11\", \"Topic11\", \"Topic11\", \"Topic11\", \"Topic11\", \"Topic11\", \"Topic11\", \"Topic11\", \"Topic11\", \"Topic11\", \"Topic11\", \"Topic11\", \"Topic11\", \"Topic11\", \"Topic11\", \"Topic11\", \"Topic11\", \"Topic11\", \"Topic11\", \"Topic11\", \"Topic11\", \"Topic11\", \"Topic11\", \"Topic11\", \"Topic11\", \"Topic11\", \"Topic12\", \"Topic12\", \"Topic12\", \"Topic12\", \"Topic12\", \"Topic12\", \"Topic12\", \"Topic12\", \"Topic12\", \"Topic12\", \"Topic12\", \"Topic12\", \"Topic12\", \"Topic12\", \"Topic12\", \"Topic12\", \"Topic12\", \"Topic12\", \"Topic12\", \"Topic12\", \"Topic12\", \"Topic12\", \"Topic12\", \"Topic12\", \"Topic12\", \"Topic12\", \"Topic12\", \"Topic12\", \"Topic12\", \"Topic12\", \"Topic13\", \"Topic13\", \"Topic13\", \"Topic13\", \"Topic13\", \"Topic13\", \"Topic13\", \"Topic13\", \"Topic13\", \"Topic13\", \"Topic13\", \"Topic13\", \"Topic13\", \"Topic13\", \"Topic13\", \"Topic13\", \"Topic13\", \"Topic13\", \"Topic13\", \"Topic13\", \"Topic13\", \"Topic13\", \"Topic13\", \"Topic13\", \"Topic13\", \"Topic13\", \"Topic13\", \"Topic13\", \"Topic13\", \"Topic13\", \"Topic14\", \"Topic14\", \"Topic14\", \"Topic14\", \"Topic14\", \"Topic14\", \"Topic14\", \"Topic14\", \"Topic14\", \"Topic14\", \"Topic14\", \"Topic14\", \"Topic14\", \"Topic14\", \"Topic14\", \"Topic14\", \"Topic14\", \"Topic14\", \"Topic14\", \"Topic14\", \"Topic14\", \"Topic14\", \"Topic14\", \"Topic14\", \"Topic14\", \"Topic14\", \"Topic14\", \"Topic14\", \"Topic14\", \"Topic14\", \"Topic15\", \"Topic15\", \"Topic15\", \"Topic15\", \"Topic15\", \"Topic15\", \"Topic15\", \"Topic15\", \"Topic15\", \"Topic15\", \"Topic15\", \"Topic15\", \"Topic15\", \"Topic15\", \"Topic15\", \"Topic15\", \"Topic15\", \"Topic15\", \"Topic15\", \"Topic15\", \"Topic15\", \"Topic15\", \"Topic15\", \"Topic15\", \"Topic15\", \"Topic15\", \"Topic15\", \"Topic15\", \"Topic15\", \"Topic15\"], \"logprob\": [30.0, 29.0, 28.0, 27.0, 26.0, 25.0, 24.0, 23.0, 22.0, 21.0, 20.0, 19.0, 18.0, 17.0, 16.0, 15.0, 14.0, 13.0, 12.0, 11.0, 10.0, 9.0, 8.0, 7.0, 6.0, 5.0, 4.0, 3.0, 2.0, 1.0, -2.8579, -3.227, -3.31, -3.7298, -3.7904, -3.8073, -3.8226, -3.8656, -4.2291, -4.2958, -4.3422, -4.3866, -4.4106, -4.4135, -4.4601, -4.5443, -4.552, -4.5715, -4.5899, -4.6068, -4.73, -4.8659, -4.9139, -4.9969, -5.0339, -5.0833, -5.1486, -5.1543, -5.2235, -5.2476, -1.2804, -3.9931, -1.0098, -3.2766, -3.377, -3.5386, -3.6748, -3.7632, -3.829, -3.9476, -4.1745, -4.1802, -4.425, -4.4538, -4.515, -4.5338, -4.5784, -4.731, -4.9248, -4.995, -5.0267, -5.0453, -5.3115, -5.3281, -5.4295, -5.4869, -5.5017, -5.6517, -5.8373, -5.8437, -5.9187, -5.9538, -2.6143, -5.0946, -2.6041, -2.8036, -2.8244, -3.0989, -3.6503, -3.803, -3.8196, -3.9347, -3.965, -4.0423, -4.0768, -4.0872, -4.1414, -4.3766, -4.4379, -4.4871, -4.5395, -4.5683, -4.6105, -4.6831, -4.8026, -4.8147, -4.8324, -4.8767, -4.9279, -4.9533, -4.9542, -4.9882, -5.0008, -5.0345, -2.4682, -2.4033, -2.7032, -3.0717, -3.1849, -3.1998, -3.2225, -3.3927, -3.5843, -3.6363, -3.6829, -3.8238, -3.9842, -4.0164, -4.052, -4.2995, -4.4176, -4.4573, -4.5256, -4.537, -4.5426, -4.6478, -4.6562, -4.6717, -4.7245, -4.9087, -4.9541, -5.0086, -5.0479, -5.1165, -5.1487, -4.4553, -2.113, -2.2644, -3.2073, -3.4784, -3.5206, -3.6362, -3.6539, -3.6702, -3.8776, -4.0404, -4.0815, -4.2153, -4.2309, -4.3232, -4.4697, -4.6958, -4.7033, -4.8041, -4.8205, -4.8667, -4.9207, -4.975, -4.9782, -5.0908, -5.1122, -5.158, -5.2616, -5.4008, -5.4187, -5.4206, -2.7343, -5.085, -1.5821, -2.0209, -3.2653, -3.5815, -3.6236, -3.7488, -3.7528, -3.9206, -4.1181, -4.2524, -4.3365, -4.4678, -4.5045, -4.5088, -4.6012, -4.6019, -4.6854, -4.7961, -4.8095, -4.912, -4.9645, -5.0484, -5.0566, -5.1882, -5.1906, -5.2157, -5.3604, -5.3724, -5.4148, -5.4237, -4.9113, -4.428, -3.8205, -4.6028, -2.2044, -2.6585, -2.7771, -3.2022, -3.261, -3.4533, -3.4753, -3.5521, -3.5873, -3.7596, -3.8783, -3.9834, -4.2942, -4.4092, -4.4822, -4.5233, -4.5874, -4.6434, -4.6528, -4.6968, -4.7281, -4.8253, -4.8655, -4.873, -4.9703, -4.9819, -5.0003, -5.002, -5.029, -5.043, -2.0577, -2.4941, -3.4447, -3.5364, -3.5711, -3.8451, -3.9245, -3.9488, -3.9579, -4.0492, -4.1051, -4.2078, -4.3527, -4.3892, -4.4084, -4.4652, -4.4915, -4.5298, -4.5424, -4.5516, -4.5674, -4.6003, -4.6027, -4.6255, -4.7397, -4.7474, -4.7848, -4.7982, -4.8448, -4.9084, -3.8602, -1.9333, -2.6763, -3.2556, -3.5697, -3.6157, -3.6641, -3.6707, -3.7362, -3.9722, -4.033, -4.0827, -4.2098, -4.2144, -4.2464, -4.3221, -4.3284, -4.34, -4.3944, -4.4298, -4.5613, -4.5839, -4.584, -4.7075, -4.7932, -4.8308, -4.9132, -5.0225, -5.0767, -5.2099, -5.2273, -2.1807, -2.8764, -2.9017, -3.138, -3.4876, -3.7397, -3.7414, -3.9178, -3.9217, -4.1989, -4.3022, -4.3608, -4.3709, -4.4211, -4.4716, -4.4755, -4.4993, -4.5234, -4.5612, -4.6454, -4.6976, -4.7321, -4.8373, -4.8668, -4.9915, -5.0855, -5.1375, -5.1483, -5.2043, -5.2087, -3.7612, -2.5968, -2.776, -2.9911, -3.0743, -3.1992, -3.2191, -3.5428, -3.7537, -3.7626, -3.8389, -4.1776, -4.5838, -4.6171, -4.6354, -4.6697, -4.6907, -4.7171, -4.7418, -4.7721, -4.7736, -4.7777, -4.8487, -4.9198, -4.9378, -4.9505, -4.9526, -5.0869, -5.0876, -5.1357, -5.1526, -5.0327, -2.1764, -3.0454, -3.0819, -3.124, -3.3637, -3.8098, -3.8731, -4.0025, -4.1244, -4.31, -4.4067, -4.4311, -4.4328, -4.5072, -4.5722, -4.6173, -4.6381, -4.6734, -4.7523, -4.7684, -4.8028, -4.8535, -4.8539, -4.9586, -4.9933, -5.0217, -5.0692, -5.0748, -5.097, -5.1486, -2.3921, -2.7605, -2.9199, -3.2939, -3.574, -3.6454, -3.7215, -3.8179, -3.9143, -4.0056, -4.0899, -4.161, -4.1778, -4.1854, -4.2295, -4.2715, -4.279, -4.3024, -4.3407, -4.4168, -4.4708, -4.5257, -4.5493, -4.6873, -4.7908, -4.7948, -4.8394, -4.8793, -4.9364, -4.9509, -2.8264, -2.9082, -3.207, -3.4523, -3.5146, -3.5301, -3.6686, -3.6888, -3.697, -3.7869, -3.8469, -3.8701, -3.9574, -4.073, -4.1519, -4.3097, -4.3608, -4.3756, -4.6231, -4.6565, -4.659, -4.7364, -4.7666, -4.8252, -4.8322, -4.8382, -4.8671, -4.9058, -4.9304, -4.9662, -2.0643, -2.9885, -3.4965, -3.5295, -3.6376, -3.6663, -3.7773, -3.7907, -3.8332, -3.8334, -3.8774, -3.8936, -3.948, -3.9537, -4.0029, -4.3314, -4.3586, -4.5093, -4.55, -4.6905, -4.7152, -4.7478, -4.8149, -4.8172, -4.9103, -4.9384, -4.9575, -5.069, -5.0727, -5.0838], \"loglift\": [30.0, 29.0, 28.0, 27.0, 26.0, 25.0, 24.0, 23.0, 22.0, 21.0, 20.0, 19.0, 18.0, 17.0, 16.0, 15.0, 14.0, 13.0, 12.0, 11.0, 10.0, 9.0, 8.0, 7.0, 6.0, 5.0, 4.0, 3.0, 2.0, 1.0, 2.3136, 2.3129, 2.3127, 2.3113, 2.311, 2.3109, 2.3109, 2.3107, 2.3087, 2.3082, 2.3079, 2.3075, 2.3073, 2.3073, 2.3069, 2.3062, 2.3061, 2.306, 2.3058, 2.3056, 2.3044, 2.3028, 2.3022, 2.301, 2.3005, 2.2997, 2.2987, 2.2986, 2.2974, 2.297, 2.0923, 1.062, 2.3693, 2.3668, 2.3665, 2.366, 2.3655, 2.3651, 2.3648, 2.3642, 2.3629, 2.3628, 2.361, 2.3607, 2.3602, 2.36, 2.3596, 2.3579, 2.3555, 2.3544, 2.354, 2.3537, 2.3489, 2.3485, 2.3463, 2.3449, 2.3446, 2.3406, 2.3348, 2.3346, 2.3319, 2.3306, 0.7584, 1.4959, 2.6176, 2.6172, 2.6172, 2.6165, 2.6144, 2.6135, 2.6134, 2.6127, 2.6125, 2.6119, 2.6117, 2.6116, 2.6112, 2.609, 2.6083, 2.6078, 2.6071, 2.6068, 2.6062, 2.6053, 2.6035, 2.6033, 2.603, 2.6023, 2.6014, 2.6009, 2.6009, 2.6003, 2.6, 2.5994, 2.4069, 2.6368, 2.6363, 2.6354, 2.6351, 2.635, 2.6349, 2.6343, 2.6335, 2.6332, 2.633, 2.6322, 2.6311, 2.6309, 2.6306, 2.6284, 2.6272, 2.6268, 2.6259, 2.6258, 2.6257, 2.6244, 2.6242, 2.624, 2.6232, 2.6202, 2.6194, 2.6184, 2.6176, 2.6161, 2.6154, 2.2113, 2.6579, 2.6577, 2.6556, 2.6546, 2.6544, 2.6538, 2.6537, 2.6536, 2.6524, 2.6512, 2.6509, 2.6498, 2.6496, 2.6487, 2.6471, 2.6441, 2.644, 2.6424, 2.6421, 2.6413, 2.6404, 2.6393, 2.6393, 2.6369, 2.6365, 2.6354, 2.6329, 2.629, 2.6285, 2.6284, 2.3208, 1.5816, 2.7133, 2.7129, 2.7102, 2.7088, 2.7086, 2.7079, 2.7079, 2.7067, 2.7051, 2.7039, 2.703, 2.7014, 2.701, 2.7009, 2.6997, 2.6997, 2.6984, 2.6966, 2.6964, 2.6945, 2.6934, 2.6917, 2.6915, 2.6883, 2.6883, 2.6876, 2.6836, 2.6832, 2.6819, 2.6816, 2.5073, 2.1625, 1.0546, 1.6248, 2.7707, 2.7699, 2.7697, 2.7684, 2.7681, 2.7673, 2.7672, 2.7668, 2.7666, 2.7656, 2.7647, 2.7639, 2.761, 2.7596, 2.7587, 2.7581, 2.7572, 2.7563, 2.7562, 2.7555, 2.7549, 2.7532, 2.7524, 2.7523, 2.7503, 2.75, 2.7496, 2.7496, 2.749, 2.7486, 2.7832, 2.7825, 2.7796, 2.7791, 2.7789, 2.7772, 2.7766, 2.7764, 2.7763, 2.7755, 2.775, 2.774, 2.7724, 2.772, 2.7717, 2.771, 2.7706, 2.7701, 2.7699, 2.7698, 2.7695, 2.7691, 2.769, 2.7687, 2.7668, 2.7666, 2.766, 2.7657, 2.7648, 2.7636, 2.3674, 2.7847, 2.7835, 2.7817, 2.7803, 2.78, 2.7797, 2.7797, 2.7793, 2.7775, 2.777, 2.7766, 2.7753, 2.7753, 2.7749, 2.7741, 2.774, 2.7739, 2.7732, 2.7728, 2.771, 2.7706, 2.7706, 2.7687, 2.7671, 2.7664, 2.7648, 2.7624, 2.7611, 2.7576, 2.7571, 2.7884, 2.787, 2.7869, 2.7862, 2.7847, 2.7832, 2.7832, 2.7819, 2.7819, 2.7794, 2.7783, 2.7776, 2.7775, 2.7768, 2.7762, 2.7761, 2.7758, 2.7755, 2.7749, 2.7736, 2.7728, 2.7722, 2.7702, 2.7697, 2.767, 2.7648, 2.7635, 2.7632, 2.7617, 2.7616, 2.5433, 2.8133, 2.8129, 2.8122, 2.812, 2.8115, 2.8114, 2.8099, 2.8086, 2.8086, 2.808, 2.805, 2.7999, 2.7994, 2.7991, 2.7985, 2.7981, 2.7977, 2.7972, 2.7967, 2.7967, 2.7966, 2.7952, 2.7937, 2.7933, 2.7931, 2.793, 2.7898, 2.7898, 2.7886, 2.7881, 1.2718, 2.8667, 2.8646, 2.8645, 2.8643, 2.8633, 2.8606, 2.8601, 2.859, 2.8578, 2.8557, 2.8545, 2.8541, 2.8541, 2.853, 2.852, 2.8513, 2.8509, 2.8503, 2.8488, 2.8485, 2.8479, 2.8468, 2.8468, 2.8445, 2.8436, 2.8429, 2.8417, 2.8416, 2.841, 2.8396, 2.9008, 2.8999, 2.8994, 2.898, 2.8964, 2.896, 2.8955, 2.8947, 2.8939, 2.8931, 2.8923, 2.8915, 2.8913, 2.8912, 2.8907, 2.8902, 2.8901, 2.8898, 2.8893, 2.8883, 2.8875, 2.8866, 2.8863, 2.8839, 2.8818, 2.8817, 2.8808, 2.8799, 2.8786, 2.8783, 2.9004, 2.9001, 2.899, 2.8978, 2.8974, 2.8974, 2.8965, 2.8963, 2.8963, 2.8956, 2.8951, 2.895, 2.8942, 2.8931, 2.8923, 2.8904, 2.8897, 2.8895, 2.8857, 2.8851, 2.885, 2.8836, 2.883, 2.8818, 2.8816, 2.8815, 2.8809, 2.88, 2.8794, 2.8786, 2.9301, 2.9279, 2.9256, 2.9254, 2.9247, 2.9245, 2.9237, 2.9236, 2.9232, 2.9232, 2.9229, 2.9227, 2.9222, 2.9222, 2.9217, 2.9179, 2.9175, 2.9153, 2.9146, 2.9121, 2.9116, 2.911, 2.9096, 2.9095, 2.9074, 2.9067, 2.9062, 2.9033, 2.9032, 2.9029]}, \"token.table\": {\"Topic\": [13, 5, 10, 11, 8, 6, 10, 6, 14, 13, 5, 14, 8, 7, 6, 13, 10, 5, 15, 6, 14, 4, 5, 12, 8, 9, 9, 15, 12, 10, 4, 10, 14, 9, 6, 15, 4, 11, 1, 11, 10, 13, 9, 4, 12, 8, 15, 3, 14, 12, 2, 7, 14, 9, 11, 11, 7, 6, 14, 12, 5, 3, 2, 7, 9, 7, 8, 7, 14, 13, 1, 2, 1, 3, 8, 3, 6, 11, 15, 12, 3, 2, 15, 2, 2, 7, 11, 6, 15, 11, 3, 15, 9, 11, 14, 12, 13, 15, 9, 3, 2, 7, 2, 8, 4, 15, 12, 12, 5, 7, 11, 9, 14, 11, 3, 14, 1, 4, 7, 12, 5, 10, 7, 5, 1, 13, 12, 12, 10, 1, 5, 15, 15, 9, 12, 10, 2, 2, 1, 13, 2, 13, 12, 1, 5, 8, 4, 3, 15, 14, 15, 7, 6, 1, 12, 5, 5, 1, 9, 6, 1, 4, 4, 8, 13, 5, 5, 12, 5, 2, 11, 15, 1, 15, 2, 1, 8, 6, 11, 4, 12, 13, 6, 13, 4, 9, 13, 9, 3, 3, 1, 9, 14, 11, 1, 13, 15, 2, 8, 15, 13, 11, 4, 1, 3, 9, 1, 7, 6, 2, 12, 9, 10, 12, 13, 14, 3, 5, 3, 6, 2, 12, 5, 1, 2, 8, 4, 10, 7, 11, 15, 15, 5, 3, 5, 11, 4, 11, 5, 13, 6, 2, 11, 5, 2, 6, 11, 2, 9, 1, 8, 9, 9, 7, 3, 9, 8, 11, 15, 14, 1, 15, 13, 8, 12, 6, 4, 7, 13, 2, 8, 8, 6, 9, 14, 6, 5, 2, 7, 13, 11, 13, 10, 7, 3, 7, 12, 7, 6, 14, 5, 3, 14, 8, 9, 6, 4, 8, 1, 4, 8, 10, 4, 1, 13, 4, 7, 10, 8, 10, 2, 6, 1, 3, 2, 4, 13, 6, 1, 12, 2, 11, 8, 13, 12, 12, 6, 8, 14, 3, 9, 15, 15, 5, 10, 10, 12, 13, 10, 10, 11, 5, 10, 6, 11, 2, 6, 8, 9, 8, 11, 10, 14, 9, 10, 14, 1, 14, 15, 6, 3, 14, 4, 3, 7, 13, 13, 1, 10, 12, 7, 8, 10, 14, 5, 6, 12, 6, 6, 14, 7, 2, 3, 8, 5, 7, 14, 5, 5, 5, 3, 10, 1, 1, 15, 8, 14, 3, 8, 11, 4, 9, 6, 3, 7, 9, 1, 12, 2, 1, 5, 14, 6, 15, 8, 7, 15, 9, 13, 3, 14, 3, 6, 4, 10, 11, 14, 2, 2, 1, 1, 11, 3, 12, 9, 15, 15, 2, 10, 4, 11, 11, 8, 13, 10, 4, 3, 5, 4, 7, 13, 6, 10, 9, 13, 10, 10, 4, 4, 7, 3, 2, 4, 4, 7, 4], \"Freq\": [0.9977129693860064, 0.9810881749722242, 0.9808093381317962, 0.9864694281690567, 0.9859634023666226, 0.9839353821682727, 0.9825277287060036, 0.98828006905737, 0.9890297586791348, 0.9847870591620682, 0.9728243283308432, 0.9905961037086642, 0.9916173034870344, 0.9972328616112277, 0.8102547246319269, 0.16719541936849286, 0.9964581564768417, 0.9646085087218608, 0.9831244293929158, 0.9987102617585114, 0.9832672450755431, 0.6548339860030367, 0.33954354829787087, 0.9774901653996904, 0.9818113975835374, 0.989226727913605, 0.9937227806362544, 0.9948565562714685, 0.9969827613056585, 0.9956230795432057, 0.9946696101583697, 0.9937257614420966, 0.9928714041806785, 0.9976351475781227, 0.9832681263128106, 0.9920223025928859, 0.9824732866655926, 0.996693847407749, 0.9830662238949909, 0.9755188037091694, 0.9904960883041297, 0.9940895277711974, 0.9924618311062782, 0.9964210525329085, 0.9904638768894267, 0.9944321326987158, 0.9779674072000506, 0.9926193963557427, 0.9818034375713721, 0.9961408442599581, 0.994523646195442, 0.9808539491327911, 0.9972110902763092, 0.9915321374605002, 0.9810312536903795, 0.9770037851009256, 0.9947875886539, 0.97818385079627, 0.9852236494399075, 0.9920752693185454, 0.9810997880615454, 0.9879887192868764, 0.9861854601151301, 0.9852585520349706, 0.9844241835396041, 0.9935340613681832, 0.9925479690486613, 0.9689583131624041, 0.9898061055600273, 0.9782706692073845, 0.8000400437232787, 0.19956004465201022, 0.9803702237521926, 0.9809176732402768, 0.9899061326388066, 0.808673290385157, 0.1900382232405119, 0.9760794914204368, 0.9942121007231273, 0.9888590679362393, 0.9936619791461992, 0.9562911204203095, 0.9941414735557538, 0.9721527526048396, 0.9827369749742437, 0.9925779495965437, 0.9866550445857291, 0.992750466434511, 0.9959345700975882, 0.9845886073851566, 0.9897164270832571, 0.9776544727717668, 0.9781357159785302, 0.9974440672072892, 0.9940399979470882, 0.9915272431098405, 0.9845242265668445, 0.9949792699859564, 0.9862463856094833, 0.9823216230652582, 0.9981481056789416, 0.99685365968657, 0.9911948910094348, 0.9842292820031083, 0.9887003436614167, 0.9811247446383231, 0.9983763390116803, 0.9732394869216031, 0.9946598337849938, 0.9733266807939117, 0.9922934719719693, 0.983203617224155, 0.9699522806825703, 0.989657018819867, 0.9880410680122215, 0.9847239353318308, 0.9921169022021303, 0.9858804985426107, 0.9741232406552459, 0.9732754333782981, 0.9907988602193206, 0.9783092300837501, 0.986696624826385, 0.9990327794373851, 0.9773726445123866, 0.9841621234390729, 0.971626950456531, 0.9827104095116711, 0.9931677462559971, 0.9849540502298105, 0.9716448608095306, 0.9888544620086258, 0.9965322884920464, 0.9855168570447624, 0.987948765572634, 0.968552620469383, 0.9855896264033734, 0.9896581907353582, 0.9896315771872382, 0.9919474091396288, 0.9939097669608251, 0.9975093699765539, 0.9729280673944429, 0.9957469495456442, 0.9840276491682359, 0.9790114764506918, 0.9918653037739789, 0.9863161953528451, 0.9910305201883146, 0.9916947698412003, 0.9760611457940059, 0.9852380708408948, 0.9859466898198256, 0.9911064938256144, 0.9844436593268577, 0.9729019654679755, 0.9943766173669826, 0.9978948954250119, 0.9891905707153138, 0.9991967649239754, 0.9882189771275973, 0.9857681661156342, 0.9990335025215342, 0.9794985991165379, 0.9923208051338035, 0.9940883233566751, 0.9854684900347684, 0.987250517258598, 0.9728218330039246, 0.9961709848539751, 0.9973363428747615, 0.9885186423106952, 0.9917186352773792, 0.9914523483262713, 0.9933887588565369, 0.9921994357436578, 0.9762858813412667, 0.9937768137274229, 0.9768025463385005, 0.971275831418457, 0.9869660716888771, 0.9873541370907244, 0.9963797763563768, 0.9884305577918951, 0.9961473610652183, 0.9875714077361998, 0.9925388876147787, 0.980842184505581, 0.9893059149412395, 0.9926686979244738, 0.9961251871011193, 0.9738461843226651, 0.9901826774062571, 0.992768761534054, 0.9794770906667595, 0.9899985465655335, 0.9655466441637964, 0.9913082290353462, 0.9807981858481968, 0.9929780354846027, 0.995687581617838, 0.9811909240096118, 0.9947449613972648, 0.9951145620250617, 0.994090190273824, 0.9910004670605937, 0.9909825887240387, 0.9934593334190355, 0.9834419953622168, 0.9621915688132897, 0.9823631789103171, 0.9906645895831111, 0.9792370051758047, 0.9887255796185533, 0.9949970025342394, 0.9893169102043229, 0.9876494576185548, 0.9891368845029667, 0.9928040690034834, 0.9833723470728987, 0.9841152542577609, 0.9679861629509849, 0.9873112495179598, 0.99825573623189, 0.9665210332384362, 0.982935118662141, 0.9846909645501958, 0.9916543130553263, 0.9948870631829577, 0.9975026207552402, 0.9739494456287033, 0.9835839468497755, 0.9845129600313677, 0.995673509192388, 0.9866741980741243, 0.9975231394175927, 0.9913708913795676, 0.9790036769857953, 0.990737732420317, 0.9978732312083726, 0.9813224813210288, 0.9743234944181423, 0.9882450881885338, 0.9990560853794528, 0.4157768413329053, 0.5787164142876925, 0.9950109599378664, 0.9837143548920531, 0.9844591881622465, 0.987309810373428, 0.9830010666338926, 0.9947412731650728, 0.9797474222205845, 0.990525826487237, 0.9974431223442277, 0.994917904987147, 0.9837688853764892, 0.9796309396552939, 0.9814845133605149, 0.9768840734713703, 0.9909681512506633, 0.9832987718125482, 0.9905104840492225, 0.982232633920267, 0.9771325246387215, 0.9628376377944016, 0.9975856724463861, 0.9842748251429418, 0.9749911940349513, 0.9950322902586609, 0.9918117395932706, 0.9878028626937141, 0.990992513530922, 0.9840815154562349, 0.9915083237372422, 0.9614811698181044, 0.9956230797004045, 0.9752469940712171, 0.9876299736158995, 0.9903800483663626, 0.9800134689182706, 0.9763681709408175, 0.9788216517357567, 0.9918328688540193, 0.9962088463769772, 0.9794250498739728, 0.9958630677655862, 0.9987658054394003, 0.9915390336197099, 0.9752719104694366, 0.9912079293982351, 0.9915108362350958, 0.9848579239626892, 0.9934433686120008, 0.9952847363897379, 0.992299998117906, 0.9907411859018561, 0.9888957704891307, 0.9968795152171422, 0.9946931720937473, 0.9815944812703311, 0.9982224780368946, 0.9760177525989068, 0.991080975476864, 0.9821342428761073, 0.9921691731545981, 0.9844384361692955, 0.9812914201459106, 0.9908568884736226, 0.9901949650559074, 0.9997539219889343, 0.9727855005537583, 0.9923026724585294, 0.9976832899087489, 0.9910735596381056, 0.9859047452928793, 0.9807510645589419, 0.9712090040722932, 0.989305059915531, 0.9797426367311779, 0.9972550343137059, 0.9878454641379799, 0.9942514582852338, 0.9866898878057361, 0.9829822251502713, 0.9892874810799855, 0.3361471393241966, 0.6605682156487118, 0.982045889419074, 0.9729407900314818, 0.9779533820270333, 0.9801314694181298, 0.9923009552681782, 0.9820662374474799, 0.9829536815243908, 0.9925056329311382, 0.9857866145575905, 0.969562843933043, 0.977834013114802, 0.780857984001103, 0.21526355234625003, 0.9961463726801376, 0.9913871840604258, 0.9758693255356906, 0.9768011780878673, 0.9821717681011168, 0.9918473663815013, 0.9940463506103469, 0.9835263957668783, 0.9983070941318074, 0.9863734191887306, 0.975474694635113, 0.978112434424817, 0.9939572312262386, 0.9940651747121302, 0.9918514952974012, 0.9958247544702146, 0.9938602581424905, 0.9987287537217685, 0.9815490981085839, 0.983675989707957, 0.9968341352509759, 0.9912188249543191, 0.9780106521165279, 0.9974839379075718, 0.9892023504132272, 0.9738059125755684, 0.9812938910147918, 0.9866404673896182, 0.9808392729346559, 0.9763981436424025, 0.9803075689174142, 0.988787355793256, 0.9918537732330777, 0.9788372023593369, 0.9928898772739422, 0.9972757398787403, 0.9755110521643804, 0.9872634580202959, 0.9971302153254437, 0.9809326779501318, 0.9476395711345168, 0.9978538176531216, 0.9992412989404162, 0.9786909123999151, 0.9958228612693792, 0.9921102076203779, 0.9938728608754238, 0.995062315529342, 0.9663242840513557, 0.9754843282528627, 0.9756881493847003, 0.9899676710052354, 0.9805572620203844, 0.9885537028762644, 0.9834309046691225, 0.9732854673407993, 0.9868403383847835, 0.9900847077468056, 0.9828418101746825, 0.981090843384393, 0.9882634118238274, 0.9824257240689583, 0.9978232976838771, 0.9936319526831712, 0.9921367331660983, 0.9950814821155279, 0.9719820748058081, 0.9815887417321126, 0.2855863864161985, 0.712755854233648, 0.9840516135381701, 0.9803378190101891, 0.98815069099763, 0.9828509657496204, 0.9984742688471614, 0.9850815155263442, 0.9985997858263953, 0.9811258698652204, 0.9937911548405935, 0.994798727893295, 0.9910582091036207, 0.9777526268830712, 0.9958215684927574, 0.9704326366742786, 0.9941690800219114, 0.9722365565334391, 0.9905554673717487, 0.9892718096149397, 0.9913672936991406, 0.9914033050263903, 0.9810223675009296, 0.9769329619668718, 0.9879734877500185, 0.9942286221455356, 0.9620650528864677, 0.9819940980726412, 0.9950235652748943, 0.9941816679385698, 0.9931462789141695, 0.9844583292084801, 0.9920521138067351, 0.9776449579831569, 0.9916848920806902, 0.9902795999396906, 0.9986849333423696, 0.9876922701305718, 0.9942863746384077, 0.9945601374175924, 0.9711716272872328, 0.992141417332226, 0.9946951917822439, 0.9903957715745684, 0.9956235067849327, 0.9887887383326719, 0.9912733990075719, 0.9982629348450484, 0.9921552618192666, 0.9821645627242648, 0.9924886471443887, 0.989684279047672, 0.9906319066610203, 0.9848834376877974, 0.9895039287069821, 0.9804915664222588, 0.9766326415450549], \"Term\": [\"..\", \"4_stars\", \"5_stars\", \"addition\", \"afternoon\", \"almond_milk\", \"always_friendly\", \"ambiance\", \"ambience\", \"americano\", \"amount\", \"anyone\", \"anything\", \"area\", \"art\", \"art\", \"atmosphere\", \"attention\", \"attitude\", \"austin\", \"baby\", \"back\", \"back\", \"background\", \"bag\", \"bagel\", \"baked_goods\", \"bakery\", \"bar\", \"barista\", \"baristas\", \"bathroom\", \"bean\", \"beer\", \"best_coffee\", \"beverage\", \"bike\", \"bit\", \"blend\", \"block\", \"board_game\", \"book\", \"bread\", \"breakfast\", \"breakfast_taco\", \"breakfast_tacos\", \"brownie\", \"brunch\", \"building\", \"business\", \"cafe\", \"caffeine\", \"cake\", \"cappuccino\", \"card\", \"cashier\", \"chai\", \"chai_latte\", \"chai_tea\", \"chair\", \"check\", \"cheese\", \"chicken\", \"chill\", \"chip\", \"chocolate\", \"choice\", \"cinnamon\", \"city\", \"class\", \"coffee\", \"coffee\", \"coffee_bar\", \"coffee_drinks\", \"coffee_house\", \"coffee_shop\", \"coffee_shop\", \"coffeehouse\", \"cold_brew\", \"combination\", \"come_back\", \"comfy\", \"coming_back\", \"community\", \"company\", \"complaint\", \"con\", \"conversation\", \"cooky\", \"cool\", \"corner\", \"cortado\", \"couch\", \"counter\", \"couple\", \"course\", \"cozy\", \"cream\", \"croissant\", \"crowd\", \"cup\", \"customer\", \"customer_service\", \"cute\", \"date\", \"daughter\", \"day\", \"deal\", \"decor\", \"definitely_recommend\", \"dessert\", \"detail\", \"difference\", \"dinner\", \"dish\", \"display\", \"dog\", \"dog_friendly\", \"dollar\", \"donut\", \"door\", \"downside\", \"downtown\", \"drink\", \"drip_coffee\", \"drive\", \"east_austin\", \"east_side\", \"employee\", \"end\", \"entrance\", \"environment\", \"espresso\", \"establishment\", \"etc\", \"even_better\", \"even_though\", \"evening\", \"event\", \"every_time\", \"everyone\", \"everything\", \"expectation\", \"experience\", \"eye\", \"face\", \"fact\", \"family\", \"fan\", \"favorite\", \"favorite_coffee\", \"favorite_coffee_shop\", \"feel\", \"feel_like\", \"felt_like\", \"filling\", \"first_time\", \"flavor\", \"folk\", \"food\", \"free_wifi\", \"french_toast\", \"friend\", \"friendly_service\", \"friendly_staff\", \"front\", \"fruit\", \"fun\", \"furniture\", \"game\", \"gelato\", \"girl\", \"glass\", \"gluten_free\", \"go\", \"go_back\", \"going_back\", \"good_coffee\", \"good_selection\", \"goodness\", \"goody\", \"great_atmosphere\", \"great_coffee\", \"great_food\", \"great_place\", \"great_selection\", \"great_service\", \"great_spot\", \"group\", \"guess\", \"guy\", \"hair\", \"half\", \"hand\", \"head\", \"heart\", \"heaven\", \"highly_recommend\", \"hip\", \"hipster\", \"home\", \"hot_chocolate\", \"hour\", \"house\", \"husband\", \"ice\", \"ice_cream\", \"iced_coffee\", \"iced_latte\", \"iced_mocha\", \"icing\", \"idea\", \"indoor\", \"ingredient\", \"inside\", \"interior\", \"internet\", \"issue\", \"item\", \"job\", \"joe\", \"juice\", \"kid\", \"kind\", \"lack\", \"lady\", \"laid_back\", \"lake\", \"laptop\", \"latte\", \"lavender\", \"lemonade\", \"let_us\", \"life\", \"light\", \"line\", \"list\", \"little_bit\", \"live_music\", \"location\", \"look\", \"looking_forward\", \"looks_like\", \"lot\", \"love\", \"love\", \"lunch\", \"macaroon\", \"make_sure\", \"man\", \"manager\", \"meal\", \"mean\", \"meeting\", \"menu\", \"milk\", \"mind\", \"mine\", \"minute\", \"mix\", \"mocha\", \"moment\", \"money\", \"month\", \"mood\", \"moon_milk\", \"morning\", \"much_better\", \"mug\", \"music\", \"name\", \"need\", \"neighborhood\", \"next_door\", \"next_time\", \"nice_atmosphere\", \"night\", \"noise\", \"note\", \"nothing\", \"number\", \"offering\", \"office\", \"oh\", \"one\", \"opinion\", \"option\", \"order\", \"others\", \"outdoor_patio\", \"outdoor_seating\", \"outlet\", \"outside\", \"owner\", \"parking\", \"parking_lot\", \"part\", \"party\", \"pastry\", \"patio\", \"patron\", \"people\", \"perfect\", \"person\", \"phone\", \"photo\", \"pick\", \"picture\", \"pie\", \"piece\", \"place\", \"plan\", \"plate\", \"plenty\", \"point\", \"portion\", \"pot\", \"pretty_cool\", \"pretty_good\", \"pretty_much\", \"price\", \"pro\", \"problem\", \"product\", \"purchase\", \"quack\", \"quality\", \"quality\", \"question\", \"quiche\", \"really_enjoyed\", \"really_friendly\", \"really_good\", \"really_like\", \"really_nice\", \"reason\", \"recommendation\", \"refill\", \"rest\", \"restaurant\", \"restaurant\", \"review\", \"right\", \"right_amount\", \"river\", \"road\", \"room\", \"salad\", \"sale\", \"sandwich\", \"saturday\", \"savory\", \"school\", \"scone\", \"seat\", \"seating\", \"selection\", \"server\", \"service\", \"set\", \"share\", \"shop\", \"shot\", \"show\", \"side\", \"sign\", \"sit\", \"sit_outside\", \"size\", \"slice\", \"smell\", \"smile\", \"smoothy\", \"snack\", \"soda\", \"someone\", \"something\", \"sorry\", \"sort\", \"space\", \"spice\", \"spicy\", \"spot\", \"staff\", \"star\", \"starbucks\", \"stop\", \"store\", \"street\", \"street_parking\", \"student\", \"study\", \"stuff\", \"style\", \"sugar\", \"summer\", \"sun\", \"sunday\", \"super_friendly\", \"super_nice\", \"surprise\", \"sweet\", \"sweetness\", \"table\", \"taco\", \"tap\", \"taste\", \"taste_like\", \"tastes_like\", \"tea\", \"tea\", \"tea_haus\", \"texas\", \"thank\", \"thanks\", \"thing\", \"thought\", \"time\", \"tip\", \"today\", \"ton\", \"top\", \"top_notch\", \"town\", \"trail\", \"treat\", \"tree\", \"trip\", \"try\", \"type\", \"updated_review\", \"use\", \"vanilla\", \"vanilla_latte\", \"variety\", \"vegan\", \"version\", \"vibe\", \"view\", \"visit\", \"waffle\", \"wait\", \"walk\", \"wall\", \"water\", \"way\", \"weather\", \"week\", \"weekend\", \"wi_fi\", \"wife\", \"wifi\", \"window\", \"wine\", \"wish\", \"word\", \"work\", \"work_done\", \"worker\", \"world\", \"wow\", \"year\", \"yelp\", \"yes\", \"yum\", \"yummy\"]}, \"R\": 30, \"lambda.step\": 0.01, \"plot.opts\": {\"xlab\": \"PC1\", \"ylab\": \"PC2\"}, \"topic.order\": [8, 12, 5, 11, 3, 9, 7, 10, 1, 13, 6, 15, 2, 4, 14]};\n",
              "\n",
              "function LDAvis_load_lib(url, callback){\n",
              "  var s = document.createElement('script');\n",
              "  s.src = url;\n",
              "  s.async = true;\n",
              "  s.onreadystatechange = s.onload = callback;\n",
              "  s.onerror = function(){console.warn(\"failed to load library \" + url);};\n",
              "  document.getElementsByTagName(\"head\")[0].appendChild(s);\n",
              "}\n",
              "\n",
              "if(typeof(LDAvis) !== \"undefined\"){\n",
              "   // already loaded: just create the visualization\n",
              "   !function(LDAvis){\n",
              "       new LDAvis(\"#\" + \"ldavis_el489141331145757110088625827131\", ldavis_el489141331145757110088625827131_data);\n",
              "   }(LDAvis);\n",
              "}else if(typeof define === \"function\" && define.amd){\n",
              "   // require.js is available: use it to load d3/LDAvis\n",
              "   require.config({paths: {d3: \"https://d3js.org/d3.v5\"}});\n",
              "   require([\"d3\"], function(d3){\n",
              "      window.d3 = d3;\n",
              "      LDAvis_load_lib(\"https://cdn.jsdelivr.net/gh/bmabey/pyLDAvis@3.4.0/pyLDAvis/js/ldavis.v3.0.0.js\", function(){\n",
              "        new LDAvis(\"#\" + \"ldavis_el489141331145757110088625827131\", ldavis_el489141331145757110088625827131_data);\n",
              "      });\n",
              "    });\n",
              "}else{\n",
              "    // require.js not available: dynamically load d3 & LDAvis\n",
              "    LDAvis_load_lib(\"https://d3js.org/d3.v5.js\", function(){\n",
              "         LDAvis_load_lib(\"https://cdn.jsdelivr.net/gh/bmabey/pyLDAvis@3.4.0/pyLDAvis/js/ldavis.v3.0.0.js\", function(){\n",
              "                 new LDAvis(\"#\" + \"ldavis_el489141331145757110088625827131\", ldavis_el489141331145757110088625827131_data);\n",
              "            })\n",
              "         });\n",
              "}\n",
              "</script>"
            ]
          },
          "metadata": {},
          "execution_count": 85
        }
      ]
    },
    {
      "cell_type": "markdown",
      "id": "YF6i9Y4Lodhq",
      "metadata": {
        "id": "YF6i9Y4Lodhq"
      },
      "source": [
        "<div style=\"background-color: #EDF7FF; border-color: #7C9DBF; border-left: 5px solid #7C9DBF; padding: 0.5em;\">\n",
        "\n",
        "<strong>Ejercicio Opcional:</strong> Tomando como base los resultados de cada modelo LDA, calcular las métricas de calidad denominadas perplejidad y coherencia, las cuales están definidas en el paquete gensim.\n",
        "<br>\n",
        "Tanto la perplejidad como la coherencia son métricas complementarias. Una perplejidad baja indica que el modelo puede generalizar bien a nuevos datos, mientras que una alta coherencia indica que los temas generados son interpretables y distintos entre sí. Cuando evaluamos el rendimiento de un modelo LDA, se sugiere elegir modelos que evidencien un equilibrio entre ambas métricas.\n",
        "<br>\n",
        "Como indica el enunciado este ejercicio es opcional, pero ha sido incorporado en la práctica por sí alguien quiere aprender un poco más el tema. Las métricas mencionadas nos puede ayudar a tener un criterio adicional para elegir el modelo de temas máas apropiado. Para una introducción básica de este tema podrían revisar el siguiente post (https://medium.com/@iqra.bismi/topic-modelling-using-lda-fe81a2a806e0)\n",
        "<br>\n",
        "<b>Salida esperada:</b>\n",
        "<br>\n",
        "- Valores de coherencia y perplejidad de cada modelo (puedes usar el valor absoluto calculado para una mejor interpretación) de cada uno de los 3 modelos de LDA.\n",
        "\n",
        "</div>"
      ]
    },
    {
      "cell_type": "code",
      "execution_count": null,
      "id": "ggDQcxhpoexZ",
      "metadata": {
        "id": "ggDQcxhpoexZ",
        "colab": {
          "base_uri": "https://localhost:8080/"
        },
        "outputId": "0c5a3a96-0c1e-4b3c-dece-f1185f997db1"
      },
      "outputs": [
        {
          "output_type": "stream",
          "name": "stdout",
          "text": [
            "lda_model1:\n",
            "Coherencia: 0.27868319712656653\n",
            "Perplejidad: 8.641525846609344\n",
            "\n",
            "lda_model2:\n",
            "Coherencia: 0.35627633115921065\n",
            "Perplejidad: 9.66760575621751\n",
            "\n",
            "lda_model3:\n",
            "Coherencia: 0.4685942022174021\n",
            "Perplejidad: 14.183852239687868\n",
            "\n"
          ]
        }
      ],
      "source": [
        "#############################################\n",
        "# SOLUCIÓN                                  #\n",
        "#############################################\n",
        "\n",
        "from gensim.models import CoherenceModel\n",
        "\n",
        "# Modelo lda_model1\n",
        "coherence_lda_model1 = CoherenceModel(model=lda_model1, texts=noun_and_collocation_stream, dictionary=dictionary, coherence='c_v')\n",
        "coherence1 = coherence_lda_model1.get_coherence()\n",
        "perplexity1 = lda_model1.log_perplexity(corpus)\n",
        "\n",
        "print(\"lda_model1:\")\n",
        "print(f\"Coherencia: {abs(coherence1)}\")\n",
        "print(f\"Perplejidad: {abs(perplexity1)}\\n\")\n",
        "\n",
        "# Modelo lda_model2\n",
        "coherence_lda_model2 = CoherenceModel(model=lda_model2, texts=noun_and_collocation_stream, dictionary=dictionary, coherence='c_v')\n",
        "coherence2 = coherence_lda_model2.get_coherence()\n",
        "perplexity2 = lda_model2.log_perplexity(corpus)\n",
        "\n",
        "print(\"lda_model2:\")\n",
        "print(f\"Coherencia: {abs(coherence2)}\")\n",
        "print(f\"Perplejidad: {abs(perplexity2)}\\n\")\n",
        "\n",
        "# Modelo lda_model3\n",
        "coherence_lda_model3 = CoherenceModel(model=lda_model3, texts=noun_and_collocation_stream, dictionary=dictionary, coherence='c_v')\n",
        "coherence3 = coherence_lda_model3.get_coherence()\n",
        "perplexity3 = lda_model3.log_perplexity(corpus)\n",
        "\n",
        "print(\"lda_model3:\")\n",
        "print(f\"Coherencia: {abs(coherence3)}\")\n",
        "print(f\"Perplejidad: {abs(perplexity3)}\\n\")"
      ]
    },
    {
      "cell_type": "markdown",
      "id": "1f6ed8c2",
      "metadata": {
        "id": "1f6ed8c2"
      },
      "source": [
        "# 4. Clasificación automática de opiniones positivas y negativas\n",
        "\n",
        "El objetivo de esta parte será crear un clasificador que permita, dado un texto, identificar la polaridad de su opinión.\n",
        "\n",
        "## 4.1 Clasificación binaria de sentimientos según Logistic Regression"
      ]
    },
    {
      "cell_type": "markdown",
      "id": "32290b6e",
      "metadata": {
        "id": "32290b6e"
      },
      "source": [
        "<div style=\"background-color: #EDF7FF; border-color: #7C9DBF; border-left: 5px solid #7C9DBF; padding: 0.5em;\">\n",
        "<strong>Ejercicio 4.1.1:</strong> Crear un clasificador automático de opiniones positivas y negativas.\n",
        "</div>\n",
        "<br>\n",
        "\n",
        "<b>Pasos a seguir:</b>\n",
        "\n",
        "1. Crear dos listas, una con los textos y otra con las etiquetas de valoración (0 y 1).\n",
        "2. Vectorizar las opiniones con un vectorizador tf.idf. Usad 'word' como analyzer\n",
        "3. Preparar el corpus de entrenamiento y evaluación y entrenar al clasificador con Logistic Regression.\n",
        "4. Utilizar el modelo entrenado para predecir la categoría 1 (positivo) o 0 (negativo) de las opiniones del conjunto de test y mostrar las palabras más informativas para cada categoría."
      ]
    },
    {
      "cell_type": "markdown",
      "id": "3a45ae89",
      "metadata": {
        "id": "3a45ae89"
      },
      "source": [
        "<div style=\"background-color: #F8F7FF; border-color: #7C9DBF; border-left: 5px solid #7C9DBF; padding: 0.5em;\">\n",
        "\n",
        "<i>Primer paso</i>: Crear dos listas. Una con los textos y otra con las etiquetas de valoración (0 y 1).\n",
        "\n",
        "<b>Salida esperada:</b> Lista de las 3 primeras opiniones.\n",
        "</div>"
      ]
    },
    {
      "cell_type": "code",
      "execution_count": null,
      "id": "ec874492",
      "metadata": {
        "id": "ec874492",
        "colab": {
          "base_uri": "https://localhost:8080/"
        },
        "outputId": "86fd898f-689b-46d0-983a-f7b249beba3b"
      },
      "outputs": [
        {
          "output_type": "execute_result",
          "data": {
            "text/plain": [
              "['love love loved the atmosphere every corner of the coffee shop had its own style and there were swings i ordered the matcha latte and it was muy fantastico ordering and getting my drink were pretty streamlined. i ordered on an ipad which included all beverage selections that ranged from coffee to wine desired level of sweetness and a checkout system. i got my latte within minutes i was hoping for a typical heart or feather on my latte but found myself listing out all the possibilities of what the art may be. any ideas',\n",
              " 'very cool decor good drinks nice seating however... just about everything is overpriced. 1.50 extra for 3 ounces of almond milk in a cortado. no wifi music is a bit loud and the mix is odd. pleasant french oldies followed by loud techno. several tables were dirty when we got there. service is average. it feels like a los angeles coffee shot that is out of place.',\n",
              " 'they are located within the northcross mall shopping center facing east toward burnet rd with plenty of parking. i loved their computerized user friendly ordering system it made it easy me to pick choose all the items i wanted to try. i ordered pop tart chicken waffles strawberry waffles photos uploaded . this place is ideal for ordering a few dishes to share with your group. seating is limited since this place is fairly new with lots of visitors. arrive early and be prepared to wait a bit if you with a large grop. store front facing burnet rd see all photos from michelle a. for the factory cafe with a soul']"
            ]
          },
          "metadata": {},
          "execution_count": 89
        }
      ],
      "source": [
        "#############################################\n",
        "# SOLUCIÓN                                 #\n",
        "#############################################\n",
        "opinions = df['clean_text'].to_list()\n",
        "labels = df['sentiment'].to_list()\n",
        "opinions[:3]"
      ]
    },
    {
      "cell_type": "markdown",
      "id": "9720bc32",
      "metadata": {
        "id": "9720bc32"
      },
      "source": [
        "\n",
        "\n",
        "<div style=\"background-color: #F8F7FF; border-color: #7C9DBF; border-left: 5px solid #7C9DBF; padding: 0.5em;\">\n",
        "\n",
        "<i>Segundo paso</i>: Vectorizar las opiniones con un vectorizador tf.idf. Usar 'word' como analyzer.\n",
        "<br>\n",
        "\n",
        "<b>Salida esperada:</b> Imprimir la matriz de los vectores correpsondientes a las primeras 5 opiniones.\n",
        "</div>"
      ]
    },
    {
      "cell_type": "code",
      "execution_count": null,
      "id": "9fbcfdd4",
      "metadata": {
        "id": "9fbcfdd4",
        "colab": {
          "base_uri": "https://localhost:8080/"
        },
        "outputId": "3bcd95d3-cc88-4d0b-a291-cdb623967e8b"
      },
      "outputs": [
        {
          "output_type": "stream",
          "name": "stdout",
          "text": [
            "[[0. 0. 0. ... 0. 0. 0.]\n",
            " [0. 0. 0. ... 0. 0. 0.]\n",
            " [0. 0. 0. ... 0. 0. 0.]\n",
            " [0. 0. 0. ... 0. 0. 0.]\n",
            " [0. 0. 0. ... 0. 0. 0.]]\n"
          ]
        }
      ],
      "source": [
        "#############################################\n",
        "# SOLUCIÓN                                  #\n",
        "#############################################\n",
        "from sklearn.feature_extraction.text import TfidfVectorizer\n",
        "\n",
        "#Definición del vectorizador Tf.idf\n",
        "cv = TfidfVectorizer(\n",
        "    analyzer= 'word'\n",
        " )\n",
        "\n",
        "#Vectorización de los titulares\n",
        "vectorizer = TfidfVectorizer()\n",
        "cv_fit= cv.fit_transform(opinions)\n",
        "\n",
        "matriz_cv_fit = cv_fit.toarray()\n",
        "\n",
        "#Representamos la vectorización de los titulares en forma de arrays\n",
        "print(matriz_cv_fit[:5])"
      ]
    },
    {
      "cell_type": "markdown",
      "id": "3122e026",
      "metadata": {
        "id": "3122e026"
      },
      "source": [
        "<div style=\"background-color: #F8F7FF; border-color: #7C9DBF; border-left: 5px solid #7C9DBF; padding: 0.5em;\">\n",
        "\n",
        "<i>Tercer paso</i>: Preparar el corpus de entrenamiento y evaluación, y entrenar al clasificador con Logistic Regression.\n",
        "<br>\n",
        "<b>Salida esperada:</b> Tiempo de ejecución que conlleva realizar el entrenamiento (fit()).\n",
        "</div>"
      ]
    },
    {
      "cell_type": "markdown",
      "source": [
        "- Preparación del corpus de entrenamiento y de test."
      ],
      "metadata": {
        "id": "s_XzRU5Z6ikd"
      },
      "id": "s_XzRU5Z6ikd"
    },
    {
      "cell_type": "code",
      "execution_count": null,
      "id": "0b251acc",
      "metadata": {
        "id": "0b251acc"
      },
      "outputs": [],
      "source": [
        "#############################################\n",
        "# SOLUCIÓN                                  #\n",
        "#############################################\n",
        "from sklearn.model_selection import train_test_split\n",
        "\n",
        "data = []\n",
        "data_labels = []\n",
        "\n",
        "for i in range(len(opinions)):\n",
        "    data.append(opinions[i])\n",
        "    data_labels.append(labels[i])\n",
        "\n",
        "X_train, X_test, y_train, y_test  = train_test_split(\n",
        "        matriz_cv_fit,\n",
        "        data_labels,     # Etiquetas de los datos\n",
        "        train_size=0.80, # Se dedica el 80% del corpus total al corpus de entrenamiento\n",
        "        random_state=1234)"
      ]
    },
    {
      "cell_type": "markdown",
      "source": [
        "- Entrenamiento."
      ],
      "metadata": {
        "id": "bHRlpHFI6lEm"
      },
      "id": "bHRlpHFI6lEm"
    },
    {
      "cell_type": "code",
      "source": [
        "from sklearn.linear_model import LogisticRegression\n",
        "import time\n",
        "\n",
        "inicio = time.time()\n",
        "#Establecemos el método de clasificación (método logistic regression)\n",
        "classifier = LogisticRegression()\n",
        "#Entrenamiento del clasificador aplicando el método al corpus de entrenamiento\n",
        "log_model = classifier.fit(X=X_train, y=y_train)\n",
        "\n",
        "fin = time.time()\n",
        "print(f\"Tiempo de entrenamiento: {fin-inicio:.3f}\")"
      ],
      "metadata": {
        "colab": {
          "base_uri": "https://localhost:8080/"
        },
        "id": "aQaGayjy6lzZ",
        "outputId": "e5558383-4e33-4520-fcc5-ecd2f8a4086e"
      },
      "id": "aQaGayjy6lzZ",
      "execution_count": null,
      "outputs": [
        {
          "output_type": "stream",
          "name": "stdout",
          "text": [
            "Tiempo de entrenamiento: 2.873\n"
          ]
        }
      ]
    },
    {
      "cell_type": "markdown",
      "id": "8c78a34d",
      "metadata": {
        "id": "8c78a34d"
      },
      "source": [
        "<div style=\"background-color: #F8F7FF; border-color: #7C9DBF; border-left: 5px solid #7C9DBF; padding: 0.5em;\">\n",
        "\n",
        "<i>Cuarto paso</i>: Utilizar el modelo entrenado para predecir la categoría 1 (positivo) o 0 (negativo) de las opiniones del conjunto de test y mostrar las palabras más informativas para cada categoría.\n",
        "<br>\n",
        "<b>Salida esperada:</b> Lista de las 10 palabras más informativas de cada categoría.\n",
        "</div>"
      ]
    },
    {
      "cell_type": "markdown",
      "source": [
        "- Clasificación"
      ],
      "metadata": {
        "id": "Rk8fLF0l8i7u"
      },
      "id": "Rk8fLF0l8i7u"
    },
    {
      "cell_type": "code",
      "execution_count": null,
      "id": "160fc014",
      "metadata": {
        "id": "160fc014",
        "colab": {
          "base_uri": "https://localhost:8080/"
        },
        "outputId": "9e0e3b99-1643-4d79-af2b-2de65b1ca680"
      },
      "outputs": [
        {
          "output_type": "stream",
          "name": "stdout",
          "text": [
            "\n",
            "CLASES POSITIVAS/NEGATIVAS DEL CORPUS DE TEST:\n",
            "===============\n",
            "[1 1 0 ... 1 1 1]\n",
            "\n",
            "FEATURES MÁS INFORMATIVOS EN LAS OPINIONES POSITIVAS Y NEGATIVAS:\n",
            "===============\n",
            "0 -4.697365102942581 not\n",
            "0 -3.0926222908068666 no\n",
            "0 -3.003040220095863 rude\n",
            "0 -2.2710698525443758 overpriced\n",
            "0 -2.2309875712103566 worst\n",
            "0 -1.8288981641060387 was\n",
            "0 -1.8203524591558844 asked\n",
            "0 -1.7319804920490898 ok\n",
            "0 -1.6584952689828614 disappointed\n",
            "0 -1.6374990780698586 50\n",
            "1 3.50210309282256 great\n",
            "1 2.9471986489458035 delicious\n",
            "1 2.653062812992929 and\n",
            "1 2.561604758791619 best\n",
            "1 2.419698739323958 friendly\n",
            "1 2.3273832519651125 love\n",
            "1 2.0802355689882854 amazing\n",
            "1 1.8830554710705067 little\n",
            "1 1.693345082009045 definitely\n",
            "1 1.61048778122937 seating\n",
            "None\n"
          ]
        }
      ],
      "source": [
        "#############################################\n",
        "# SOLUCIÓN                                  #\n",
        "#############################################\n",
        "#Resultados de la clasificación/predicción del clasificador entrenado al corpus de test\n",
        "y_pred = log_model.predict(X_test)\n",
        "\n",
        "print(\"\\nCLASES POSITIVAS/NEGATIVAS DEL CORPUS DE TEST:\\n===============\")\n",
        "\n",
        "print(y_pred)\n",
        "\n",
        "def most_informative_feature_for_binary_classification(vectorizer, classifier, n=10):\n",
        "    class_labels = classifier.classes_\n",
        "    feature_names = vectorizer.get_feature_names_out()\n",
        "    topn_class1 = sorted(zip(classifier.coef_[0], feature_names))[:n]\n",
        "    topn_class2 = sorted(zip(classifier.coef_[0], feature_names))[-n:]\n",
        "\n",
        "    for coef, feat in topn_class1:\n",
        "        print (class_labels[0], coef, feat)\n",
        "\n",
        "    for coef, feat in reversed(topn_class2):\n",
        "        print (class_labels[1], coef, feat)\n",
        "\n",
        "print(\"\\nFEATURES MÁS INFORMATIVOS EN LAS OPINIONES POSITIVAS Y NEGATIVAS:\\n===============\")\n",
        "\n",
        "print(most_informative_feature_for_binary_classification(cv, classifier,n=10))"
      ]
    },
    {
      "cell_type": "markdown",
      "id": "4af23001",
      "metadata": {
        "id": "4af23001"
      },
      "source": [
        "<div style=\"background-color: #EDF7FF; border-color: #7C9DBF; border-left: 5px solid #7C9DBF; padding: 0.5em;\">\n",
        "    \n",
        "<strong>Ejercicio 4.1.2:</strong> Identificar sobre qué aspectos se hacen valoraciones negativas.\n",
        "</div>\n",
        "<br>\n",
        "\n",
        "<b>Pasos a seguir: </b>\n",
        "\n",
        "1. Elegir dos palabras más informativas de la categoría 0 y un conjunto de opiniones en las que aparezcan estas palabras. Preprocesar las opiniones quitando los caracteres de salto de línea.\n",
        "2. Utilizar el diccionario de opiniones (archivo AFINN-111) para extraer la polaridad de cada opinión como la media de los valores de las opinion words del texto.\n",
        "3. Seleccionar opiniones con polaridad negativa que ejemplifiquen los aspectos peor valorados. Comenta cuáles son estos aspectos.tos"
      ]
    },
    {
      "cell_type": "markdown",
      "id": "d8eb0943",
      "metadata": {
        "id": "d8eb0943"
      },
      "source": [
        "<div style=\"background-color: #F8F7FF; border-color: #7C9DBF; border-left: 5px solid #7C9DBF; padding: 0.5em;\">\n",
        "\n",
        "<i>Primer paso</i>: Elegir dos palabras más informativas de la categoría 0 y un conjunto de opiniones en las que aparezcan estas palabras. Preprocesar las opiniones quitando los caracteres de salto de línea.\n",
        "<br>\n",
        "<b>Salida esperada:</b> Lista de las 3 primeras opiniones en las que aparezcan los términos seleccionados.\n",
        "\n",
        "</div>"
      ]
    },
    {
      "cell_type": "markdown",
      "source": [
        "- Cabe mencionar que hemos hecho una lista como pide el enunciado pero somos conscientes de que también podría haberse hecho con diccionarios.\n",
        "\n",
        "- Las dos palabras más informaticas de la categoría 0 son: 'not' y 'no'."
      ],
      "metadata": {
        "id": "uIosKgmaSvgo"
      },
      "id": "uIosKgmaSvgo"
    },
    {
      "cell_type": "code",
      "execution_count": null,
      "id": "7eb6ab69",
      "metadata": {
        "id": "7eb6ab69",
        "colab": {
          "base_uri": "https://localhost:8080/"
        },
        "outputId": "34ccb8e2-e2be-49d9-daab-220737225a4d"
      },
      "outputs": [
        {
          "output_type": "execute_result",
          "data": {
            "text/plain": [
              "['very cool decor good drinks nice seating however... just about everything is overpriced. 1.50 extra for 3 ounces of almond milk in a cortado. no wifi music is a bit loud and the mix is odd. pleasant french oldies followed by loud techno. several tables were dirty when we got there. service is average. it feels like a los angeles coffee shot that is out of place.',\n",
              " \"very cute cafe i think from the moment i stepped in there really was not anything i did not find cute at the factory. from their decor to their cups everything was really cute. it is really the perfect place for a catching up with friends or a coffee date. when you go order there is really the least amount of interaction ever with the workers. you just pick your order on an ipad and they will call your order out after for you to pick up at the counter. the whole thing's pretty novel honestly. i got the viva matcha latte and it was so good perfect amount of sweetness and perfect temperature. i went on a cold night and this cafe is just so cozy it was such a great combination. they have these swings as well which were pretty fun to sit on honestly. prices are what i would expect for a cafe like this not super cheap but not too pricey. there is no wifi here so if you want to study maybe this is not the right place. but overall very nice atmosphere viva matcha latte and cortado\",\n",
              " \"love this place 5 stars for cleanliness 5 stars for fun ambiance/ open space 5 stars for ample seating and comfort 5 stars for convenient parking 5 stars for attentive employees and fast service i am definitely a fan cafe w/ a soul. i finally found a coffee shop i can study at without sacrificing comfort starbucks' uncomfortable chairs . the coffee shop endorses social connection hence wifi is not available. it makes me really happy that a lot of students hang out here with their book bags and laptops and we can all just study in peace and somehow quiet the background music can get pretty loud . unfortunately there will always be that kid who is obnoxiously loud and would like the whole world to know her business. seriously unless it is something intriguing or educational no one cares. in addition as much fun as this place looks it is not child friendly. so parents make sure your children do not hit the table in front of it and knock out the chess set. lastly the sex images in the bathrooms are definitely not appropriate for children. the ambiance is very much like austin very eccentric and hip food and drink presentations are on par. drink prices are reasonable and similar to good ole starbucks. but unlike you are typical coffee shop they have real food such as chicken and waffles. my favorite about this place is the cleanliness. the employees do a good job maintaining the place. also as i watch them make coffees they do it with fines as if they are creating some type of art it is pretty cool in my opinion . in conclusion cafe w/ a soul is probably the best coffee shop i have ever been to. it is like studying in my own home but away from distractions. i am awake bathroom decor see all photos from jay t. for the factory cafe with a soul\"]"
            ]
          },
          "metadata": {},
          "execution_count": 107
        }
      ],
      "source": [
        "#############################################\n",
        "# SOLUCIÓN                                  #\n",
        "#############################################\n",
        "\n",
        "seleccion = []\n",
        "for opinion in opinions:\n",
        "    if re.search(r'\\bnot\\b', opinion) or re.search(r'\\bno\\b', opinion):\n",
        "        opinion = opinion.replace('\\n', ' ').replace('\\r', ' ')\n",
        "        seleccion.append(opinion)\n",
        "\n",
        "seleccion[:3]"
      ]
    },
    {
      "cell_type": "markdown",
      "id": "b5c24dbb",
      "metadata": {
        "id": "b5c24dbb"
      },
      "source": [
        "<div style=\"background-color: #F8F7FF; border-color: #7C9DBF; border-left: 5px solid #7C9DBF; padding: 0.5em;\">\n",
        "\n",
        "<i>Segundo paso</i>: Utilizar el diccionario de opiniones (archivo AFINN-111) para extraer la polaridad de cada opinión como la media de los valores de las opinion words del texto.\n",
        "<br>\n",
        "<b>Salida esperada:</b> Lista de las 3 primeras opioniones y el respectivo puntaje de polaridad.\n",
        "\n",
        "</div>"
      ]
    },
    {
      "cell_type": "code",
      "source": [
        "drive.mount('/content/drive', force_remount=True)\n",
        "!ls \"/content/drive/My Drive/UOC/Análisis_de_textos/PRA1/\""
      ],
      "metadata": {
        "colab": {
          "base_uri": "https://localhost:8080/"
        },
        "id": "Vb3CDbGNNZZv",
        "outputId": "d4b0edf6-3797-4441-f5cc-e543ef94afec"
      },
      "id": "Vb3CDbGNNZZv",
      "execution_count": null,
      "outputs": [
        {
          "output_type": "stream",
          "name": "stdout",
          "text": [
            "AFINN-111.txt  dataset\n"
          ]
        }
      ]
    },
    {
      "cell_type": "code",
      "execution_count": null,
      "id": "895f6b09",
      "metadata": {
        "id": "895f6b09",
        "colab": {
          "base_uri": "https://localhost:8080/"
        },
        "outputId": "7937ff0b-ebca-4237-cf0e-0c4ef69be2bd"
      },
      "outputs": [
        {
          "output_type": "execute_result",
          "data": {
            "text/plain": [
              "[['very cool decor good drinks nice seating however... just about everything is overpriced. 1.50 extra for 3 ounces of almond milk in a cortado. no wifi music is a bit loud and the mix is odd. pleasant french oldies followed by loud techno. several tables were dirty when we got there. service is average. it feels like a los angeles coffee shot that is out of place.',\n",
              "  0.875],\n",
              " [\"very cute cafe i think from the moment i stepped in there really was not anything i did not find cute at the factory. from their decor to their cups everything was really cute. it is really the perfect place for a catching up with friends or a coffee date. when you go order there is really the least amount of interaction ever with the workers. you just pick your order on an ipad and they will call your order out after for you to pick up at the counter. the whole thing's pretty novel honestly. i got the viva matcha latte and it was so good perfect amount of sweetness and perfect temperature. i went on a cold night and this cafe is just so cozy it was such a great combination. they have these swings as well which were pretty fun to sit on honestly. prices are what i would expect for a cafe like this not super cheap but not too pricey. there is no wifi here so if you want to study maybe this is not the right place. but overall very nice atmosphere viva matcha latte and cortado\",\n",
              "  2.176470588235294],\n",
              " [\"love this place 5 stars for cleanliness 5 stars for fun ambiance/ open space 5 stars for ample seating and comfort 5 stars for convenient parking 5 stars for attentive employees and fast service i am definitely a fan cafe w/ a soul. i finally found a coffee shop i can study at without sacrificing comfort starbucks' uncomfortable chairs . the coffee shop endorses social connection hence wifi is not available. it makes me really happy that a lot of students hang out here with their book bags and laptops and we can all just study in peace and somehow quiet the background music can get pretty loud . unfortunately there will always be that kid who is obnoxiously loud and would like the whole world to know her business. seriously unless it is something intriguing or educational no one cares. in addition as much fun as this place looks it is not child friendly. so parents make sure your children do not hit the table in front of it and knock out the chess set. lastly the sex images in the bathrooms are definitely not appropriate for children. the ambiance is very much like austin very eccentric and hip food and drink presentations are on par. drink prices are reasonable and similar to good ole starbucks. but unlike you are typical coffee shop they have real food such as chicken and waffles. my favorite about this place is the cleanliness. the employees do a good job maintaining the place. also as i watch them make coffees they do it with fines as if they are creating some type of art it is pretty cool in my opinion . in conclusion cafe w/ a soul is probably the best coffee shop i have ever been to. it is like studying in my own home but away from distractions. i am awake bathroom decor see all photos from jay t. for the factory cafe with a soul\",\n",
              "  2.0]]"
            ]
          },
          "metadata": {},
          "execution_count": 129
        }
      ],
      "source": [
        "#############################################\n",
        "# SOLUCIÓN                                  #\n",
        "#############################################\n",
        "#Creamos una lista de opinion words y pesos a partir del diccionario AFINN\n",
        "\n",
        "afinn_file_path = '/content/drive/My Drive/UOC/Análisis_de_textos/PRA1/AFINN-111.txt'\n",
        "\n",
        "afinn_list = []\n",
        "\n",
        "with open(afinn_file_path, 'r') as of:\n",
        "    for line in of:\n",
        "        parts = line.strip().split('\\t')\n",
        "        if len(parts) == 2:\n",
        "            word, peso = parts[0], parts[1]\n",
        "            afinn_list.append((word, float(peso)))\n",
        "\n",
        "# Función de cálculo de polaridad\n",
        "def calc_polaridad(opinion_selec, afinn_list):\n",
        "    tokens = word_tokenize(opinion_selec)\n",
        "    peso_token = []\n",
        "    for token in tokens:\n",
        "        for word, peso in afinn_list:\n",
        "            if token == word:\n",
        "                peso_token.append(peso)\n",
        "                break\n",
        "    if peso_token:\n",
        "        return sum(peso_token)/len(peso_token)\n",
        "    else:\n",
        "        return 0.0\n",
        "\n",
        "# Calculamos\n",
        "opiniones_y_polaridad = []\n",
        "for i in range(len(seleccion)):\n",
        "    opinion_text = seleccion[i]\n",
        "    polaridad = calc_polaridad(opinion_text, afinn_list)\n",
        "    opiniones_y_polaridad.append([opinion_text,polaridad])\n",
        "\n",
        "opiniones_y_polaridad[:3]"
      ]
    },
    {
      "cell_type": "markdown",
      "source": [
        "- En estos 3 ejemplos vemos que la polaridad promedio es 0.875, 2.177 y 2.0."
      ],
      "metadata": {
        "id": "b-YgaXNCfTiU"
      },
      "id": "b-YgaXNCfTiU"
    },
    {
      "cell_type": "markdown",
      "id": "1561cfe1",
      "metadata": {
        "id": "1561cfe1"
      },
      "source": [
        "<div style=\"background-color: #F8F7FF; border-color: #7C9DBF; border-left: 5px solid #7C9DBF; padding: 0.5em;\">\n",
        "\n",
        "<i>Tercer paso:</i> Seleccionar opiniones con polaridad negativa que ejemplifiquen los aspectos peor valorados (utilizar un umbral para seleccionar las peores reseñas). Comenta cuáles son estos aspectos.\n",
        "<br>\n",
        "<b>Salida esperada: </b>\n",
        "<br>\n",
        "- Lista de las tres primeras opiniones negativas.\n",
        "<br>\n",
        "- Respuesta a la pregunta ¿Cuáles son los aspectos peor valorados por los clientes?\n",
        "\n",
        "</div>"
      ]
    },
    {
      "cell_type": "code",
      "execution_count": null,
      "id": "412f2bf5",
      "metadata": {
        "id": "412f2bf5",
        "colab": {
          "base_uri": "https://localhost:8080/"
        },
        "outputId": "ffdbedda-bc09-43f5-ba19-7953c1e82ee1"
      },
      "outputs": [
        {
          "output_type": "execute_result",
          "data": {
            "text/plain": [
              "[['updated review had a really bad experience over the weekend. the cashier a male was really rude in the way he interacted with me and the way you spun the check out screen. he spun it with such force it actually rotated back to the point where i was not able to complete the check out until the cashier came back. i will not be going back.',\n",
              "  -3.0],\n",
              " ['updated review while my first visit did not work out the owner personally contacted me and went out of her way to make things right faulty machinery led to a singular bad day. i will be giving cafe creme another try raw thick doughy crepe with a slab of brie',\n",
              "  -3.0],\n",
              " ['this place is okay. and it is close. but 4.75 for a mediocre medium sized iced coffee completely ridiculous pricing. will not be coming back.',\n",
              "  -3.0]]"
            ]
          },
          "metadata": {},
          "execution_count": 131
        }
      ],
      "source": [
        "#############################################\n",
        "# SOLUCIÓN                                  #\n",
        "#############################################\n",
        "top_3 = sorted(opiniones_y_polaridad, key=lambda x: x[1], reverse=False)[:3]\n",
        "top_3"
      ]
    },
    {
      "cell_type": "markdown",
      "source": [
        "- Los aspectos peor valorados son el mal trato a la clientela por parte del personal y los precios demasiado altos."
      ],
      "metadata": {
        "id": "W7iJFZaaTjGs"
      },
      "id": "W7iJFZaaTjGs"
    },
    {
      "cell_type": "markdown",
      "id": "fd22b5d6-b863-4ff6-92a6-a4e35325fa38",
      "metadata": {
        "id": "fd22b5d6-b863-4ff6-92a6-a4e35325fa38"
      },
      "source": [
        "# 5. Evaluación: comparación de modelos y discusión de resultados"
      ]
    },
    {
      "cell_type": "markdown",
      "id": "b69d8d2f",
      "metadata": {
        "id": "b69d8d2f"
      },
      "source": [
        "<div style=\"background-color: #EDF7FF; border-color: #7C9DBF; border-left: 5px solid #7C9DBF; padding: 0.5em;\">\n",
        "\n",
        "<strong>Ejercicio 5.1:</strong> Obtén los resultados de las métricas de evaluación del clasificador basado en regresión logística.\n",
        "\n",
        "<b>Salida esperada: </b> Métricas de redimiento del modelo de regresión logística (por clase).\n",
        "</div>"
      ]
    },
    {
      "cell_type": "code",
      "execution_count": null,
      "id": "afc6ad8f",
      "metadata": {
        "id": "afc6ad8f",
        "colab": {
          "base_uri": "https://localhost:8080/"
        },
        "outputId": "bc6be2c9-338b-4f65-c411-11dce42f31bb"
      },
      "outputs": [
        {
          "output_type": "stream",
          "name": "stdout",
          "text": [
            "              precision    recall  f1-score   support\n",
            "\n",
            "           0       0.94      0.20      0.33       144\n",
            "           1       0.90      1.00      0.95      1017\n",
            "\n",
            "    accuracy                           0.90      1161\n",
            "   macro avg       0.92      0.60      0.64      1161\n",
            "weighted avg       0.90      0.90      0.87      1161\n",
            "\n"
          ]
        }
      ],
      "source": [
        "#############################################\n",
        "# SOLUCIÓN MODELO REGRESIÓN LOGÍSTICA              #\n",
        "#############################################\n",
        "from sklearn.metrics import classification_report\n",
        "print(classification_report(y_test, y_pred))\n"
      ]
    },
    {
      "cell_type": "markdown",
      "id": "82c5988e-ce7e-4b4c-afca-023941c34fa7",
      "metadata": {
        "id": "82c5988e-ce7e-4b4c-afca-023941c34fa7"
      },
      "source": [
        "<div style=\"background-color: #EDF7FF; border-color: #7C9DBF; border-left: 5px solid #7C9DBF; padding: 0.5em;\">\n",
        "\n",
        "<strong>Ejercicio 5.2:</strong> Obtener también los resultados de las métricas de evaluación para un clasificador diferente. Por ejemplo, utilizar SVM.\n",
        "<br>\n",
        "<b>Salida esperada: </b>\n",
        "<br>\n",
        "- Tiempo de ejecución que conlleva realizar el entrenamiento (fit()).\n",
        "<br>\n",
        "- Métricas de redimiento del modelo SVM (por clase).\n",
        "<br>\n",
        "</div>"
      ]
    },
    {
      "cell_type": "code",
      "execution_count": null,
      "id": "210a7df8",
      "metadata": {
        "id": "210a7df8",
        "colab": {
          "base_uri": "https://localhost:8080/"
        },
        "outputId": "ee3adad5-b73f-4154-d99d-f575dc4638f8"
      },
      "outputs": [
        {
          "output_type": "stream",
          "name": "stdout",
          "text": [
            "Tiempo de entrenamiento: 161.208\n"
          ]
        }
      ],
      "source": [
        "#############################################\n",
        "# SOLUCIÓN MODELO SVM                       #\n",
        "#############################################\n",
        "from sklearn import svm\n",
        "\n",
        "inicio = time.time()\n",
        "#Establecemos el método de clasificación (método logistic regression)\n",
        "classifier = svm.SVC()\n",
        "#Entrenamiento del clasificador aplicando el método al corpus de entrenamiento\n",
        "log_model = classifier.fit(X=X_train, y=y_train)\n",
        "\n",
        "fin = time.time()\n",
        "print(f\"Tiempo de entrenamiento: {fin-inicio:.3f}\")"
      ]
    },
    {
      "cell_type": "code",
      "source": [
        "y_pred_svm = classifier.predict(X_test)\n",
        "print(classification_report(y_test, y_pred_svm))"
      ],
      "metadata": {
        "colab": {
          "base_uri": "https://localhost:8080/"
        },
        "id": "D00PueR7WK-3",
        "outputId": "3e056fb4-98b4-4372-e87b-57ea7bb816ab"
      },
      "id": "D00PueR7WK-3",
      "execution_count": null,
      "outputs": [
        {
          "output_type": "stream",
          "name": "stdout",
          "text": [
            "              precision    recall  f1-score   support\n",
            "\n",
            "           0       0.94      0.23      0.37       144\n",
            "           1       0.90      1.00      0.95      1017\n",
            "\n",
            "    accuracy                           0.90      1161\n",
            "   macro avg       0.92      0.61      0.66      1161\n",
            "weighted avg       0.91      0.90      0.88      1161\n",
            "\n"
          ]
        }
      ]
    }
  ],
  "metadata": {
    "colab": {
      "provenance": []
    },
    "kernelspec": {
      "display_name": "Python 3 (ipykernel)",
      "language": "python",
      "name": "python3"
    },
    "language_info": {
      "codemirror_mode": {
        "name": "ipython",
        "version": 3
      },
      "file_extension": ".py",
      "mimetype": "text/x-python",
      "name": "python",
      "nbconvert_exporter": "python",
      "pygments_lexer": "ipython3",
      "version": "3.10.8"
    }
  },
  "nbformat": 4,
  "nbformat_minor": 5
}